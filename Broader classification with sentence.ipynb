{
 "cells": [
  {
   "cell_type": "markdown",
   "metadata": {},
   "source": [
    "# Tune of SKOS relation classifier with sentence examples\n",
    "Sentences catched from Leipzig corpus[https://wortschatz.uni-leipzig.de/en/download] and vectorized by Doc2Vec."
   ]
  },
  {
   "cell_type": "code",
   "execution_count": 33,
   "metadata": {},
   "outputs": [
    {
     "name": "stdout",
     "output_type": "stream",
     "text": [
      "1826\n",
      "25926\n"
     ]
    },
    {
     "name": "stderr",
     "output_type": "stream",
     "text": [
      "c:\\work\\2023\\venv\\imgtest\\lib\\site-packages\\IPython\\core\\interactiveshell.py:3072: DtypeWarning: Columns (1816,1825) have mixed types.Specify dtype option on import or set low_memory=False.\n",
      "  interactivity=interactivity, compiler=compiler, result=result)\n"
     ]
    }
   ],
   "source": [
    "import pandas as pd\n",
    "import numpy as np\n",
    "\n",
    "data = pd.read_csv('DET_SKOS_with_text_woheader.csv', sep=',', error_bad_lines=True, header=None)\n",
    "\n",
    "sample_size = data.shape[0]\n",
    "print(data.shape[1])\n",
    "print(data.shape[0])\n",
    "#print(labels)\n",
    "\n"
   ]
  },
  {
   "cell_type": "code",
   "execution_count": 56,
   "metadata": {},
   "outputs": [
    {
     "data": {
      "text/plain": [
       "0        1\n",
       "1        1\n",
       "2        0\n",
       "3        0\n",
       "4        0\n",
       "        ..\n",
       "25921    0\n",
       "25922    0\n",
       "25923    0\n",
       "25924    0\n",
       "25925    0\n",
       "Name: 1806, Length: 25926, dtype: int64"
      ]
     },
     "execution_count": 56,
     "metadata": {},
     "output_type": "execute_result"
    }
   ],
   "source": [
    "data[1806] #1-broader"
   ]
  },
  {
   "cell_type": "code",
   "execution_count": 37,
   "metadata": {},
   "outputs": [],
   "source": [
    "X = data.iloc[:,3:1805].astype(float)"
   ]
  },
  {
   "cell_type": "code",
   "execution_count": 57,
   "metadata": {},
   "outputs": [],
   "source": [
    "Y =  data[1806].astype(int)"
   ]
  },
  {
   "cell_type": "code",
   "execution_count": 39,
   "metadata": {},
   "outputs": [],
   "source": [
    "import tensorflow as tf"
   ]
  },
  {
   "cell_type": "code",
   "execution_count": 58,
   "metadata": {},
   "outputs": [],
   "source": [
    "Y_cat=tf.keras.utils.to_categorical(Y, num_classes=None, dtype=\"int\")"
   ]
  },
  {
   "cell_type": "code",
   "execution_count": 61,
   "metadata": {},
   "outputs": [],
   "source": [
    "from sklearn.model_selection import train_test_split\n",
    "X_train, X_test, Y_train, Y_test = train_test_split(X, Y_cat, test_size=0.25, random_state=50)"
   ]
  },
  {
   "cell_type": "code",
   "execution_count": 68,
   "metadata": {},
   "outputs": [
    {
     "name": "stdout",
     "output_type": "stream",
     "text": [
      "Epoch 1/20\n",
      "3889/3889 [==============================] - 26s 7ms/step - loss: 0.6440 - accuracy: 0.7238 - val_loss: 0.6139 - val_accuracy: 0.7200\n",
      "Epoch 2/20\n",
      "3889/3889 [==============================] - 26s 7ms/step - loss: 0.5978 - accuracy: 0.7238 - val_loss: 0.5910 - val_accuracy: 0.7200\n",
      "Epoch 3/20\n",
      "3889/3889 [==============================] - 26s 7ms/step - loss: 0.5819 - accuracy: 0.7238 - val_loss: 0.5800 - val_accuracy: 0.7200\n",
      "Epoch 4/20\n",
      "3889/3889 [==============================] - 26s 7ms/step - loss: 0.5695 - accuracy: 0.7238 - val_loss: 0.5662 - val_accuracy: 0.7200\n",
      "Epoch 5/20\n",
      "3889/3889 [==============================] - 26s 7ms/step - loss: 0.5523 - accuracy: 0.7238 - val_loss: 0.5474 - val_accuracy: 0.7200\n",
      "Epoch 6/20\n",
      "3889/3889 [==============================] - 27s 7ms/step - loss: 0.5322 - accuracy: 0.7238 - val_loss: 0.5276 - val_accuracy: 0.7200\n",
      "Epoch 7/20\n",
      "3889/3889 [==============================] - 26s 7ms/step - loss: 0.5126 - accuracy: 0.7238 - val_loss: 0.5089 - val_accuracy: 0.7200\n",
      "Epoch 8/20\n",
      "3889/3889 [==============================] - 25s 7ms/step - loss: 0.4932 - accuracy: 0.7238 - val_loss: 0.4914 - val_accuracy: 0.7200\n",
      "Epoch 9/20\n",
      "3889/3889 [==============================] - 26s 7ms/step - loss: 0.4773 - accuracy: 0.7375 - val_loss: 0.4772 - val_accuracy: 0.7468\n",
      "Epoch 10/20\n",
      "3889/3889 [==============================] - 26s 7ms/step - loss: 0.4645 - accuracy: 0.7471 - val_loss: 0.4695 - val_accuracy: 0.7471\n",
      "Epoch 11/20\n",
      "3889/3889 [==============================] - 25s 6ms/step - loss: 0.4559 - accuracy: 0.7780 - val_loss: 0.4579 - val_accuracy: 0.7922\n",
      "Epoch 12/20\n",
      "3889/3889 [==============================] - 25s 7ms/step - loss: 0.4470 - accuracy: 0.7969 - val_loss: 0.4519 - val_accuracy: 0.8050\n",
      "Epoch 13/20\n",
      "3889/3889 [==============================] - 27s 7ms/step - loss: 0.4392 - accuracy: 0.8010 - val_loss: 0.4431 - val_accuracy: 0.8050\n",
      "Epoch 14/20\n",
      "3889/3889 [==============================] - 26s 7ms/step - loss: 0.4333 - accuracy: 0.7966 - val_loss: 0.4347 - val_accuracy: 0.8042\n",
      "Epoch 15/20\n",
      "3889/3889 [==============================] - 25s 6ms/step - loss: 0.4237 - accuracy: 0.7994 - val_loss: 0.4322 - val_accuracy: 0.8035\n",
      "Epoch 16/20\n",
      "3889/3889 [==============================] - 25s 6ms/step - loss: 0.4189 - accuracy: 0.8005 - val_loss: 0.4297 - val_accuracy: 0.7953\n",
      "Epoch 17/20\n",
      "3889/3889 [==============================] - 25s 6ms/step - loss: 0.4137 - accuracy: 0.8001 - val_loss: 0.4206 - val_accuracy: 0.7990\n",
      "Epoch 18/20\n",
      "3889/3889 [==============================] - 25s 6ms/step - loss: 0.4091 - accuracy: 0.8010 - val_loss: 0.4183 - val_accuracy: 0.7999\n",
      "Epoch 19/20\n",
      "3889/3889 [==============================] - 26s 7ms/step - loss: 0.4060 - accuracy: 0.8036 - val_loss: 0.4175 - val_accuracy: 0.7981\n",
      "Epoch 20/20\n",
      "3889/3889 [==============================] - 25s 6ms/step - loss: 0.4045 - accuracy: 0.8037 - val_loss: 0.4174 - val_accuracy: 0.7982\n",
      "\n",
      "history dict: {'loss': [0.6439809203147888, 0.5978046655654907, 0.5818871259689331, 0.5694936513900757, 0.5523391962051392, 0.5321946740150452, 0.5125842690467834, 0.4931943118572235, 0.4772627353668213, 0.46446293592453003, 0.45593270659446716, 0.4469853341579437, 0.43915417790412903, 0.43332746624946594, 0.42369502782821655, 0.41890937089920044, 0.4137182831764221, 0.40908658504486084, 0.40599924325942993, 0.40448203682899475], 'accuracy': [0.7238222360610962, 0.7238222360610962, 0.7238222360610962, 0.7238222360610962, 0.7238222360610962, 0.7238222360610962, 0.7238222360610962, 0.7238222360610962, 0.7375025749206543, 0.7471199631690979, 0.778029203414917, 0.7969039082527161, 0.8010182976722717, 0.7965953350067139, 0.7994239926338196, 0.8004525899887085, 0.8001440167427063, 0.8009668588638306, 0.8035898208618164, 0.803692638874054], 'val_loss': [0.6138566732406616, 0.591040849685669, 0.5800263285636902, 0.5662124752998352, 0.5474040508270264, 0.527590274810791, 0.5088562965393066, 0.49142953753471375, 0.47715142369270325, 0.46954357624053955, 0.45791563391685486, 0.45187607407569885, 0.4431363344192505, 0.43469908833503723, 0.43220680952072144, 0.4296559691429138, 0.4205699563026428, 0.4183107316493988, 0.4174593389034271, 0.41741424798965454], 'val_accuracy': [0.7199938297271729, 0.7199938297271729, 0.7199938297271729, 0.7199938297271729, 0.7199938297271729, 0.7199938297271729, 0.7199938297271729, 0.7199938297271729, 0.7468373775482178, 0.74714595079422, 0.7921937704086304, 0.8049984574317932, 0.8049984574317932, 0.8042271137237549, 0.8034557104110718, 0.7952792644500732, 0.798981785774231, 0.7999074459075928, 0.7980561852455139, 0.7982104420661926]}\n",
      "\n",
      "# Оцениваем на тестовых данных\n",
      "926/926 [==============================] - 2s 2ms/step - loss: 0.4174 - accuracy: 0.7982\n",
      "test loss, test acc: [0.41741475462913513, 0.7982104420661926]\n"
     ]
    }
   ],
   "source": [
    "from tensorflow import keras\n",
    "from tensorflow.keras import layers\n",
    "\n",
    "inputs = keras.Input(shape=(1802,), name='digits')\n",
    "\n",
    "x = layers.Dense(1000, activation='softmax', name='dense_1')(inputs)\n",
    "#y = layers.Dense(650, activation='softmax', name='dense_2')(x)\n",
    "#z = layers.Dense(350, activation='softmax', name='dense_3')(y)\n",
    "z1 = layers.Dense(150, activation='softmax', name='dense_4')(x)\n",
    "#x = layers.Dense(50, activation='relu', name='dense_5')(x)\n",
    "outputs = layers.Dense(2, activation='softmax', name='predictions')(z1)\n",
    "model = keras.Model(inputs=inputs, outputs=outputs)\n",
    "\n",
    "model.compile(optimizer=keras.optimizers.Adam(learning_rate=0.0001),#RMSprop(),\n",
    "            loss='binary_crossentropy',\n",
    "            metrics=['accuracy']\n",
    "            )\n",
    "\n",
    "tf.keras.callbacks.ModelCheckpoint(\n",
    "    \"cnn.hdf5\", monitor='val_loss', verbose=1, save_best_only=False,\n",
    "    save_weights_only=False, mode='auto', save_freq='epoch'\n",
    "    \n",
    ")\n",
    "\n",
    "with tf.device('/gpu:0'):\n",
    "    history=model.fit(X_train, Y_train, batch_size=5, epochs=20, verbose=1,shuffle=1, validation_data=(X_test, Y_test))\n",
    "\n",
    "print('\\nhistory dict:', history.history)\n",
    "\n",
    "print('\\n# Оцениваем на тестовых данных')\n",
    "results = model.evaluate(X_test, Y_test, batch_size=7)\n",
    "print('test loss, test acc:', results)\n",
    "\n",
    "\n"
   ]
  },
  {
   "cell_type": "code",
   "execution_count": 78,
   "metadata": {},
   "outputs": [
    {
     "data": {
      "image/png": "[encoded data removed]",
      "text/plain": [
       "<Figure size 1152x288 with 2 Axes>"
      ]
     },
     "metadata": {},
     "output_type": "display_data"
    }
   ],
   "source": [
    "import numpy as np\n",
    "import matplotlib.pyplot as plt\n",
    "\n",
    "plt.style.use('ggplot')\n",
    "\n",
    "\n",
    "def plot_metrix(ax, x1, x2, title):\n",
    "    ax.plot(range(1, len(x1) + 1), x1, label='train')\n",
    "    ax.plot(range(1, len(x2) + 1), x2, label='val')\n",
    "    ax.set_ylabel(title)\n",
    "    ax.set_xlabel('Epoch')\n",
    "    ax.legend()\n",
    "    ax.margins(0)\n",
    "\n",
    "\n",
    "def plot_history(history):\n",
    "    fig, axes = plt.subplots(ncols=2, nrows=1, figsize=(16, 4))\n",
    "    ax1, ax2 = axes.ravel()\n",
    "\n",
    "    plot_metrix(ax1, history.history['accuracy'], history.history['val_accuracy'], 'Recall')\n",
    "    plot_metrix(ax2, history.history['loss'], history.history['val_loss'], 'Loss')\n",
    "\n",
    "    plt.show()\n",
    "\n",
    "\n",
    "plot_history(history)"
   ]
  },
  {
   "cell_type": "code",
   "execution_count": 80,
   "metadata": {},
   "outputs": [
    {
     "name": "stdout",
     "output_type": "stream",
     "text": [
      "Model: \"model_16\"\n",
      "_________________________________________________________________\n",
      "Layer (type)                 Output Shape              Param #   \n",
      "=================================================================\n",
      "digits (InputLayer)          [(None, 1802)]            0         \n",
      "_________________________________________________________________\n",
      "dense_1 (Dense)              (None, 1000)              1803000   \n",
      "_________________________________________________________________\n",
      "dense_4 (Dense)              (None, 150)               150150    \n",
      "_________________________________________________________________\n",
      "predictions (Dense)          (None, 2)                 302       \n",
      "=================================================================\n",
      "Total params: 1,953,452\n",
      "Trainable params: 1,953,452\n",
      "Non-trainable params: 0\n",
      "_________________________________________________________________\n"
     ]
    }
   ],
   "source": [
    "model.summary()"
   ]
  },
  {
   "cell_type": "code",
   "execution_count": null,
   "metadata": {},
   "outputs": [],
   "source": []
  }
 ],
 "metadata": {
  "kernelspec": {
   "display_name": "Python 3",
   "language": "python",
   "name": "python3"
  },
  "language_info": {
   "codemirror_mode": {
    "name": "ipython",
    "version": 3
   },
   "file_extension": ".py",
   "mimetype": "text/x-python",
   "name": "python",
   "nbconvert_exporter": "python",
   "pygments_lexer": "ipython3",
   "version": "3.6.6"
  }
 },
 "nbformat": 4,
 "nbformat_minor": 1
}
