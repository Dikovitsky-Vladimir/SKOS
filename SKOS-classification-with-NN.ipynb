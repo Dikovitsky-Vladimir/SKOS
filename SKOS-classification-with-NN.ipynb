{
 "cells": [
  {
   "cell_type": "markdown",
   "metadata": {},
   "source": [
    "# SKOS relation classifier using Convolutional Neural Networks \n"
   ]
  },
  {
   "cell_type": "markdown",
   "metadata": {},
   "source": [
    "## 1. Loading  data"
   ]
  },
  {
   "cell_type": "code",
   "execution_count": 1,
   "metadata": {},
   "outputs": [
    {
     "name": "stdout",
     "output_type": "stream",
     "text": [
      "1807\n",
      "6334\n"
     ]
    }
   ],
   "source": [
    "import pandas as pd\n",
    "import numpy as np\n",
    "data = pd.read_csv('DET_relations_with_vectors_and_similarity.csv', sep='|', error_bad_lines=True, header=None, skiprows=[0])\n",
    "#(1-related, 2-broader, 3-narrower)\n",
    "sample_size = data.shape[0]\n",
    "print(data.shape[1])\n",
    "print(data.shape[0])"
   ]
  },
  {
   "cell_type": "code",
   "execution_count": 40,
   "metadata": {},
   "outputs": [
    {
     "name": "stdout",
     "output_type": "stream",
     "text": [
      "1808\n",
      "21453\n"
     ]
    }
   ],
   "source": [
    "data2 = pd.read_csv('DET_SKOS_with_text/DET_SKOS_with_text.csv', sep='|', error_bad_lines=True, header=None, skiprows=[0])\n",
    "print(data2.shape[1])\n",
    "print(data2.shape[0])"
   ]
  },
  {
   "cell_type": "code",
   "execution_count": 41,
   "metadata": {},
   "outputs": [
    {
     "name": "stdout",
     "output_type": "stream",
     "text": [
      "1807\n",
      "25529\n"
     ]
    }
   ],
   "source": [
    "data2 = pd.read_csv('EuroVoc_relations.csv', sep='|', error_bad_lines=True, header=None, skiprows=[0])\n",
    "print(data2.shape[1])\n",
    "print(data2.shape[0])"
   ]
  },
  {
   "cell_type": "code",
   "execution_count": 3,
   "metadata": {},
   "outputs": [
    {
     "name": "stdout",
     "output_type": "stream",
     "text": [
      "        0         1                   2         3         4        5     \\\n",
      "0  financing  narrower  national financing -0.056675  0.035477  0.38898   \n",
      "1  financing  narrower           insurance -0.056675  0.035477  0.38898   \n",
      "2  financing  narrower        co-financing -0.056675  0.035477  0.38898   \n",
      "\n",
      "      6       7        8       9     ...      1797      1798      1799  \\\n",
      "0  0.20214 -0.8511  0.44458 -2.5219  ... -0.011671 -0.047043 -0.049948   \n",
      "1  0.20214 -0.8511  0.44458 -2.5219  ... -0.181320 -0.288950 -0.424160   \n",
      "2  0.20214 -0.8511  0.44458 -2.5219  ... -0.000419 -0.008418  0.127442   \n",
      "\n",
      "       1800      1801      1802      1803      1804      1805  1806  \n",
      "0  0.140644 -0.197608 -0.167535  0.040048 -0.103548 -0.075693     3  \n",
      "1  0.246160 -0.181430 -0.848650 -0.482410  0.555980 -0.192040     3  \n",
      "2  0.016293  0.087195 -0.000012  0.009600  0.010503 -0.017263     3  \n",
      "\n",
      "[3 rows x 1807 columns]\n"
     ]
    }
   ],
   "source": [
    "print(data[0:3])"
   ]
  },
  {
   "cell_type": "code",
   "execution_count": 31,
   "metadata": {},
   "outputs": [
    {
     "name": "stdout",
     "output_type": "stream",
     "text": [
      "this included satellite manufacture, launch services, ground station construction, project financing, insurance and training.\n"
     ]
    }
   ],
   "source": [
    "print(data[1807][10]) #sentence with skos pair example "
   ]
  },
  {
   "cell_type": "code",
   "execution_count": null,
   "metadata": {},
   "outputs": [],
   "source": [
    "pd.concat([data,data1], axis=1)"
   ]
  },
  {
   "cell_type": "markdown",
   "metadata": {},
   "source": [
    "## 2. Creation doc2vec model for sentences"
   ]
  },
  {
   "cell_type": "markdown",
   "metadata": {},
   "source": [
    "version 1: Learn doc2vec using w2v model glove.6B.300d.bin "
   ]
  },
  {
   "cell_type": "code",
   "execution_count": 56,
   "metadata": {},
   "outputs": [],
   "source": [
    "from gensim.test.utils import common_texts\n",
    "from gensim.models.doc2vec import Doc2Vec, TaggedDocument\n",
    "documents = [TaggedDocument(doc, [i]) for i, doc in enumerate(data[1807]) ]\n",
    "model = Doc2Vec(documents, vector_size=300, window=2, min_count=1, workers=4)"
   ]
  },
  {
   "cell_type": "code",
   "execution_count": 58,
   "metadata": {},
   "outputs": [],
   "source": [
    "from gensim.test.utils import get_tmpfile\n",
    "model.save('d2v')"
   ]
  },
  {
   "cell_type": "code",
   "execution_count": 59,
   "metadata": {},
   "outputs": [],
   "source": [
    "from gensim.test.utils import common_texts\n",
    "from gensim.models.doc2vec import Doc2Vec, TaggedDocument\n",
    "from gensim.test.utils import get_tmpfile\n",
    "model = Doc2Vec.load('d2v')  "
   ]
  },
  {
   "cell_type": "code",
   "execution_count": 60,
   "metadata": {},
   "outputs": [],
   "source": [
    "vector = model.infer_vector([data[1807][10]])"
   ]
  },
  {
   "cell_type": "code",
   "execution_count": 61,
   "metadata": {},
   "outputs": [
    {
     "name": "stdout",
     "output_type": "stream",
     "text": [
      "[-5.32460690e-04 -1.02543749e-03 -3.54235322e-04  3.34173092e-04\n",
      "  4.64170414e-04  8.89081624e-04  1.33694755e-03  1.71160718e-04\n",
      "  9.70604247e-04  1.40406634e-03 -1.45082094e-03 -3.86855012e-04\n",
      "  5.49832359e-04 -8.40430730e-04  1.59280899e-03  5.17901091e-04\n",
      " -3.07378883e-04  3.15133278e-04  8.24002025e-04  1.16335868e-03\n",
      " -9.06945555e-04  3.50807059e-05 -3.69356479e-04  1.00273255e-03\n",
      "  4.62539698e-04 -1.39928330e-03  2.55582883e-04  1.44802313e-03\n",
      " -7.85864249e-04 -1.86246194e-04  4.82530550e-06 -4.61453485e-04\n",
      " -7.57822534e-04  1.52424397e-03  7.49113096e-04 -1.05305691e-04\n",
      "  4.81404539e-04 -1.62749144e-04 -5.10471058e-04  9.59155499e-04\n",
      " -2.16216256e-04 -1.38301199e-04 -2.70434757e-05  1.58524397e-03\n",
      "  1.28486997e-03 -8.14087049e-04 -1.13212760e-03  2.12709929e-04\n",
      "  5.79662097e-04  8.42102105e-04  1.04277383e-03  5.68517891e-04\n",
      " -9.84888524e-04 -1.16782752e-03 -4.91584709e-04  3.21671861e-04\n",
      "  1.26734725e-03 -2.91924604e-04  3.31065734e-04 -1.81067808e-04\n",
      " -1.33650342e-03  1.60337135e-04 -1.11827103e-04 -7.55507790e-05\n",
      " -1.38871616e-03  1.52313383e-03  1.16202282e-03 -6.42851985e-04\n",
      "  1.10075239e-03 -1.78327682e-04 -6.83524413e-04  1.45351898e-03\n",
      "  1.35905016e-03 -1.08765578e-03 -1.21361110e-03  6.71721995e-04\n",
      "  1.44053029e-03 -1.93235450e-04 -7.34407105e-04  1.34173199e-03\n",
      " -3.14171106e-04 -5.77901701e-05 -6.43672247e-04  9.42733837e-04\n",
      " -8.47176474e-04 -1.13668109e-04 -1.13319373e-03 -3.22065665e-04\n",
      "  2.75205330e-05  6.65347499e-04  1.30118011e-03 -5.06387965e-04\n",
      "  9.60587116e-04 -1.25664473e-03 -1.03676948e-03 -9.81407706e-04\n",
      " -6.98515563e-04  1.36203354e-03  5.69940084e-06 -8.95569101e-04\n",
      " -4.47167404e-05 -1.52929802e-03  2.28832781e-04  1.29592663e-03\n",
      " -7.38563467e-05  1.36894116e-03  5.11643630e-05 -1.16285264e-04\n",
      " -1.35658483e-03  4.17546544e-04 -6.81314152e-04  3.13351717e-04\n",
      "  4.11032728e-04  4.36359900e-04 -1.51684403e-03 -3.75054486e-04\n",
      " -6.38912839e-04  8.93788587e-04  1.36286230e-03  9.05924651e-04\n",
      " -1.08868454e-03  2.20003029e-04 -7.70365645e-04 -1.08161382e-03\n",
      " -1.43288192e-03  3.70231603e-04 -6.93064590e-04 -1.04334403e-03\n",
      "  8.96029524e-04 -7.94357504e-04 -7.45177211e-04  7.57216010e-04\n",
      " -6.68701192e-04 -3.94250819e-04  7.78777350e-04 -1.07123295e-03\n",
      " -1.34703424e-03  7.86112272e-04  1.49500649e-03  3.95272655e-04\n",
      "  1.15466921e-03 -1.41311192e-03 -1.29977503e-04  4.36843286e-04\n",
      " -1.39913673e-03  1.49672467e-03  1.74913963e-04  4.37203271e-04\n",
      "  4.58170747e-04 -2.27250683e-04 -2.76226492e-04  4.27491061e-04\n",
      "  1.16556277e-03 -1.48699747e-03  1.38384826e-03  3.76398326e-04\n",
      "  1.46240194e-03 -7.92884210e-04  8.29949044e-04  3.52553121e-04\n",
      "  8.27820040e-04 -2.97226157e-04  2.35778381e-04 -1.29274442e-03\n",
      "  4.76560381e-05  1.18297420e-03 -1.15161960e-03 -8.74708174e-04\n",
      " -8.62411282e-04  1.00512174e-03 -5.06290817e-04  8.83733330e-04\n",
      " -1.44680857e-03  4.66582453e-04  5.55483159e-04  1.29869950e-04\n",
      " -1.76848582e-04 -6.11878524e-04  8.32900056e-04 -4.45867627e-04\n",
      "  2.27282406e-04 -1.10533449e-03 -5.66028117e-04  2.79988104e-04\n",
      "  1.02742808e-03 -4.80744027e-04  4.83096694e-04 -1.08243967e-03\n",
      " -4.79470124e-04  1.59233273e-03 -1.60724379e-03  3.89010856e-05\n",
      "  5.02274896e-04 -1.38072635e-03 -3.50441733e-05  9.89427441e-04\n",
      " -1.08529010e-03 -3.74959403e-04  6.35305536e-04  5.13011182e-04\n",
      " -2.69868819e-04 -5.46666910e-04 -6.54117553e-04  4.99622372e-04\n",
      " -1.18522043e-03 -1.25402980e-03  1.13102631e-03 -1.56324462e-03\n",
      "  6.63014711e-04  1.58384675e-03  4.49325977e-04 -2.87487725e-04\n",
      " -4.61233605e-04  1.57770596e-03  1.63548731e-03 -1.44580454e-05\n",
      " -4.62893426e-04 -5.03624149e-04 -6.27606118e-04  5.07699209e-04\n",
      " -8.85278801e-04 -8.47323274e-04 -1.29827135e-03  5.93060511e-04\n",
      " -8.41847737e-04  3.80512676e-04 -1.59352971e-03 -1.46805355e-03\n",
      "  8.05352116e-04 -1.36099046e-03  7.30409054e-04  9.16834397e-04\n",
      " -9.99328695e-05 -8.03916424e-04  9.28836162e-05  1.46717369e-03\n",
      "  9.20715218e-04 -5.62398229e-04 -1.02112687e-03  8.04163574e-05\n",
      "  8.25737516e-06 -1.55268272e-03  1.04499666e-03 -3.24079505e-04\n",
      "  1.06173474e-03  1.36273052e-03  6.92715112e-04 -5.51539815e-05\n",
      "  3.84768908e-04  8.49813205e-06 -3.06027941e-04  1.40768732e-03\n",
      "  7.72242260e-04 -5.94112847e-04  2.12732397e-04 -1.61613745e-03\n",
      "  5.29116718e-04 -1.38672011e-03 -2.55912106e-04 -5.40836540e-04\n",
      "  1.27391471e-03  1.92356805e-04 -3.86912521e-04  4.23151156e-04\n",
      " -9.67712782e-04  3.48974980e-04  1.21554080e-03 -1.21080293e-03\n",
      "  1.26405328e-03  8.13660445e-05 -1.46073475e-03  1.63525937e-03\n",
      "  1.02179439e-03 -8.68149276e-04 -2.08213474e-04 -6.02433167e-04\n",
      "  6.85457198e-04 -3.29790200e-04  1.15057011e-03  9.40517697e-04\n",
      "  1.53248874e-03  6.97704018e-05 -1.01986038e-03  1.43120135e-03\n",
      "  1.64987787e-03 -5.99697873e-04  1.42608350e-03  3.79454665e-04\n",
      " -1.54960889e-03  2.75203842e-04  1.08146726e-03 -4.70361236e-04\n",
      "  6.54597359e-04 -3.31211864e-04  1.13217416e-03 -1.43864215e-03\n",
      "  1.34674204e-03  9.39357386e-04 -1.63565308e-03 -1.46142044e-03]\n"
     ]
    }
   ],
   "source": [
    "print(vector)"
   ]
  },
  {
   "cell_type": "code",
   "execution_count": 62,
   "metadata": {},
   "outputs": [
    {
     "name": "stderr",
     "output_type": "stream",
     "text": [
      "IOPub message rate exceeded.\n",
      "The notebook server will temporarily stop sending output\n",
      "to the client in order to avoid crashing it.\n",
      "To change this limit, set the config variable\n",
      "`--NotebookApp.iopub_msg_rate_limit`.\n",
      "\n",
      "Current values:\n",
      "NotebookApp.iopub_msg_rate_limit=1000.0 (msgs/sec)\n",
      "NotebookApp.rate_limit_window=3.0 (secs)\n",
      "\n"
     ]
    }
   ],
   "source": [
    "# generate doc. vectors for all sentences\n",
    "from IPython.display import clear_output\n",
    "import datetime\n",
    "w1=[]\n",
    "for i in range(0,len(data)):\n",
    "    clear_output(wait=True)\n",
    "    print((i+1)/(len(data)+1))\n",
    "    #print(i)\n",
    "    vector = model.infer_vector([data[1807][i]])\n",
    "    w1.append(vector)\n",
    "    "
   ]
  },
  {
   "cell_type": "code",
   "execution_count": 79,
   "metadata": {},
   "outputs": [
    {
     "name": "stdout",
     "output_type": "stream",
     "text": [
      "21453\n",
      "21453\n"
     ]
    }
   ],
   "source": [
    "print(len(w1))\n",
    "print(len(data))"
   ]
  },
  {
   "cell_type": "markdown",
   "metadata": {},
   "source": [
    "version 2: Get the syntactic roles of words in a sentence"
   ]
  },
  {
   "cell_type": "code",
   "execution_count": 123,
   "metadata": {},
   "outputs": [],
   "source": [
    "import pandas as pd\n",
    "import numpy as np\n",
    "import codecs\n",
    "import string\n",
    "import re\n",
    "import pymorphy2\n",
    "import gensim\n",
    "import spacy\n",
    "import os\n",
    "import random\n",
    "import numpy as np\n",
    "from datetime import datetime\n",
    "from tqdm import tqdm\n",
    "\n",
    "\n",
    "SEP = '|'\n",
    "BROADER_STRIPPED_FILE = True\n",
    "UNIQUE_BROADER_CONCEPTS = True\n",
    "POS_EXCEPTIONS = ['PUNCT',] #  'ADP'\n",
    "SPACY_MODEL = 'en_core_web_lg'\n",
    "MODELS_USING_POS_TAG = ['200l.bin', ]\n",
    "NOISE_FILE_AMOUNT = 2\n",
    "model_path='glove.6B.300d.bin'\n",
    "\n",
    "nlp = spacy.load(SPACY_MODEL)\n",
    "model = gensim.models.KeyedVectors.load_word2vec_format(model_path, binary=True)\n",
    "concept_buffer = {}"
   ]
  },
  {
   "cell_type": "code",
   "execution_count": 160,
   "metadata": {},
   "outputs": [
    {
     "name": "stdout",
     "output_type": "stream",
     "text": [
      "financing  -  national financing\n",
      "['L20_national_1_Degree=Pos_402_84_0']\n",
      "['1_financing_1_Number=Sing_7037928807040764755_92_0']\n",
      "['L21_financing_1_Number=Sing_7037928807040764755_92_0']\n",
      "['1_financing_1_Number=Sing_7037928807040764755_92_0']\n",
      "['L21_financing_1_Number=Sing_7037928807040764755_92_0']\n",
      "1\n"
     ]
    }
   ],
   "source": [
    "w1=data[0][2]\n",
    "w2=data[2][2]\n",
    "print(w1,\" - \",w2)\n",
    "t=\"the joint programme aims to assist timor leste's government to develop and establish a holistic and integrated national financing framework which will help to improve the governance and coordination, articulate a financing strategy and strengthen the monitoring and oversight framework\"\n",
    "dep1=0\n",
    "dep2=0\n",
    "pos1=0\n",
    "pos2=0\n",
    "dep11=0\n",
    "dep22=0\n",
    "pos11=0\n",
    "pos22=0\n",
    "\n",
    "doc = nlp(t)\n",
    "doc = [token for token in doc if token.pos_ not in POS_EXCEPTIONS]\n",
    "\n",
    "param = []\n",
    "for token in doc:\n",
    "    if len(w1.split())==2:\n",
    "        lst = w1.replace('.', '').split()\n",
    "        if lst[0]==token.text:\n",
    "                print([f\"L0_{token.text}_1_{token.morph}_{token.dep}_{token.pos}_{token.cluster}\"])\n",
    "                dep1=token.dep\n",
    "                pos1=token.pos\n",
    "        if lst[1]==token.text:\n",
    "                print([f\"L1_{token.text}_1_{token.morph}_{token.dep}_{token.pos}_{token.cluster}\"])\n",
    "                dep11=token.dep\n",
    "                pos11=token.pos\n",
    "    else:\n",
    "            if w1==token.text:\n",
    "                print([f\"1_{token.text}_1_{token.morph}_{token.dep}_{token.pos}_{token.cluster}\"])\n",
    "                dep1=token.dep\n",
    "                pos1=token.pos\n",
    "           \n",
    "    if len(w2.split())==2:\n",
    "        lst2 = w2.split()\n",
    "        \n",
    "        if lst2[0]==token.text:\n",
    "                print([f\"L20_{token.text}_1_{token.morph}_{token.dep}_{token.pos}_{token.cluster}\"])\n",
    "                dep2=token.dep\n",
    "                pos2=token.pos\n",
    "        if lst2[1]==token.text:\n",
    "                print([f\"L21_{token.text}_1_{token.morph}_{token.dep}_{token.pos}_{token.cluster}\"])\n",
    "                dep22=token.dep\n",
    "                pos22=token.pos\n",
    "    else:\n",
    "            if w2==token.text:\n",
    "                print([f\"2_{token.text}_2_{token.morph}_{token.dep}_{token.pos}_{token.cluster}\"])\n",
    "                dep2=token.dep\n",
    "                pos2=token.pos\n",
    "param.append([dep1,dep2,dep11,dep22,pos1,pos2,pos11,pos22])\n",
    "print(len(w1.split())) "
   ]
  },
  {
   "cell_type": "code",
   "execution_count": 161,
   "metadata": {},
   "outputs": [
    {
     "name": "stdout",
     "output_type": "stream",
     "text": [
      "[[7037928807040764755, 402, 0, 7037928807040764755, 92, 84, 0, 92]]\n"
     ]
    }
   ],
   "source": [
    "print(param)"
   ]
  },
  {
   "cell_type": "code",
   "execution_count": 141,
   "metadata": {},
   "outputs": [
    {
     "data": {
      "text/plain": [
       "\"the joint programme aims to assist timor leste's government to develop and establish a holistic and integrated national financing framework which will help to improve the governance and coordination, articulate a financing strategy and strengthen the monitoring and oversight framework.\""
      ]
     },
     "execution_count": 141,
     "metadata": {},
     "output_type": "execute_result"
    }
   ],
   "source": [
    "data[1807][2]"
   ]
  },
  {
   "cell_type": "code",
   "execution_count": 165,
   "metadata": {},
   "outputs": [
    {
     "name": "stdout",
     "output_type": "stream",
     "text": [
      "0.999953388645474\n",
      "['L0_vaccination_1_Number=Sing_7037928807040764755_92_0']\n",
      "['L0_vaccination_1_Number=Sing_439_92_0']\n",
      "['L0_vaccination_1_Number=Sing_439_92_0']\n",
      "['2_travel_2_Number=Sing_439_92_0']\n"
     ]
    }
   ],
   "source": [
    "# geting syntactic roles of words in the sentence for all pairs \n",
    "from IPython.display import clear_output\n",
    "import datetime\n",
    "\n",
    "param = []\n",
    "\n",
    "for i in range(0,len(data)):\n",
    "    clear_output(wait=True)\n",
    "    print((i+1)/(len(data)+1))\n",
    "    #print(i)\n",
    "    \n",
    "    w1=data[0][i]\n",
    "    w2=data[2][i]\n",
    "    sent=data[1807][i]\n",
    "    dep1=0\n",
    "    dep2=0\n",
    "    pos1=0\n",
    "    pos2=0\n",
    "    dep11=0\n",
    "    dep22=0\n",
    "    pos11=0\n",
    "    pos22=0\n",
    "\n",
    "    if (len(sent)<1000):\n",
    "        doc = nlp(sent)\n",
    "    doc = [token for token in doc if token.pos_ not in POS_EXCEPTIONS]\n",
    "    for token in doc:\n",
    "        if len(w1.split())==2:\n",
    "            lst = w1.replace('.', '').split()\n",
    "            if lst[0]==token.text:\n",
    "                    print([f\"L0_{token.text}_1_{token.morph}_{token.dep}_{token.pos}_{token.cluster}\"])\n",
    "                    dep1=token.dep\n",
    "                    pos1=token.pos\n",
    "            if lst[1]==token.text:\n",
    "                    print([f\"L1_{token.text}_1_{token.morph}_{token.dep}_{token.pos}_{token.cluster}\"])\n",
    "                    dep11=token.dep\n",
    "                    pos11=token.pos\n",
    "        else:\n",
    "                if w1==token.text:\n",
    "                    print([f\"1_{token.text}_1_{token.morph}_{token.dep}_{token.pos}_{token.cluster}\"])\n",
    "                    dep1=token.dep\n",
    "                    pos1=token.pos\n",
    "\n",
    "        if len(w2.split())==2:\n",
    "            lst2 = w2.split()\n",
    "\n",
    "            if lst2[0]==token.text:\n",
    "                    print([f\"L20_{token.text}_1_{token.morph}_{token.dep}_{token.pos}_{token.cluster}\"])\n",
    "                    dep2=token.dep\n",
    "                    pos2=token.pos\n",
    "            if lst2[1]==token.text:\n",
    "                    print([f\"L21_{token.text}_1_{token.morph}_{token.dep}_{token.pos}_{token.cluster}\"])\n",
    "                    dep22=token.dep\n",
    "                    pos22=token.pos\n",
    "        else:\n",
    "                if w2==token.text:\n",
    "                    print([f\"2_{token.text}_2_{token.morph}_{token.dep}_{token.pos}_{token.cluster}\"])\n",
    "                    dep2=token.dep\n",
    "                    pos2=token.pos\n",
    "    param.append([dep1,dep2,dep11,dep22,pos1,pos2,pos11,pos22])\n",
    "\n",
    "\n",
    "    "
   ]
  },
  {
   "cell_type": "code",
   "execution_count": 166,
   "metadata": {},
   "outputs": [],
   "source": [
    "pd.DataFrame(param).to_csv(\"nlp.csv\",header=None, index=None)"
   ]
  },
  {
   "cell_type": "code",
   "execution_count": 32,
   "metadata": {},
   "outputs": [],
   "source": [
    "from natasha import (\n",
    "    Segmenter,\n",
    "    MorphVocab,\n",
    "    \n",
    "    NewsEmbedding,\n",
    "    NewsMorphTagger,\n",
    "    NewsSyntaxParser,\n",
    "    NewsNERTagger,\n",
    "    \n",
    "    PER,\n",
    "    NamesExtractor,\n",
    "\n",
    "    Doc\n",
    ")\n",
    "\n",
    "segmenter = Segmenter()\n",
    "morph_vocab = MorphVocab()\n",
    "\n",
    "emb = NewsEmbedding()\n",
    "morph_tagger = NewsMorphTagger(emb)\n",
    "syntax_parser = NewsSyntaxParser(emb)\n",
    "ner_tagger = NewsNERTagger(emb)\n",
    "\n",
    "names_extractor = NamesExtractor(morph_vocab)\n",
    "\n",
    "text = 'this included satellite manufacture, launch services, ground station construction, project financing, insurance and training.'\n",
    "doc = Doc(text)\n"
   ]
  },
  {
   "cell_type": "code",
   "execution_count": 34,
   "metadata": {},
   "outputs": [
    {
     "data": {
      "text/plain": [
       "[DocToken(stop=4, text='this'),\n",
       " DocToken(start=5, stop=13, text='included'),\n",
       " DocToken(start=14, stop=23, text='satellite'),\n",
       " DocToken(start=24, stop=35, text='manufacture'),\n",
       " DocToken(start=35, stop=36, text=',')]"
      ]
     },
     "metadata": {},
     "output_type": "display_data"
    },
    {
     "data": {
      "text/plain": [
       "[DocSent(stop=125, text='this included satellite manufacture, launch servi..., tokens=[...])]"
      ]
     },
     "metadata": {},
     "output_type": "display_data"
    }
   ],
   "source": [
    "doc.segment(segmenter)\n",
    "display(doc.tokens[:5])\n",
    "display(doc.sents[:5])"
   ]
  },
  {
   "cell_type": "code",
   "execution_count": 35,
   "metadata": {},
   "outputs": [
    {
     "data": {
      "text/plain": [
       "[DocToken(stop=4, text='this', pos='X', feats=<Yes>),\n",
       " DocToken(start=5, stop=13, text='included', pos='X', feats=<Yes>),\n",
       " DocToken(start=14, stop=23, text='satellite', pos='X', feats=<Yes>),\n",
       " DocToken(start=24, stop=35, text='manufacture', pos='X', feats=<Yes>),\n",
       " DocToken(start=35, stop=36, text=',', pos='PUNCT')]"
      ]
     },
     "metadata": {},
     "output_type": "display_data"
    },
    {
     "name": "stdout",
     "output_type": "stream",
     "text": [
      "                this X|Foreign=Yes\n",
      "            included X|Foreign=Yes\n",
      "           satellite X|Foreign=Yes\n",
      "         manufacture X|Foreign=Yes\n",
      "                   , PUNCT\n",
      "              launch X|Foreign=Yes\n",
      "            services X|Foreign=Yes\n",
      "                   , PUNCT\n",
      "              ground X|Foreign=Yes\n",
      "             station X|Foreign=Yes\n",
      "        construction X|Foreign=Yes\n",
      "                   , PUNCT\n",
      "             project X|Foreign=Yes\n",
      "           financing X|Foreign=Yes\n",
      "                   , PUNCT\n",
      "           insurance X|Foreign=Yes\n",
      "                 and X|Foreign=Yes\n",
      "            training X|Foreign=Yes\n",
      "                   . PUNCT\n"
     ]
    }
   ],
   "source": [
    "doc.tag_morph(morph_tagger)\n",
    "display(doc.tokens[:5])\n",
    "doc.sents[0].morph.print()"
   ]
  },
  {
   "cell_type": "code",
   "execution_count": 25,
   "metadata": {},
   "outputs": [
    {
     "name": "stdout",
     "output_type": "stream",
     "text": [
      "0.9999967693266953\n"
     ]
    }
   ],
   "source": [
    "#print(data['subConceptVector'][0])\n",
    "#print(data['mainConceptVector'][0])\n",
    "# для вывода прогресса, обработка занимет много времени :(\n",
    "from IPython.display import clear_output\n",
    "    clear_output(wait=True)\n",
    "    print((i+1)/309533)\n",
    "# для генерации имени файла, надоело делать это вручную\n",
    "import datetime\n",
    "\n",
    "w1=[]\n",
    "w2=[]\n",
    "for i in range(0,309532):\n",
    "    #print(i)\n",
    "    clear_output(wait=True)\n",
    "    print((i+1)/309533)\n",
    "    \n",
    "    vx=data['mainConceptVector'][i]\n",
    "    vy=data['subConceptVector'][i]\n",
    "    \n",
    "    vx=vx.replace('[', \"\")\n",
    "    vx=vx.replace(']', \"\")\n",
    "    vx=vx.replace('\\n', \" \")\n",
    "    vx=vx.replace('   ', \" \")\n",
    "    vx=vx.replace('  ', \" \")\n",
    "    vx=vx.replace(',', \"\")\n",
    "    if vx[0]==' ':\n",
    "        vx = vx[1:]\n",
    "    w11=vx.split(' ')\n",
    "   #w1.append(w11)\n",
    "    \n",
    "    vy=vy.replace('[', \"\")\n",
    "    vy=vy.replace(']', \"\")\n",
    "    vy=vy.replace('\\n', \" \")\n",
    "    vy=vy.replace('   ', \" \")\n",
    "    vy=vy.replace('  ', \" \")\n",
    "    vy=vy.replace(',', \"\")\n",
    "    if vy[0]==' ':\n",
    "        vy = vy[1:]\n",
    "    w22=vy.split(' ')\n",
    "    w1.append(w11+w22)\n",
    "    "
   ]
  },
  {
   "cell_type": "code",
   "execution_count": 66,
   "metadata": {},
   "outputs": [],
   "source": [
    "pd.DataFrame(w1).to_csv(\"d2v.csv\",header=None, index=None)"
   ]
  },
  {
   "cell_type": "code",
   "execution_count": 67,
   "metadata": {},
   "outputs": [],
   "source": [
    "vector2 = pd.read_csv('d2v.csv', sep=',', error_bad_lines=True,header=None) #, header=0"
   ]
  },
  {
   "cell_type": "code",
   "execution_count": 81,
   "metadata": {},
   "outputs": [],
   "source": [
    "#dataset merge\n",
    "data2 = pd.read_csv('DET_SKOS_with_text/DET_SKOS_with_text.csv', sep='|', error_bad_lines=True, skiprows=[0],header=None) #, header=0\n",
    "vector2 = pd.read_csv('vectors2.csv', sep=',', error_bad_lines=True,header=None) #, header=0"
   ]
  },
  {
   "cell_type": "code",
   "execution_count": 82,
   "metadata": {},
   "outputs": [],
   "source": [
    "merged =pd.concat([data2,vector2], axis =1 ,ignore_index=True)"
   ]
  },
  {
   "cell_type": "code",
   "execution_count": 168,
   "metadata": {},
   "outputs": [],
   "source": [
    "param = pd.read_csv('nlp.csv', sep=',', error_bad_lines=True,header=None) #, header=0"
   ]
  },
  {
   "cell_type": "code",
   "execution_count": 170,
   "metadata": {},
   "outputs": [],
   "source": [
    "merged2 =pd.concat([merged,param], axis =1 ,ignore_index=True)"
   ]
  },
  {
   "cell_type": "code",
   "execution_count": 83,
   "metadata": {},
   "outputs": [],
   "source": [
    "pd.DataFrame(merged).to_csv(\"compile-01.csv\",header=None, index=None) #vec + docvec + sintax"
   ]
  },
  {
   "cell_type": "code",
   "execution_count": 100,
   "metadata": {},
   "outputs": [
    {
     "name": "stdout",
     "output_type": "stream",
     "text": [
      "21453\n",
      "2108\n"
     ]
    }
   ],
   "source": [
    "print(merged.shape[0])\n",
    "print(merged.shape[1])"
   ]
  },
  {
   "cell_type": "code",
   "execution_count": 173,
   "metadata": {},
   "outputs": [
    {
     "name": "stdout",
     "output_type": "stream",
     "text": [
      "21453\n",
      "2116\n"
     ]
    }
   ],
   "source": [
    "print(merged2.shape[0])\n",
    "print(merged2.shape[1])"
   ]
  },
  {
   "cell_type": "markdown",
   "metadata": {},
   "source": [
    "## 3. Train process"
   ]
  },
  {
   "cell_type": "code",
   "execution_count": 174,
   "metadata": {},
   "outputs": [],
   "source": [
    "\n",
    "import numpy as np\n",
    "import ctypes\n",
    "import pandas as pd\n",
    "import tensorflow as tf  #1.14\n",
    "\n",
    "seed = 105\n",
    "np.random.seed(seed)\n",
    "data2 = merged2"
   ]
  },
  {
   "cell_type": "code",
   "execution_count": 4,
   "metadata": {},
   "outputs": [
    {
     "name": "stdout",
     "output_type": "stream",
     "text": [
      "0       3\n",
      "1       3\n",
      "2       3\n",
      "3       3\n",
      "4       3\n",
      "       ..\n",
      "6329    2\n",
      "6330    1\n",
      "6331    1\n",
      "6332    1\n",
      "6333    1\n",
      "Name: 1806, Length: 6334, dtype: int64\n"
     ]
    }
   ],
   "source": [
    "print(data[1806])"
   ]
  },
  {
   "cell_type": "code",
   "execution_count": 5,
   "metadata": {},
   "outputs": [
    {
     "name": "stdout",
     "output_type": "stream",
     "text": [
      "                         0         1                   2         3     \\\n",
      "0                   financing  narrower  national financing -0.056675   \n",
      "1                   financing  narrower           insurance -0.056675   \n",
      "2                   financing  narrower        co-financing -0.056675   \n",
      "3                   financing  narrower        microfinance -0.056675   \n",
      "4                   financing  narrower        crowdfunding -0.056675   \n",
      "...                       ...       ...                 ...       ...   \n",
      "6329  vaccination certificate   broader         vaccination  0.308965   \n",
      "6330  vaccination certificate   related             vaccine  0.308965   \n",
      "6331  vaccination certificate   related  emergency response  0.308965   \n",
      "6332  vaccination certificate   related      tourism policy  0.308965   \n",
      "6333  vaccination certificate   related              travel  0.308965   \n",
      "\n",
      "          4         5         6         7         8       9     ...      1797  \\\n",
      "0     0.035477  0.388980  0.202140 -0.851100  0.444580 -2.5219  ... -0.011671   \n",
      "1     0.035477  0.388980  0.202140 -0.851100  0.444580 -2.5219  ... -0.181320   \n",
      "2     0.035477  0.388980  0.202140 -0.851100  0.444580 -2.5219  ... -0.000419   \n",
      "3     0.035477  0.388980  0.202140 -0.851100  0.444580 -2.5219  ...  0.696480   \n",
      "4     0.035477  0.388980  0.202140 -0.851100  0.444580 -2.5219  ... -0.118270   \n",
      "...        ...       ...       ...       ...       ...     ...  ...       ...   \n",
      "6329  0.121360  0.093395 -0.256555  0.519285  0.084608 -1.9293  ...  0.185240   \n",
      "6330  0.121360  0.093395 -0.256555  0.519285  0.084608 -1.9293  ... -0.344980   \n",
      "6331  0.121360  0.093395 -0.256555  0.519285  0.084608 -1.9293  ...  0.028160   \n",
      "6332  0.121360  0.093395 -0.256555  0.519285  0.084608 -1.9293  ... -0.024243   \n",
      "6333  0.121360  0.093395 -0.256555  0.519285  0.084608 -1.9293  ...  0.011430   \n",
      "\n",
      "          1798      1799      1800      1801      1802      1803      1804  \\\n",
      "0    -0.047043 -0.049948  0.140644 -0.197608 -0.167535  0.040048 -0.103548   \n",
      "1    -0.288950 -0.424160  0.246160 -0.181430 -0.848650 -0.482410  0.555980   \n",
      "2    -0.008418  0.127442  0.016293  0.087195 -0.000012  0.009600  0.010503   \n",
      "3    -0.617720 -0.306600  0.338850 -0.342820  0.010290  0.223800  0.024253   \n",
      "4     0.070111 -0.271690  0.085559 -0.581900 -0.341530  0.323590 -0.135610   \n",
      "...        ...       ...       ...       ...       ...       ...       ...   \n",
      "6329 -0.211050 -0.511060 -0.086794  0.210450  0.707840  0.087436 -0.600220   \n",
      "6330 -0.471330 -0.419990  0.258650 -0.000005  0.609610 -0.029534  0.005669   \n",
      "6331  0.163338  0.073601 -0.009726  0.100035  0.001488  0.123194  0.040922   \n",
      "6332  0.004821 -0.106166 -0.050907  0.003447 -0.138618 -0.146745  0.051744   \n",
      "6333 -0.056532  0.181310  0.383130  0.034146  0.486530  0.122320 -0.022540   \n",
      "\n",
      "          1805  1806  \n",
      "0    -0.075693     3  \n",
      "1    -0.192040     3  \n",
      "2    -0.017263     3  \n",
      "3    -0.427300     3  \n",
      "4    -0.072642     3  \n",
      "...        ...   ...  \n",
      "6329  0.110520     2  \n",
      "6330  0.371730     1  \n",
      "6331  0.114378     1  \n",
      "6332  0.080271     1  \n",
      "6333  0.012258     1  \n",
      "\n",
      "[6334 rows x 1807 columns]\n"
     ]
    }
   ],
   "source": [
    "print(data)"
   ]
  },
  {
   "cell_type": "code",
   "execution_count": 103,
   "metadata": {},
   "outputs": [
    {
     "name": "stdout",
     "output_type": "stream",
     "text": [
      "0       -0.001285\n",
      "1        0.000503\n",
      "2       -0.001550\n",
      "3       -0.000831\n",
      "4       -0.000975\n",
      "           ...   \n",
      "21448    0.000942\n",
      "21449   -0.000408\n",
      "21450   -0.000978\n",
      "21451   -0.000562\n",
      "21452   -0.001034\n",
      "Name: 2107, Length: 21453, dtype: float64\n"
     ]
    }
   ],
   "source": [
    "print(data2[2107])"
   ]
  },
  {
   "cell_type": "code",
   "execution_count": 184,
   "metadata": {},
   "outputs": [],
   "source": [
    "data2 = data2.drop(data2.columns[[1807, 1806]], axis=1)"
   ]
  },
  {
   "cell_type": "code",
   "execution_count": 186,
   "metadata": {},
   "outputs": [
    {
     "name": "stdout",
     "output_type": "stream",
     "text": [
      "-0.001648909179493785\n"
     ]
    }
   ],
   "source": [
    "print(data2[1809][0])"
   ]
  },
  {
   "cell_type": "code",
   "execution_count": 187,
   "metadata": {},
   "outputs": [
    {
     "name": "stdout",
     "output_type": "stream",
     "text": [
      "92\n"
     ]
    }
   ],
   "source": [
    "print(data2[2115][0])"
   ]
  },
  {
   "cell_type": "code",
   "execution_count": 255,
   "metadata": {},
   "outputs": [],
   "source": [
    "data = pd.read_csv('db10-1.csv', sep='|', error_bad_lines=True, header=None)\n"
   ]
  },
  {
   "cell_type": "code",
   "execution_count": 11,
   "metadata": {},
   "outputs": [
    {
     "name": "stdout",
     "output_type": "stream",
     "text": [
      "6334\n",
      "1807\n",
      "0       3\n",
      "1       3\n",
      "2       3\n",
      "3       3\n",
      "4       3\n",
      "       ..\n",
      "6329    2\n",
      "6330    1\n",
      "6331    1\n",
      "6332    1\n",
      "6333    1\n",
      "Name: 1806, Length: 6334, dtype: int64\n"
     ]
    }
   ],
   "source": [
    "print (data.shape[0])\n",
    "print (data.shape[1])\n",
    "print (data[1806])"
   ]
  },
  {
   "cell_type": "code",
   "execution_count": 42,
   "metadata": {},
   "outputs": [
    {
     "name": "stdout",
     "output_type": "stream",
     "text": [
      "3\n"
     ]
    }
   ],
   "source": [
    "import numpy as np\n",
    "import pandas as pd\n",
    "import tensorflow as tf  #1.14\n",
    "\n",
    "seed = 105\n",
    "np.random.seed(seed)\n",
    "#data = pd.read_csv('compile-1.csv', sep=\"|\", header=None,low_memory=False)\n",
    "\n",
    "#X1 = data.iloc[:,3:1805].astype(float) #means of vectors and sum of vectors\n",
    "#X1 = data.iloc[:,3:604].astype(float) #only means vectors\n",
    "X2 = data2.iloc[:,3:1805].astype(float) #all vectors + sentence vectors and one broader class\n",
    "#X1 = data.iloc[:,3:602].astype(float)\n",
    "#X2 = data.iloc[:,1808:2107].astype(float)\n",
    "#X =pd.concat([X1,X2], axis =1 ,ignore_index=True)\n",
    "X=X2\n",
    "Y = data2.iloc[:,1806].astype(int)\n",
    "print(Y[10])"
   ]
  },
  {
   "cell_type": "code",
   "execution_count": 14,
   "metadata": {},
   "outputs": [
    {
     "name": "stdout",
     "output_type": "stream",
     "text": [
      "0       0.179550\n",
      "1       0.179550\n",
      "2       0.179550\n",
      "3       0.179550\n",
      "4       0.179550\n",
      "          ...   \n",
      "6329   -0.477945\n",
      "6330   -0.477945\n",
      "6331   -0.477945\n",
      "6332   -0.477945\n",
      "6333   -0.477945\n",
      "Name: 301, Length: 6334, dtype: float64\n"
     ]
    }
   ],
   "source": [
    "print(X[301])"
   ]
  },
  {
   "cell_type": "code",
   "execution_count": 258,
   "metadata": {},
   "outputs": [],
   "source": [
    "Y = data.iloc[:,603]"
   ]
  },
  {
   "cell_type": "code",
   "execution_count": 50,
   "metadata": {},
   "outputs": [],
   "source": [
    "Ytxt = data2.iloc[:,1806].astype(int) #data.iloc[:,603]\n",
    "#16725 0  related\n",
    "#6523  1  broader\n",
    "#40101 2  empty"
   ]
  },
  {
   "cell_type": "code",
   "execution_count": 51,
   "metadata": {},
   "outputs": [],
   "source": [
    "Y=Ytxt\n",
    "c0=0\n",
    "c1=0\n",
    "c2=0\n",
    "c3=0\n",
    "c4=0\n",
    "for i in range(0,len(Ytxt)):\n",
    "    #Y[i]=0\n",
    "    if Ytxt[i]==0:  \n",
    "        Y[i]=0\n",
    "        c0=c0+1\n",
    "    if Ytxt[i]==1:\n",
    "        Y[i]=0\n",
    "        c1=c1+1\n",
    "        \n",
    "    if Ytxt[i]==2:\n",
    "        Y[i]=1\n",
    "        c2=c2+1\n",
    "    if Ytxt[i]==-1:\n",
    "        Y[i]=0\n",
    "        c4=c4+1\n",
    "    if Ytxt[i]==3:\n",
    "        Y[i]=0\n",
    "        c3=c3+1\n"
   ]
  },
  {
   "cell_type": "code",
   "execution_count": 52,
   "metadata": {},
   "outputs": [
    {
     "name": "stdout",
     "output_type": "stream",
     "text": [
      "25529\n",
      "0\n",
      "10848\n",
      "7340\n",
      "7341\n",
      "0\n"
     ]
    }
   ],
   "source": [
    "print (len(Ytxt))\n",
    "print (c0)\n",
    "print (c1)\n",
    "print (c2)\n",
    "print (c3)\n",
    "print (c4)"
   ]
  },
  {
   "cell_type": "code",
   "execution_count": 41,
   "metadata": {},
   "outputs": [],
   "source": [
    "Y1=[]\n",
    "for i in range(0,len(Y)):\n",
    "    if Y[i]!=2:\n",
    "        Y[i]=0\n",
    "    "
   ]
  },
  {
   "cell_type": "code",
   "execution_count": 265,
   "metadata": {},
   "outputs": [
    {
     "name": "stderr",
     "output_type": "stream",
     "text": [
      "c:\\python\\python36\\lib\\site-packages\\ipykernel_launcher.py:4: SettingWithCopyWarning: \n",
      "A value is trying to be set on a copy of a slice from a DataFrame\n",
      "\n",
      "See the caveats in the documentation: https://pandas.pydata.org/pandas-docs/stable/user_guide/indexing.html#returning-a-view-versus-a-copy\n",
      "  after removing the cwd from sys.path.\n"
     ]
    }
   ],
   "source": [
    "Y1=[]\n",
    "for i in range(0,len(Y)):\n",
    "    if Y[i]==2:\n",
    "        Y[i]=0"
   ]
  },
  {
   "cell_type": "code",
   "execution_count": 27,
   "metadata": {},
   "outputs": [
    {
     "name": "stdout",
     "output_type": "stream",
     "text": [
      "0       0\n",
      "1       0\n",
      "2       0\n",
      "3       0\n",
      "4       0\n",
      "       ..\n",
      "6329    0\n",
      "6330    0\n",
      "6331    0\n",
      "6332    0\n",
      "6333    0\n",
      "Name: 1806, Length: 6334, dtype: int32\n"
     ]
    }
   ],
   "source": [
    "print(Y)"
   ]
  },
  {
   "cell_type": "code",
   "execution_count": 261,
   "metadata": {},
   "outputs": [
    {
     "name": "stdout",
     "output_type": "stream",
     "text": [
      "0\n"
     ]
    }
   ],
   "source": [
    "print(Y[100])"
   ]
  },
  {
   "cell_type": "code",
   "execution_count": 17,
   "metadata": {},
   "outputs": [],
   "source": [
    "from sklearn.model_selection import train_test_split\n",
    "X_train, X_test, y_train, y_test = train_test_split(X, Y, test_size=0.3)\n"
   ]
  },
  {
   "cell_type": "code",
   "execution_count": 18,
   "metadata": {},
   "outputs": [],
   "source": [
    "from keras import Sequential\n",
    "from keras.layers import Dense"
   ]
  },
  {
   "cell_type": "code",
   "execution_count": 55,
   "metadata": {
    "scrolled": true
   },
   "outputs": [
    {
     "name": "stdout",
     "output_type": "stream",
     "text": [
      "Train on 19146 samples, validate on 6383 samples\n",
      "Epoch 1/7\n",
      "19146/19146 [==============================] - 46s 2ms/sample - loss: 0.6069 - sparse_categorical_crossentropy: 0.6069 - acc: 0.7098 - val_loss: 0.5934 - val_sparse_categorical_crossentropy: 0.5934 - val_acc: 0.7196\n",
      "Epoch 2/7\n",
      "19146/19146 [==============================] - 45s 2ms/sample - loss: 0.6023 - sparse_categorical_crossentropy: 0.6023 - acc: 0.7101 - val_loss: 0.5934 - val_sparse_categorical_crossentropy: 0.5934 - val_acc: 0.7196\n",
      "Epoch 3/7\n",
      "19146/19146 [==============================] - 45s 2ms/sample - loss: 0.6023 - sparse_categorical_crossentropy: 0.6023 - acc: 0.7101 - val_loss: 0.5934 - val_sparse_categorical_crossentropy: 0.5934 - val_acc: 0.7196\n",
      "Epoch 4/7\n",
      "19146/19146 [==============================] - 45s 2ms/sample - loss: 0.6023 - sparse_categorical_crossentropy: 0.6023 - acc: 0.7101 - val_loss: 0.5937 - val_sparse_categorical_crossentropy: 0.5937 - val_acc: 0.7196\n",
      "Epoch 5/7\n",
      "19146/19146 [==============================] - 45s 2ms/sample - loss: 0.6023 - sparse_categorical_crossentropy: 0.6023 - acc: 0.7101 - val_loss: 0.5935 - val_sparse_categorical_crossentropy: 0.5935 - val_acc: 0.7196\n",
      "Epoch 6/7\n",
      "19146/19146 [==============================] - 45s 2ms/sample - loss: 0.6023 - sparse_categorical_crossentropy: 0.6023 - acc: 0.7101 - val_loss: 0.5941 - val_sparse_categorical_crossentropy: 0.5941 - val_acc: 0.7196\n",
      "Epoch 7/7\n",
      "19146/19146 [==============================] - 45s 2ms/sample - loss: 0.6022 - sparse_categorical_crossentropy: 0.6022 - acc: 0.7101 - val_loss: 0.5935 - val_sparse_categorical_crossentropy: 0.5935 - val_acc: 0.7196\n",
      "\n",
      "history dict: {'loss': [0.6069449248744019, 0.6023005281174106, 0.6022586538620308, 0.6022656009972538, 0.6022760975352154, 0.6022567126515093, 0.6022178191825114], 'sparse_categorical_crossentropy': [0.6069451, 0.6023006, 0.6022585, 0.60226494, 0.6022759, 0.6022566, 0.60221684], 'acc': [0.7098088, 0.7101222, 0.7101222, 0.7101222, 0.7101222, 0.7101222, 0.7101222], 'val_loss': [0.5934486510647925, 0.5933616341383652, 0.5933800437934866, 0.5936629712889789, 0.5935036459817756, 0.5941097200122276, 0.5935469611944608], 'val_sparse_categorical_crossentropy': [0.5934491, 0.59336036, 0.59337825, 0.5936621, 0.5935037, 0.59410733, 0.5935474], 'val_acc': [0.7195676, 0.7195676, 0.7195676, 0.7195676, 0.7195676, 0.7195676, 0.7195676]}\n",
      "\n",
      "# Оцениваем на тестовых данных\n",
      "6383/6383 [==============================] - 2s 263us/sample - loss: 0.5935 - sparse_categorical_crossentropy: 0.5935 - acc: 0.7196\n",
      "test loss, test acc: [0.5935469757804634, 0.593546, 0.7195676]\n"
     ]
    }
   ],
   "source": [
    "X_train, X_test, Y_train, Y_test = train_test_split(X, Y, test_size=0.25, random_state=50)\n",
    "from tensorflow import keras\n",
    "from tensorflow.keras import layers\n",
    "\n",
    "inputs = keras.Input(shape=(1802,), name='digits')\n",
    "\n",
    "x = layers.Dense(1200, activation='softmax', name='dense_1')(inputs)\n",
    "y = layers.Dense(600, activation='sigmoid', name='dense_2')(x)#sigmoid\n",
    "z = layers.Dense(300, activation='softmax', name='dense_3')(y)\n",
    "z1 = layers.Dense(50, activation='softmax', name='dense_4')(z)\n",
    "outputs = layers.Dense(2, activation='softmax', name='predictions')(z1)\n",
    "\n",
    "model = keras.Model(inputs=inputs, outputs=outputs)\n",
    "\n",
    "#v tf.keras.losses\n",
    "#pip install --force-reinstall tensorflow\n",
    "\n",
    "model.compile(optimizer=keras.optimizers.RMSprop(),\n",
    "              loss='sparse_categorical_crossentropy',\n",
    " #            loss='binary_crossentropy',              #'precision',\n",
    "            metrics=['sparse_categorical_crossentropy','accuracy']\n",
    "            )\n",
    "\n",
    "tf.keras.callbacks.ModelCheckpoint(\n",
    "    \"cnn.hdf5\", monitor='val_loss', verbose=1, save_best_only=False,\n",
    "    save_weights_only=False, mode='auto', save_freq='epoch'\n",
    "    \n",
    ")\n",
    "\n",
    "with tf.device('/gpu:0'):                          #5\n",
    "    history=model.fit(X_train, Y_train, batch_size=10, epochs=7, verbose=1,shuffle=1, validation_data=(X_test, Y_test),validation_split=1)\n",
    "print('\\nhistory dict:', history.history)\n",
    "\n",
    "print('\\n# Оцениваем на тестовых данных')\n",
    "results = model.evaluate(X_test, Y_test, batch_size=7)\n",
    "print('test loss, test acc:', results)\n",
    "\n",
    "\n",
    "\n",
    "\n",
    "\n",
    "\n",
    "\n",
    "\n"
   ]
  },
  {
   "cell_type": "code",
   "execution_count": 89,
   "metadata": {},
   "outputs": [
    {
     "name": "stdout",
     "output_type": "stream",
     "text": [
      "        3         4        5        6       7        8       9        10   \\\n",
      "2 -0.056675  0.035477  0.38898  0.20214 -0.8511  0.44458 -2.5219  0.31609   \n",
      "\n",
      "       11       12   ...       593       594       595      596       597  \\\n",
      "2 -0.15525  0.71965  ... -0.117382 -0.109009  0.096719 -0.13341 -0.119905   \n",
      "\n",
      "        598       599       600      601      602  \n",
      "2 -0.375135 -0.351895  0.202775 -0.20055 -0.19858  \n",
      "\n",
      "[1 rows x 600 columns]\n"
     ]
    }
   ],
   "source": [
    "print(X[2:3])"
   ]
  },
  {
   "cell_type": "code",
   "execution_count": 56,
   "metadata": {},
   "outputs": [
    {
     "data": {
      "image/png": "[encoded data removed]",
      "text/plain": [
       "<Figure size 720x864 with 3 Axes>"
      ]
     },
     "metadata": {},
     "output_type": "display_data"
    }
   ],
   "source": [
    "import numpy as np\n",
    "import matplotlib.pyplot as plt\n",
    "\n",
    "plt.style.use('ggplot')\n",
    "\n",
    "\n",
    "def plot_metrix(ax, x1, x2, title):\n",
    "    ax.plot(range(1, len(x1) + 1), x1, label='train')\n",
    "    ax.plot(range(1, len(x2) + 1), x2, label='val')\n",
    "    ax.set_ylabel(title)\n",
    "    ax.set_xlabel('Epoch')\n",
    "    ax.legend()\n",
    "    ax.margins(0)\n",
    "\n",
    "\n",
    "def plot_history(history):\n",
    "    fig, axes = plt.subplots(ncols=1, nrows=3, figsize=(10, 12))\n",
    "    ax1, ax2, ax4 = axes.ravel()\n",
    "\n",
    "    plot_metrix(ax1, history.history['acc'], history.history['val_acc'], 'acc')\n",
    "    plot_metrix(ax2, history.history['val_sparse_categorical_crossentropy'], history.history['sparse_categorical_crossentropy'], 'crossentropy')\n",
    "    #plot_metrix(ax3, history.history['f1'], history.history['val_f1'], \"$F_1$\")\n",
    "    plot_metrix(ax4, history.history['loss'], history.history['val_loss'], 'Loss')\n",
    "\n",
    "    \n",
    "\n",
    "    \n",
    "    \n",
    "    plt.show()\n",
    "\n",
    "\n",
    "plot_history(history)\n",
    "\n"
   ]
  },
  {
   "cell_type": "code",
   "execution_count": 269,
   "metadata": {},
   "outputs": [],
   "source": [
    "model.save_weights('glove.6B.300d-3.hdf5')"
   ]
  },
  {
   "cell_type": "code",
   "execution_count": null,
   "metadata": {},
   "outputs": [],
   "source": []
  },
  {
   "cell_type": "code",
   "execution_count": null,
   "metadata": {},
   "outputs": [],
   "source": []
  },
  {
   "cell_type": "markdown",
   "metadata": {},
   "source": [
    "## 4. Adding syntactic features to the training vectors"
   ]
  },
  {
   "cell_type": "code",
   "execution_count": 5,
   "metadata": {},
   "outputs": [
    {
     "name": "stdout",
     "output_type": "stream",
     "text": [
      "16\n",
      "309533\n"
     ]
    }
   ],
   "source": [
    "#print(data['mainConcept'][59])\n",
    "posm=[]\n",
    "Animacym=[]\n",
    "Casem=[]\n",
    "Genderm=[]\n",
    "Numberm=[]\n",
    "Dposm=[]\n",
    "DAnimacym=[]\n",
    "DCasem=[]\n",
    "DGenderm=[]\n",
    "DNumberm=[]\n",
    "w1=[]\n",
    "w2=[]\n",
    "for i in range(309533):\n",
    "    #print(i)\n",
    "    x=data['mainConcept'][i]\n",
    "    y=data['subConcept'][i]\n",
    "    vx=data['mainConceptVector'][i]\n",
    "    vy=data['subConceptVector'][i]\n",
    "    \n",
    "    pos2=x.split(\"'pos': \")\n",
    "    pos3=pos2[1].split(',')\n",
    "    pos=pos3[0]\n",
    "    an2=x.split(\"'Animacy': \")\n",
    "    if len(an2)>>1 :\n",
    "        an3=an2[1].split(',')\n",
    "        Animacy=an3[0]\n",
    "    else:\n",
    "        Animacy=0\n",
    "    Case2=x.split(\"'Case': \")\n",
    "    if len(Case2)>>1 :\n",
    "        Case3=Case2[1].split(',')\n",
    "        Case=Case3[0]\n",
    "    else:\n",
    "        Case=0\n",
    "    Gender2=x.split(\"'Gender': \")\n",
    "    if len(Gender2)>>1 :\n",
    "        Gender3=Gender2[1].split(',')\n",
    "        Gender=Gender3[0]\n",
    "    else:\n",
    "        Gender=0\n",
    "    Number2=x.split(\"'Number': \")\n",
    "    if len(Number2)>>1 :\n",
    "        Number3=Number2[1].split('}')\n",
    "        Number=Number3[0]\n",
    "    else:\n",
    "        Number=0\n",
    "    posm.append(pos)\n",
    "    Animacym.append(Animacy)\n",
    "    Casem.append(Case)\n",
    "    Genderm.append(Gender)\n",
    "    Numberm.append(Number)\n",
    "    \n",
    "    pos2=y.split(\"'pos': \")\n",
    "    pos3=pos2[1].split(',')\n",
    "    pos=pos3[0]\n",
    "    an2=x.split(\"'Animacy': \")\n",
    "    if len(an2)>>1 :\n",
    "        an3=an2[1].split(',')\n",
    "        Animacy=an3[0]\n",
    "    else:\n",
    "        Animacy=0\n",
    "    Case2=y.split(\"'Case': \")\n",
    "    if len(Case2)>>1 :\n",
    "        Case3=Case2[1].split(',')\n",
    "        Case=Case3[0]\n",
    "    else:\n",
    "        Case=0\n",
    "    Gender2=y.split(\"'Gender': \")\n",
    "    if len(Gender2)>>1 :\n",
    "        Gender3=Gender2[1].split(',')\n",
    "        Gender=Gender3[0]\n",
    "    else:\n",
    "        Gender=0\n",
    "    Number2=y.split(\"'Number': \")\n",
    "    if len(Number2)>>1 :\n",
    "        Number3=Number2[1].split('}')\n",
    "        Number=Number3[0]\n",
    "    else:\n",
    "        Number=0\n",
    "    Dposm.append(pos)\n",
    "    DAnimacym.append(Animacy)\n",
    "    DCasem.append(Case)\n",
    "    DGenderm.append(Gender)\n",
    "    DNumberm.append(Number)\n",
    "\n",
    "    vx=vx.replace('\\n', \"\")\n",
    "    vx=vx.replace('  ', \" \")\n",
    "    w11=vx.split(' ')\n",
    "    w1.append(w11)\n",
    "    \n",
    "    vy=vy.replace('\\n', \"\")\n",
    "    vy=vy.replace('  ', \" \")\n",
    "    w22=vy.split(' ')\n",
    "    w2.append(w22)\n",
    "    \n",
    "data2 = np.hstack((data, np.atleast_2d(posm).T)) \n",
    "data = np.hstack((data2, np.atleast_2d(Animacym).T))\n",
    "data2 = np.hstack((data, np.atleast_2d(Casem).T))\n",
    "data = np.hstack((data2, np.atleast_2d(Genderm).T))\n",
    "data2 = np.hstack((data, np.atleast_2d(Numberm).T))\n",
    "#data=data2\n",
    "data = np.hstack((data2, np.atleast_2d(Dposm).T)) \n",
    "data2 = np.hstack((data, np.atleast_2d(DAnimacym).T))\n",
    "data = np.hstack((data2, np.atleast_2d(DCasem).T))\n",
    "data2 = np.hstack((data, np.atleast_2d(DGenderm).T))\n",
    "data = np.hstack((data2, np.atleast_2d(DNumberm).T))\n",
    "\n",
    "#data=np.hstack((data2, np.atleast_2d(w1)))\n",
    "#data2=np.hstack((data, np.atleast_2d(w2)))\n",
    "print(data.shape[1])\n",
    "print(data.shape[0])\n",
    "\n",
    "\n",
    "#print(posm[:5])"
   ]
  },
  {
   "cell_type": "code",
   "execution_count": 6,
   "metadata": {},
   "outputs": [],
   "source": [
    "\n",
    "pd.DataFrame(data).to_csv(\"data-16.csv\",header=None, index=None)"
   ]
  },
  {
   "cell_type": "code",
   "execution_count": 103,
   "metadata": {},
   "outputs": [],
   "source": [
    "\n",
    "pd.DataFrame(w1).to_csv(\"w1.csv\",header=None, index=None)\n",
    "pd.DataFrame(w2).to_csv(\"w2.csv\",header=None, index=None)"
   ]
  },
  {
   "cell_type": "code",
   "execution_count": 28,
   "metadata": {
    "scrolled": true
   },
   "outputs": [],
   "source": [
    "import pandas as pd\n",
    "import numpy as np\n",
    "\n",
    "#print(data[0])\n",
    "#print(w1)\n",
    "data = pd.read_csv('data12.csv', sep=',', error_bad_lines=True,header=None) #, header=0\n",
    "vector = pd.read_csv('vectors2.csv', sep=',', error_bad_lines=True,header=None) #, header=0"
   ]
  },
  {
   "cell_type": "code",
   "execution_count": 36,
   "metadata": {},
   "outputs": [
    {
     "name": "stdout",
     "output_type": "stream",
     "text": [
      "12\n",
      "309532\n",
      "605\n",
      "0        -0.018872\n",
      "1         0.514745\n",
      "2        -0.508416\n",
      "3         0.297453\n",
      "4         0.514745\n",
      "            ...   \n",
      "309527   -0.305127\n",
      "309528    0.148135\n",
      "309529    0.861113\n",
      "309530    0.401059\n",
      "309531    0.298052\n",
      "Name: 599, Length: 309532, dtype: float64\n"
     ]
    }
   ],
   "source": [
    "print(data.shape[1])\n",
    "print(data.shape[0])\n",
    "print(vector.shape[1])\n",
    "print(vector[599])\n",
    "#merged = data.merge(vector)\n",
    "data = pd.read_csv('data12.csv', sep=',', error_bad_lines=True,header=None) #, header=0\n",
    "merged =pd.concat([data,vector], axis =1 ,ignore_index=True)\n",
    "#merged.to_csv(\"output.csv\", index=False)"
   ]
  },
  {
   "cell_type": "code",
   "execution_count": 37,
   "metadata": {},
   "outputs": [
    {
     "name": "stdout",
     "output_type": "stream",
     "text": [
      "617\n",
      "309532\n",
      "0        -0.240118\n",
      "1         0.801209\n",
      "2         0.801209\n",
      "3         0.801209\n",
      "4         0.801209\n",
      "            ...   \n",
      "309527    0.354652\n",
      "309528   -0.300626\n",
      "309529   -0.388826\n",
      "309530   -0.388826\n",
      "309531   -0.508017\n",
      "Name: 14, Length: 309532, dtype: float64\n"
     ]
    }
   ],
   "source": [
    "print(merged.shape[1])\n",
    "print(merged.shape[0])\n",
    "print(merged[14])"
   ]
  },
  {
   "cell_type": "code",
   "execution_count": null,
   "metadata": {},
   "outputs": [],
   "source": [
    "#print(data.shape[1])\n",
    "#print(data.shape[0])\n",
    "#print(len(w1))\n",
    "#print(data[11])\n",
    "#print(w1[309531])\n",
    "data2=[]\n",
    "for i in range(0,10):\n",
    "    #clear_output(wait=True)\n",
    "   # print((i+1)/309533)\n",
    "    data3=[]\n",
    "    print(data[0][i])\n",
    "    #print(str(data[0][i])+data[1][i]+data[2][i]+data[3][i]+data[4][i]+data[5][i]+data[5][i]+data[6][i]+data[7][i]+data[8][i]+data[9][i]+data[10][i]+data[11][i]+w1[i])"
   ]
  },
  {
   "cell_type": "code",
   "execution_count": null,
   "metadata": {},
   "outputs": [],
   "source": [
    "data2 = np.hstack((data, np.atleast_2d(w1)))"
   ]
  },
  {
   "cell_type": "code",
   "execution_count": 111,
   "metadata": {},
   "outputs": [
    {
     "name": "stderr",
     "output_type": "stream",
     "text": [
      "c:\\python\\python36\\lib\\site-packages\\IPython\\core\\interactiveshell.py:3072: DtypeWarning: Columns (300,316,317,318,319,320,321,322,323,324,325,326,327,328,329,330,331,332,333,334,335,336,337,338,339,340,341,342,343,344,345,346,347,348,349,350,351,352,353,354,355,362) have mixed types.Specify dtype option on import or set low_memory=False.\n",
      "  interactivity=interactivity, compiler=compiler, result=result)\n"
     ]
    }
   ],
   "source": [
    "w1 = pd.read_csv('w1.csv', sep=',', error_bad_lines=True,header=None) #, header=0\n",
    "#w2 = pd.read_csv('w2.csv', sep=',', error_bad_lines=True,header=None) #, header=0\n"
   ]
  },
  {
   "cell_type": "code",
   "execution_count": 109,
   "metadata": {},
   "outputs": [
    {
     "name": "stdout",
     "output_type": "stream",
     "text": [
      "0.9986689625984951\n"
     ]
    }
   ],
   "source": [
    "from IPython.display import clear_output\n",
    "import datetime\n",
    "\n",
    "data2=[]\n",
    "from numba import njit\n",
    "@njit\n",
    "def f(m,n,data):\n",
    "    \n",
    "    for i in range(m,n):\n",
    "        data2=[]\n",
    "        newrow=[]\n",
    "        newrow.append(data[2][i])\n",
    "        newrow.append(data[3][i])\n",
    "        newrow.append(data[6][i])\n",
    "        newrow.append(data[7][i])\n",
    "        newrow.append(data[8][i])\n",
    "        newrow.append(data[9][i])\n",
    "        newrow.append(data[10][i])\n",
    "        newrow.append(data[11][i])\n",
    "        newrow.append(data[12][i])\n",
    "        newrow.append(data[13][i])\n",
    "        newrow.append(data[14][i])\n",
    "        newrow.append(data[15][i])\n",
    "        data2.append(newrow)\n",
    "    return data2\n",
    "#data2= f(1,30000,data)\n",
    "from multiprocess import Pool #! pip install multiprocess\n",
    "for i in range(1,309533):\n",
    "    clear_output(wait=True)\n",
    "    print((i+1)/309533)\n",
    "    newrow=[]\n",
    "    newrow.append(data[2][i])\n",
    "    newrow.append(data[3][i])\n",
    "    newrow.append(data[6][i])\n",
    "    newrow.append(data[7][i])\n",
    "    newrow.append(data[8][i])\n",
    "    newrow.append(data[9][i])\n",
    "    newrow.append(data[10][i])\n",
    "    newrow.append(data[11][i])\n",
    "    newrow.append(data[12][i])\n",
    "    newrow.append(data[13][i])\n",
    "    newrow.append(data[14][i])\n",
    "    newrow.append(data[15][i])\n",
    "    #data2 = np.concatenate((data2,newrow))\n",
    "    #data2 = np.insert(data2, i-1, newrow, axis=0)\n",
    "    data2.append(newrow)"
   ]
  },
  {
   "cell_type": "code",
   "execution_count": 110,
   "metadata": {},
   "outputs": [],
   "source": [
    "pd.DataFrame(data2).to_csv(\"data12.csv\",header=None, index=None)"
   ]
  },
  {
   "cell_type": "code",
   "execution_count": null,
   "metadata": {},
   "outputs": [],
   "source": [
    "Dposm=[]\n",
    "DAnimacym=[]\n",
    "DCasem=[]\n",
    "DGenderm=[]\n",
    "DNumberm=[]\n",
    "w1=[]\n",
    "w2=[]\n",
    "for i in range(309533):\n",
    "    pos2=y.split(\"'pos': \")\n",
    "    pos3=pos2[1].split(',')\n",
    "    pos=pos3[0]\n",
    "    an2=x.split(\"'Animacy': \")\n",
    "    if len(an2)>>1 :\n",
    "        an3=an2[1].split(',')\n",
    "        Animacy=an3[0]\n",
    "    else:\n",
    "        Animacy=0\n",
    "    Case2=y.split(\"'Case': \")\n",
    "    if len(Case2)>>1 :\n",
    "        Case3=Case2[1].split(',')\n",
    "        Case=Case3[0]\n",
    "    else:\n",
    "        Case=0\n",
    "    Gender2=y.split(\"'Gender': \")\n",
    "    if len(Gender2)>>1 :\n",
    "        Gender3=Gender2[1].split(',')\n",
    "        Gender=Gender3[0]\n",
    "    else:\n",
    "        Gender=0\n",
    "    Number2=y.split(\"'Number': \")\n",
    "    if len(Number2)>>1 :\n",
    "        Number3=Number2[1].split('}')\n",
    "        Number=Number3[0]\n",
    "    else:\n",
    "        Number=0\n",
    "    Dposm.append(pos)\n",
    "    DAnimacym.append(Animacy)\n",
    "    DCasem.append(Case)\n",
    "    DGenderm.append(Gender)\n",
    "    DNumberm.append(Number)\n",
    "\n",
    "    vx=vx.replace('\\n', \"\")\n",
    "    vx=vx.replace('  ', \" \")\n",
    "    w11=vx.split(' ')\n",
    "    w1.append(w11)\n",
    "    \n",
    "    vy=vy.replace('\\n', \"\")\n",
    "    vy=vy.replace('  ', \" \")\n",
    "    w22=vy.split(' ')\n",
    "    w2.append(w22)\n",
    "\n",
    "data2 = np.hstack((data, np.atleast_2d(Dposm).T)) \n",
    "data = np.hstack((data2, np.atleast_2d(DAnimacym).T))\n",
    "data2 = np.hstack((data, np.atleast_2d(DCasem).T))\n",
    "data = np.hstack((data2, np.atleast_2d(DGenderm).T))\n",
    "data2 = np.hstack((data, np.atleast_2d(DNumberm).T))"
   ]
  },
  {
   "cell_type": "code",
   "execution_count": 97,
   "metadata": {},
   "outputs": [
    {
     "name": "stdout",
     "output_type": "stream",
     "text": [
      "301\n",
      "1.44618064e-01]\n"
     ]
    }
   ],
   "source": [
    "s=data2[0][1]\n",
    "s=s.replace('\\n', \"\")\n",
    "s=s.replace('  ', \" \")\n",
    "w1=s.split(' ')\n",
    "#data2[0][1]=s\n",
    "print(len(w1))\n",
    "print(w1[301])"
   ]
  },
  {
   "cell_type": "code",
   "execution_count": 51,
   "metadata": {},
   "outputs": [],
   "source": [
    "from collections import Counter\n",
    "#текстовые поля \n",
    "#h=['depw_upostag','depw_gender','depw_animacy','depw_number','depw_case','depw_degree',\n",
    "#  'depw_verbform','depw_mood','depw_tense','depw_aspect','depw_voice','UD_dependence','mainw_upostag','mainw_gender','mainw_animacy','mainw_number','mainw_case','mainw_degree','mainw_verbform','mainw_mood','mainw_tense','mainw_aspect','mainw_voice','mainw_person','WN_relation']\n",
    "h=['skos','sim','pos1','an1','case1','gen1','num1','pos2','an2','case2','gen2','num2',\n",
    "'w1','w2','w3','w4','w5','w6','w7','w8','w9','w10','w11','w12','w13','w14','w15','w16','w17','w18','w19','w20','w21','w22','w23','w24','w25','w26','w27','w28','w29','w30','w31','w32','w33','w34','w35','w36','w37','w38','w39','w40','w41','w42','w43','w44','w45','w46','w47','w48','w49','w50','w51','w52','w53','w54','w55','w56','w57','w58','w59','w60','w61','w62','w63','w64','w65','w66','w67','w68','w69','w70','w71','w72','w73','w74','w75','w76','w77','w78','w79','w80','w81','w82','w83','w84','w85','w86','w87','w88','w89','w90','w91','w92','w93','w94','w95','w96','w97','w98','w99','w100','w101','w102','w103','w104','w105','w106','w107','w108','w109','w110','w111','w112','w113','w114','w115','w116','w117','w118','w119','w120','w121','w122','w123','w124','w125','w126','w127','w128','w129','w130','w131','w132','w133','w134','w135','w136','w137','w138','w139','w140','w141','w142','w143','w144','w145','w146','w147','w148','w149','w150','w151','w152','w153','w154','w155','w156','w157','w158','w159','w160','w161','w162','w163','w164','w165','w166','w167','w168','w169','w170','w171','w172','w173','w174','w175','w176','w177','w178','w179','w180','w181','w182','w183','w184','w185','w186','w187','w188','w189','w190','w191','w192','w193','w194','w195','w196','w197','w198','w199','w200','w201','w202','w203','w204','w205','w206','w207','w208','w209','w210','w211','w212','w213','w214','w215','w216','w217','w218','w219','w220','w221','w222','w223','w224','w225','w226','w227','w228','w229','w230','w231','w232','w233','w234','w235','w236','w237','w238','w239','w240','w241','w242','w243','w244','w245','w246','w247','w248','w249','w250','w251','w252','w253','w254','w255','w256','w257','w258','w259','w260','w261','w262','w263','w264','w265','w266','w267','w268','w269','w270','w271','w272','w273','w274','w275','w276','w277','w278','w279','w280','w281','w282','w283','w284','w285','w286','w287','w288','w289','w290','w291','w292','w293','w294','w295','w296','w297','w298','w299','w300',\n",
    "'w2_1','w2_2','w2_3','w2_4','w2_5','w2_6','w2_7','w2_8','w2_9','w2_10','w2_11','w2_12','w2_13','w2_14','w2_15','w2_16','w2_17','w2_18','w2_19','w2_20','w2_21','w2_22','w2_23','w2_24','w2_25','w2_26','w2_27','w2_28','w2_29','w2_30','w2_31','w2_32','w2_33','w2_34','w2_35','w2_36','w2_37','w2_38','w2_39','w2_40','w2_41','w2_42','w2_43','w2_44','w2_45','w2_46','w2_47','w2_48','w2_49','w2_50','w2_51','w2_52','w2_53','w2_54','w2_55','w2_56','w2_57','w2_58','w2_59','w2_60','w2_61','w2_62','w2_63','w2_64','w2_65','w2_66','w2_67','w2_68','w2_69','w2_70','w2_71','w2_72','w2_73','w2_74','w2_75','w2_76','w2_77','w2_78','w2_79','w2_80','w2_81','w2_82','w2_83','w2_84','w2_85','w2_86','w2_87','w2_88','w2_89','w2_90','w2_91','w2_92','w2_93','w2_94','w2_95','w2_96','w2_97','w2_98','w2_99','w2_100','w2_101','w2_102','w2_103','w2_104','w2_105','w2_106','w2_107','w2_108','w2_109','w2_110','w2_111','w2_112','w2_113','w2_114','w2_115','w2_116','w2_117','w2_118','w2_119','w2_120','w2_121','w2_122','w2_123','w2_124','w2_125','w2_126','w2_127','w2_128','w2_129','w2_130','w2_131','w2_132','w2_133','w2_134','w2_135','w2_136','w2_137','w2_138','w2_139','w2_140','w2_141','w2_142','w2_143','w2_144','w2_145','w2_146','w2_147','w2_148','w2_149','w2_150','w2_151','w2_152','w2_153','w2_154','w2_155','w2_156','w2_157','w2_158','w2_159','w2_160','w2_161','w2_162','w2_163','w2_164','w2_165','w2_166','w2_167','w2_168','w2_169','w2_170','w2_171','w2_172','w2_173','w2_174','w2_175','w2_176','w2_177','w2_178','w2_179','w2_180','w2_181','w2_182','w2_183','w2_184','w2_185','w2_186','w2_187','w2_188','w2_189','w2_190','w2_191','w2_192','w2_193','w2_194','w2_195','w2_196','w2_197','w2_198','w2_199','w2_200','w2_201','w2_202','w2_203','w2_204','w2_205','w2_206','w2_207','w2_208','w2_209','w2_210','w2_211','w2_212','w2_213','w2_214','w2_215','w2_216','w2_217','w2_218','w2_219','w2_220','w2_221','w2_222','w2_223','w2_224','w2_225','w2_226','w2_227','w2_228','w2_229','w2_230','w2_231','w2_232','w2_233','w2_234','w2_235','w2_236','w2_237','w2_238','w2_239','w2_240','w2_241','w2_242','w2_243','w2_244','w2_245','w2_246','w2_247','w2_248','w2_249','w2_250','w2_251','w2_252','w2_253','w2_254','w2_255','w2_256','w2_257','w2_258','w2_259','w2_260','w2_261','w2_262','w2_263','w2_264','w2_265','w2_266','w2_267','w2_268','w2_269','w2_270','w2_271','w2_272','w2_273','w2_274','w2_275','w2_276','w2_277','w2_278','w2_279','w2_280','w2_281','w2_282','w2_283','w2_284','w2_285','w2_286','w2_287','w2_288','w2_289','w2_290','w2_291','w2_292','w2_293','w2_294','w2_295','w2_296','w2_297','w2_298','w2_299','w2_300']\n",
    "vectors2 = pd.read_csv('vectors2.csv', sep=',', error_bad_lines=True,header=None) #, header=0\n",
    "data12 = pd.read_csv('data12.csv', sep=',', error_bad_lines=True,header=None) #, header=0"
   ]
  },
  {
   "cell_type": "code",
   "execution_count": 52,
   "metadata": {},
   "outputs": [
    {
     "name": "stdout",
     "output_type": "stream",
     "text": [
      "617\n",
      "309532\n",
      "0          'Fem'\n",
      "1         'Masc'\n",
      "2         'Masc'\n",
      "3          'Fem'\n",
      "4         'Masc'\n",
      "           ...  \n",
      "309527    'Masc'\n",
      "309528     'Fem'\n",
      "309529     'Fem'\n",
      "309530    'Masc'\n",
      "309531    'Masc'\n",
      "Name: 10, Length: 309532, dtype: object\n"
     ]
    }
   ],
   "source": [
    "\n",
    "data =pd.concat([data12,vectors2], axis =1 ,ignore_index=True)\n",
    "print(data.shape[1])\n",
    "print(data.shape[0])\n"
   ]
  },
  {
   "cell_type": "code",
   "execution_count": 55,
   "metadata": {},
   "outputs": [
    {
     "name": "stdout",
     "output_type": "stream",
     "text": [
      "0         'Sing'\n",
      "1         'Sing'\n",
      "2         'Sing'\n",
      "3         'Sing'\n",
      "4         'Sing'\n",
      "           ...  \n",
      "309527    'Plur'\n",
      "309528    'Sing'\n",
      "309529    'Sing'\n",
      "309530    'Plur'\n",
      "309531    'Plur'\n",
      "Name: 11, Length: 309532, dtype: object\n"
     ]
    }
   ],
   "source": [
    "print(data[11])"
   ]
  },
  {
   "cell_type": "code",
   "execution_count": 37,
   "metadata": {},
   "outputs": [
    {
     "name": "stderr",
     "output_type": "stream",
     "text": [
      "c:\\python\\python36\\lib\\site-packages\\ipykernel_launcher.py:17: SettingWithCopyWarning: \n",
      "A value is trying to be set on a copy of a slice from a DataFrame\n",
      "\n",
      "See the caveats in the documentation: https://pandas.pydata.org/pandas-docs/stable/user_guide/indexing.html#returning-a-view-versus-a-copy\n",
      "c:\\python\\python36\\lib\\site-packages\\ipykernel_launcher.py:29: SettingWithCopyWarning: \n",
      "A value is trying to be set on a copy of a slice from a DataFrame\n",
      "\n",
      "See the caveats in the documentation: https://pandas.pydata.org/pandas-docs/stable/user_guide/indexing.html#returning-a-view-versus-a-copy\n",
      "c:\\python\\python36\\lib\\site-packages\\ipykernel_launcher.py:40: SettingWithCopyWarning: \n",
      "A value is trying to be set on a copy of a slice from a DataFrame\n",
      "\n",
      "See the caveats in the documentation: https://pandas.pydata.org/pandas-docs/stable/user_guide/indexing.html#returning-a-view-versus-a-copy\n",
      "c:\\python\\python36\\lib\\site-packages\\ipykernel_launcher.py:51: SettingWithCopyWarning: \n",
      "A value is trying to be set on a copy of a slice from a DataFrame\n",
      "\n",
      "See the caveats in the documentation: https://pandas.pydata.org/pandas-docs/stable/user_guide/indexing.html#returning-a-view-versus-a-copy\n",
      "c:\\python\\python36\\lib\\site-packages\\ipykernel_launcher.py:62: SettingWithCopyWarning: \n",
      "A value is trying to be set on a copy of a slice from a DataFrame\n",
      "\n",
      "See the caveats in the documentation: https://pandas.pydata.org/pandas-docs/stable/user_guide/indexing.html#returning-a-view-versus-a-copy\n",
      "c:\\python\\python36\\lib\\site-packages\\ipykernel_launcher.py:73: SettingWithCopyWarning: \n",
      "A value is trying to be set on a copy of a slice from a DataFrame\n",
      "\n",
      "See the caveats in the documentation: https://pandas.pydata.org/pandas-docs/stable/user_guide/indexing.html#returning-a-view-versus-a-copy\n",
      "c:\\python\\python36\\lib\\site-packages\\ipykernel_launcher.py:84: SettingWithCopyWarning: \n",
      "A value is trying to be set on a copy of a slice from a DataFrame\n",
      "\n",
      "See the caveats in the documentation: https://pandas.pydata.org/pandas-docs/stable/user_guide/indexing.html#returning-a-view-versus-a-copy\n",
      "c:\\python\\python36\\lib\\site-packages\\ipykernel_launcher.py:95: SettingWithCopyWarning: \n",
      "A value is trying to be set on a copy of a slice from a DataFrame\n",
      "\n",
      "See the caveats in the documentation: https://pandas.pydata.org/pandas-docs/stable/user_guide/indexing.html#returning-a-view-versus-a-copy\n",
      "c:\\python\\python36\\lib\\site-packages\\ipykernel_launcher.py:106: SettingWithCopyWarning: \n",
      "A value is trying to be set on a copy of a slice from a DataFrame\n",
      "\n",
      "See the caveats in the documentation: https://pandas.pydata.org/pandas-docs/stable/user_guide/indexing.html#returning-a-view-versus-a-copy\n",
      "c:\\python\\python36\\lib\\site-packages\\ipykernel_launcher.py:117: SettingWithCopyWarning: \n",
      "A value is trying to be set on a copy of a slice from a DataFrame\n",
      "\n",
      "See the caveats in the documentation: https://pandas.pydata.org/pandas-docs/stable/user_guide/indexing.html#returning-a-view-versus-a-copy\n",
      "c:\\python\\python36\\lib\\site-packages\\ipykernel_launcher.py:128: SettingWithCopyWarning: \n",
      "A value is trying to be set on a copy of a slice from a DataFrame\n",
      "\n",
      "See the caveats in the documentation: https://pandas.pydata.org/pandas-docs/stable/user_guide/indexing.html#returning-a-view-versus-a-copy\n",
      "c:\\python\\python36\\lib\\site-packages\\ipykernel_launcher.py:139: SettingWithCopyWarning: \n",
      "A value is trying to be set on a copy of a slice from a DataFrame\n",
      "\n",
      "See the caveats in the documentation: https://pandas.pydata.org/pandas-docs/stable/user_guide/indexing.html#returning-a-view-versus-a-copy\n",
      "c:\\python\\python36\\lib\\site-packages\\ipykernel_launcher.py:150: SettingWithCopyWarning: \n",
      "A value is trying to be set on a copy of a slice from a DataFrame\n",
      "\n",
      "See the caveats in the documentation: https://pandas.pydata.org/pandas-docs/stable/user_guide/indexing.html#returning-a-view-versus-a-copy\n",
      "c:\\python\\python36\\lib\\site-packages\\ipykernel_launcher.py:161: SettingWithCopyWarning: \n",
      "A value is trying to be set on a copy of a slice from a DataFrame\n",
      "\n",
      "See the caveats in the documentation: https://pandas.pydata.org/pandas-docs/stable/user_guide/indexing.html#returning-a-view-versus-a-copy\n",
      "c:\\python\\python36\\lib\\site-packages\\ipykernel_launcher.py:173: SettingWithCopyWarning: \n",
      "A value is trying to be set on a copy of a slice from a DataFrame\n",
      "\n",
      "See the caveats in the documentation: https://pandas.pydata.org/pandas-docs/stable/user_guide/indexing.html#returning-a-view-versus-a-copy\n",
      "c:\\python\\python36\\lib\\site-packages\\ipykernel_launcher.py:185: SettingWithCopyWarning: \n",
      "A value is trying to be set on a copy of a slice from a DataFrame\n",
      "\n",
      "See the caveats in the documentation: https://pandas.pydata.org/pandas-docs/stable/user_guide/indexing.html#returning-a-view-versus-a-copy\n",
      "c:\\python\\python36\\lib\\site-packages\\ipykernel_launcher.py:197: SettingWithCopyWarning: \n",
      "A value is trying to be set on a copy of a slice from a DataFrame\n",
      "\n",
      "See the caveats in the documentation: https://pandas.pydata.org/pandas-docs/stable/user_guide/indexing.html#returning-a-view-versus-a-copy\n",
      "c:\\python\\python36\\lib\\site-packages\\ipykernel_launcher.py:209: SettingWithCopyWarning: \n",
      "A value is trying to be set on a copy of a slice from a DataFrame\n",
      "\n",
      "See the caveats in the documentation: https://pandas.pydata.org/pandas-docs/stable/user_guide/indexing.html#returning-a-view-versus-a-copy\n",
      "c:\\python\\python36\\lib\\site-packages\\ipykernel_launcher.py:221: SettingWithCopyWarning: \n",
      "A value is trying to be set on a copy of a slice from a DataFrame\n",
      "\n",
      "See the caveats in the documentation: https://pandas.pydata.org/pandas-docs/stable/user_guide/indexing.html#returning-a-view-versus-a-copy\n",
      "c:\\python\\python36\\lib\\site-packages\\ipykernel_launcher.py:233: SettingWithCopyWarning: \n",
      "A value is trying to be set on a copy of a slice from a DataFrame\n",
      "\n",
      "See the caveats in the documentation: https://pandas.pydata.org/pandas-docs/stable/user_guide/indexing.html#returning-a-view-versus-a-copy\n",
      "c:\\python\\python36\\lib\\site-packages\\ipykernel_launcher.py:245: SettingWithCopyWarning: \n",
      "A value is trying to be set on a copy of a slice from a DataFrame\n",
      "\n",
      "See the caveats in the documentation: https://pandas.pydata.org/pandas-docs/stable/user_guide/indexing.html#returning-a-view-versus-a-copy\n",
      "c:\\python\\python36\\lib\\site-packages\\ipykernel_launcher.py:257: SettingWithCopyWarning: \n",
      "A value is trying to be set on a copy of a slice from a DataFrame\n",
      "\n",
      "See the caveats in the documentation: https://pandas.pydata.org/pandas-docs/stable/user_guide/indexing.html#returning-a-view-versus-a-copy\n",
      "c:\\python\\python36\\lib\\site-packages\\ipykernel_launcher.py:269: SettingWithCopyWarning: \n",
      "A value is trying to be set on a copy of a slice from a DataFrame\n",
      "\n",
      "See the caveats in the documentation: https://pandas.pydata.org/pandas-docs/stable/user_guide/indexing.html#returning-a-view-versus-a-copy\n",
      "c:\\python\\python36\\lib\\site-packages\\ipykernel_launcher.py:281: SettingWithCopyWarning: \n",
      "A value is trying to be set on a copy of a slice from a DataFrame\n",
      "\n",
      "See the caveats in the documentation: https://pandas.pydata.org/pandas-docs/stable/user_guide/indexing.html#returning-a-view-versus-a-copy\n",
      "c:\\python\\python36\\lib\\site-packages\\ipykernel_launcher.py:293: SettingWithCopyWarning: \n",
      "A value is trying to be set on a copy of a slice from a DataFrame\n",
      "\n",
      "See the caveats in the documentation: https://pandas.pydata.org/pandas-docs/stable/user_guide/indexing.html#returning-a-view-versus-a-copy\n",
      "c:\\python\\python36\\lib\\site-packages\\ipykernel_launcher.py:305: SettingWithCopyWarning: \n",
      "A value is trying to be set on a copy of a slice from a DataFrame\n",
      "\n",
      "See the caveats in the documentation: https://pandas.pydata.org/pandas-docs/stable/user_guide/indexing.html#returning-a-view-versus-a-copy\n",
      "c:\\python\\python36\\lib\\site-packages\\ipykernel_launcher.py:317: SettingWithCopyWarning: \n",
      "A value is trying to be set on a copy of a slice from a DataFrame\n",
      "\n",
      "See the caveats in the documentation: https://pandas.pydata.org/pandas-docs/stable/user_guide/indexing.html#returning-a-view-versus-a-copy\n",
      "c:\\python\\python36\\lib\\site-packages\\ipykernel_launcher.py:329: SettingWithCopyWarning: \n",
      "A value is trying to be set on a copy of a slice from a DataFrame\n",
      "\n",
      "See the caveats in the documentation: https://pandas.pydata.org/pandas-docs/stable/user_guide/indexing.html#returning-a-view-versus-a-copy\n",
      "c:\\python\\python36\\lib\\site-packages\\ipykernel_launcher.py:341: SettingWithCopyWarning: \n",
      "A value is trying to be set on a copy of a slice from a DataFrame\n",
      "\n",
      "See the caveats in the documentation: https://pandas.pydata.org/pandas-docs/stable/user_guide/indexing.html#returning-a-view-versus-a-copy\n",
      "c:\\python\\python36\\lib\\site-packages\\ipykernel_launcher.py:353: SettingWithCopyWarning: \n",
      "A value is trying to be set on a copy of a slice from a DataFrame\n",
      "\n",
      "See the caveats in the documentation: https://pandas.pydata.org/pandas-docs/stable/user_guide/indexing.html#returning-a-view-versus-a-copy\n",
      "c:\\python\\python36\\lib\\site-packages\\ipykernel_launcher.py:369: SettingWithCopyWarning: \n",
      "A value is trying to be set on a copy of a slice from a DataFrame\n",
      "\n",
      "See the caveats in the documentation: https://pandas.pydata.org/pandas-docs/stable/user_guide/indexing.html#returning-a-view-versus-a-copy\n",
      "c:\\python\\python36\\lib\\site-packages\\ipykernel_launcher.py:381: SettingWithCopyWarning: \n",
      "A value is trying to be set on a copy of a slice from a DataFrame\n",
      "\n",
      "See the caveats in the documentation: https://pandas.pydata.org/pandas-docs/stable/user_guide/indexing.html#returning-a-view-versus-a-copy\n",
      "c:\\python\\python36\\lib\\site-packages\\ipykernel_launcher.py:393: SettingWithCopyWarning: \n",
      "A value is trying to be set on a copy of a slice from a DataFrame\n",
      "\n",
      "See the caveats in the documentation: https://pandas.pydata.org/pandas-docs/stable/user_guide/indexing.html#returning-a-view-versus-a-copy\n",
      "c:\\python\\python36\\lib\\site-packages\\ipykernel_launcher.py:405: SettingWithCopyWarning: \n",
      "A value is trying to be set on a copy of a slice from a DataFrame\n",
      "\n",
      "See the caveats in the documentation: https://pandas.pydata.org/pandas-docs/stable/user_guide/indexing.html#returning-a-view-versus-a-copy\n",
      "c:\\python\\python36\\lib\\site-packages\\ipykernel_launcher.py:417: SettingWithCopyWarning: \n",
      "A value is trying to be set on a copy of a slice from a DataFrame\n",
      "\n",
      "See the caveats in the documentation: https://pandas.pydata.org/pandas-docs/stable/user_guide/indexing.html#returning-a-view-versus-a-copy\n",
      "c:\\python\\python36\\lib\\site-packages\\ipykernel_launcher.py:429: SettingWithCopyWarning: \n",
      "A value is trying to be set on a copy of a slice from a DataFrame\n",
      "\n",
      "See the caveats in the documentation: https://pandas.pydata.org/pandas-docs/stable/user_guide/indexing.html#returning-a-view-versus-a-copy\n",
      "c:\\python\\python36\\lib\\site-packages\\ipykernel_launcher.py:441: SettingWithCopyWarning: \n",
      "A value is trying to be set on a copy of a slice from a DataFrame\n",
      "\n",
      "See the caveats in the documentation: https://pandas.pydata.org/pandas-docs/stable/user_guide/indexing.html#returning-a-view-versus-a-copy\n",
      "c:\\python\\python36\\lib\\site-packages\\ipykernel_launcher.py:453: SettingWithCopyWarning: \n",
      "A value is trying to be set on a copy of a slice from a DataFrame\n",
      "\n",
      "See the caveats in the documentation: https://pandas.pydata.org/pandas-docs/stable/user_guide/indexing.html#returning-a-view-versus-a-copy\n",
      "c:\\python\\python36\\lib\\site-packages\\ipykernel_launcher.py:465: SettingWithCopyWarning: \n",
      "A value is trying to be set on a copy of a slice from a DataFrame\n",
      "\n",
      "See the caveats in the documentation: https://pandas.pydata.org/pandas-docs/stable/user_guide/indexing.html#returning-a-view-versus-a-copy\n",
      "c:\\python\\python36\\lib\\site-packages\\ipykernel_launcher.py:477: SettingWithCopyWarning: \n",
      "A value is trying to be set on a copy of a slice from a DataFrame\n",
      "\n",
      "See the caveats in the documentation: https://pandas.pydata.org/pandas-docs/stable/user_guide/indexing.html#returning-a-view-versus-a-copy\n",
      "c:\\python\\python36\\lib\\site-packages\\ipykernel_launcher.py:489: SettingWithCopyWarning: \n",
      "A value is trying to be set on a copy of a slice from a DataFrame\n",
      "\n",
      "See the caveats in the documentation: https://pandas.pydata.org/pandas-docs/stable/user_guide/indexing.html#returning-a-view-versus-a-copy\n",
      "c:\\python\\python36\\lib\\site-packages\\ipykernel_launcher.py:501: SettingWithCopyWarning: \n",
      "A value is trying to be set on a copy of a slice from a DataFrame\n",
      "\n",
      "See the caveats in the documentation: https://pandas.pydata.org/pandas-docs/stable/user_guide/indexing.html#returning-a-view-versus-a-copy\n",
      "c:\\python\\python36\\lib\\site-packages\\ipykernel_launcher.py:513: SettingWithCopyWarning: \n",
      "A value is trying to be set on a copy of a slice from a DataFrame\n",
      "\n",
      "See the caveats in the documentation: https://pandas.pydata.org/pandas-docs/stable/user_guide/indexing.html#returning-a-view-versus-a-copy\n",
      "c:\\python\\python36\\lib\\site-packages\\ipykernel_launcher.py:525: SettingWithCopyWarning: \n",
      "A value is trying to be set on a copy of a slice from a DataFrame\n",
      "\n",
      "See the caveats in the documentation: https://pandas.pydata.org/pandas-docs/stable/user_guide/indexing.html#returning-a-view-versus-a-copy\n",
      "c:\\python\\python36\\lib\\site-packages\\ipykernel_launcher.py:537: SettingWithCopyWarning: \n",
      "A value is trying to be set on a copy of a slice from a DataFrame\n",
      "\n",
      "See the caveats in the documentation: https://pandas.pydata.org/pandas-docs/stable/user_guide/indexing.html#returning-a-view-versus-a-copy\n",
      "c:\\python\\python36\\lib\\site-packages\\ipykernel_launcher.py:549: SettingWithCopyWarning: \n",
      "A value is trying to be set on a copy of a slice from a DataFrame\n",
      "\n",
      "See the caveats in the documentation: https://pandas.pydata.org/pandas-docs/stable/user_guide/indexing.html#returning-a-view-versus-a-copy\n",
      "c:\\python\\python36\\lib\\site-packages\\ipykernel_launcher.py:561: SettingWithCopyWarning: \n",
      "A value is trying to be set on a copy of a slice from a DataFrame\n",
      "\n",
      "See the caveats in the documentation: https://pandas.pydata.org/pandas-docs/stable/user_guide/indexing.html#returning-a-view-versus-a-copy\n",
      "c:\\python\\python36\\lib\\site-packages\\ipykernel_launcher.py:573: SettingWithCopyWarning: \n",
      "A value is trying to be set on a copy of a slice from a DataFrame\n",
      "\n",
      "See the caveats in the documentation: https://pandas.pydata.org/pandas-docs/stable/user_guide/indexing.html#returning-a-view-versus-a-copy\n",
      "c:\\python\\python36\\lib\\site-packages\\ipykernel_launcher.py:585: SettingWithCopyWarning: \n",
      "A value is trying to be set on a copy of a slice from a DataFrame\n",
      "\n",
      "See the caveats in the documentation: https://pandas.pydata.org/pandas-docs/stable/user_guide/indexing.html#returning-a-view-versus-a-copy\n",
      "c:\\python\\python36\\lib\\site-packages\\ipykernel_launcher.py:597: SettingWithCopyWarning: \n",
      "A value is trying to be set on a copy of a slice from a DataFrame\n",
      "\n",
      "See the caveats in the documentation: https://pandas.pydata.org/pandas-docs/stable/user_guide/indexing.html#returning-a-view-versus-a-copy\n",
      "c:\\python\\python36\\lib\\site-packages\\ipykernel_launcher.py:609: SettingWithCopyWarning: \n",
      "A value is trying to be set on a copy of a slice from a DataFrame\n",
      "\n",
      "See the caveats in the documentation: https://pandas.pydata.org/pandas-docs/stable/user_guide/indexing.html#returning-a-view-versus-a-copy\n",
      "c:\\python\\python36\\lib\\site-packages\\ipykernel_launcher.py:621: SettingWithCopyWarning: \n",
      "A value is trying to be set on a copy of a slice from a DataFrame\n",
      "\n",
      "See the caveats in the documentation: https://pandas.pydata.org/pandas-docs/stable/user_guide/indexing.html#returning-a-view-versus-a-copy\n",
      "c:\\python\\python36\\lib\\site-packages\\ipykernel_launcher.py:633: SettingWithCopyWarning: \n",
      "A value is trying to be set on a copy of a slice from a DataFrame\n",
      "\n",
      "See the caveats in the documentation: https://pandas.pydata.org/pandas-docs/stable/user_guide/indexing.html#returning-a-view-versus-a-copy\n",
      "c:\\python\\python36\\lib\\site-packages\\ipykernel_launcher.py:645: SettingWithCopyWarning: \n",
      "A value is trying to be set on a copy of a slice from a DataFrame\n",
      "\n",
      "See the caveats in the documentation: https://pandas.pydata.org/pandas-docs/stable/user_guide/indexing.html#returning-a-view-versus-a-copy\n",
      "c:\\python\\python36\\lib\\site-packages\\ipykernel_launcher.py:657: SettingWithCopyWarning: \n",
      "A value is trying to be set on a copy of a slice from a DataFrame\n",
      "\n",
      "See the caveats in the documentation: https://pandas.pydata.org/pandas-docs/stable/user_guide/indexing.html#returning-a-view-versus-a-copy\n",
      "c:\\python\\python36\\lib\\site-packages\\ipykernel_launcher.py:669: SettingWithCopyWarning: \n",
      "A value is trying to be set on a copy of a slice from a DataFrame\n",
      "\n",
      "See the caveats in the documentation: https://pandas.pydata.org/pandas-docs/stable/user_guide/indexing.html#returning-a-view-versus-a-copy\n",
      "c:\\python\\python36\\lib\\site-packages\\ipykernel_launcher.py:681: SettingWithCopyWarning: \n",
      "A value is trying to be set on a copy of a slice from a DataFrame\n",
      "\n",
      "See the caveats in the documentation: https://pandas.pydata.org/pandas-docs/stable/user_guide/indexing.html#returning-a-view-versus-a-copy\n",
      "c:\\python\\python36\\lib\\site-packages\\ipykernel_launcher.py:694: SettingWithCopyWarning: \n",
      "A value is trying to be set on a copy of a slice from a DataFrame\n",
      "\n",
      "See the caveats in the documentation: https://pandas.pydata.org/pandas-docs/stable/user_guide/indexing.html#returning-a-view-versus-a-copy\n"
     ]
    }
   ],
   "source": [
    "from collections import Counter\n",
    "#текстовые поля \n",
    "#h=['depw_upostag','depw_gender','depw_animacy','depw_number','depw_case','depw_degree',\n",
    "#  'depw_verbform','depw_mood','depw_tense','depw_aspect','depw_voice','UD_dependence','mainw_upostag','mainw_gender','mainw_animacy','mainw_number','mainw_case','mainw_degree','mainw_verbform','mainw_mood','mainw_tense','mainw_aspect','mainw_voice','mainw_person','WN_relation']\n",
    "#h=['treska','temp','ice','oxy','Tw','I','expI','OxSat','expOxSat','Itw','DOxSat']\n",
    "\n",
    "c=Counter(data[17])\n",
    "depw_upostag = list(c.keys())\n",
    "\n",
    "# depw_upostag\n",
    "for ii, depw_upostag in enumerate(depw_upostag):\n",
    "    i=0\n",
    "    for val in data[17]:\n",
    "        i=i+1\n",
    "        if val == depw_upostag:\n",
    "            data[17][i-1]=ii\n",
    "\n",
    "\n",
    "c=Counter(data[18])\n",
    "depw_upostag = list(c.keys())\n",
    "\n",
    "# depw_upostag\n",
    "for ii, depw_upostag in enumerate(depw_upostag):\n",
    "    i=0\n",
    "    for val in data[18]:\n",
    "        i=i+1\n",
    "        if val == depw_upostag:\n",
    "            data[18][i-1]=ii\n",
    "\n",
    "\n",
    "c=Counter(data[19])\n",
    "depw_upostag = list(c.keys())\n",
    "\n",
    "# depw_upostag\n",
    "for ii, depw_upostag in enumerate(depw_upostag):\n",
    "    i=0\n",
    "    for val in data[19]:\n",
    "        i=i+1\n",
    "        if val == depw_upostag:\n",
    "            data[19][i-1]=ii\n",
    "\n",
    "\n",
    "c=Counter(data[20])\n",
    "depw_upostag = list(c.keys())\n",
    "\n",
    "# depw_upostag\n",
    "for ii, depw_upostag in enumerate(depw_upostag):\n",
    "    i=0\n",
    "    for val in data[20]:\n",
    "        i=i+1\n",
    "        if val == depw_upostag:\n",
    "            data[20][i-1]=ii\n",
    "\n",
    "\n",
    "c=Counter(data[21])\n",
    "depw_upostag = list(c.keys())\n",
    "\n",
    "# depw_upostag\n",
    "for ii, depw_upostag in enumerate(depw_upostag):\n",
    "    i=0\n",
    "    for val in data[21]:\n",
    "        i=i+1\n",
    "        if val == depw_upostag:\n",
    "            data[21][i-1]=ii\n",
    "\n",
    "\n",
    "c=Counter(data[22])\n",
    "depw_upostag = list(c.keys())\n",
    "\n",
    "# depw_upostag\n",
    "for ii, depw_upostag in enumerate(depw_upostag):\n",
    "    i=0\n",
    "    for val in data[22]:\n",
    "        i=i+1\n",
    "        if val == depw_upostag:\n",
    "            data[22][i-1]=ii\n",
    "\n",
    "\n",
    "c=Counter(data[23])\n",
    "depw_upostag = list(c.keys())\n",
    "\n",
    "# depw_upostag\n",
    "for ii, depw_upostag in enumerate(depw_upostag):\n",
    "    i=0\n",
    "    for val in data[23]:\n",
    "        i=i+1\n",
    "        if val == depw_upostag:\n",
    "            data[23][i-1]=ii\n",
    "\n",
    "\n",
    "c=Counter(data[24])\n",
    "depw_upostag = list(c.keys())\n",
    "\n",
    "# depw_upostag\n",
    "for ii, depw_upostag in enumerate(depw_upostag):\n",
    "    i=0\n",
    "    for val in data[24]:\n",
    "        i=i+1\n",
    "        if val == depw_upostag:\n",
    "            data[24][i-1]=ii\n",
    "\n",
    "\n",
    "c=Counter(data[25])\n",
    "depw_upostag = list(c.keys())\n",
    "\n",
    "# depw_upostag\n",
    "for ii, depw_upostag in enumerate(depw_upostag):\n",
    "    i=0\n",
    "    for val in data[25]:\n",
    "        i=i+1\n",
    "        if val == depw_upostag:\n",
    "            data[25][i-1]=ii\n",
    "\n",
    "\n",
    "c=Counter(data[26])\n",
    "depw_upostag = list(c.keys())\n",
    "\n",
    "# depw_upostag\n",
    "for ii, depw_upostag in enumerate(depw_upostag):\n",
    "    i=0\n",
    "    for val in data[26]:\n",
    "        i=i+1\n",
    "        if val == depw_upostag:\n",
    "            data[26][i-1]=ii\n",
    "\n",
    "\n",
    "c=Counter(data[27])\n",
    "depw_upostag = list(c.keys())\n",
    "\n",
    "# depw_upostag\n",
    "for ii, depw_upostag in enumerate(depw_upostag):\n",
    "    i=0\n",
    "    for val in data[27]:\n",
    "        i=i+1\n",
    "        if val == depw_upostag:\n",
    "            data[27][i-1]=ii\n",
    "\n",
    "\n",
    "c=Counter(data[28])\n",
    "depw_upostag = list(c.keys())\n",
    "\n",
    "# depw_upostag\n",
    "for ii, depw_upostag in enumerate(depw_upostag):\n",
    "    i=0\n",
    "    for val in data[28]:\n",
    "        i=i+1\n",
    "        if val == depw_upostag:\n",
    "            data[28][i-1]=ii\n",
    "\n",
    "            \n",
    "            \n",
    "            \n",
    "            \n",
    "            \n",
    "\n",
    "\n",
    "\n",
    "c=Counter(data[349])\n",
    "depw_upostag = list(c.keys())\n",
    "\n",
    "# depw_upostag\n",
    "for ii, depw_upostag in enumerate(depw_upostag):\n",
    "    i=0\n",
    "    for val in data[349]:\n",
    "        i=i+1\n",
    "        if val == depw_upostag:\n",
    "            data[349][i-1]=ii\n",
    "\n",
    "\n",
    "c=Counter(data[350])\n",
    "depw_upostag = list(c.keys())\n",
    "\n",
    "# depw_upostag\n",
    "for ii, depw_upostag in enumerate(depw_upostag):\n",
    "    i=0\n",
    "    for val in data[350]:\n",
    "        i=i+1\n",
    "        if val == depw_upostag:\n",
    "            data[350][i-1]=ii\n",
    "\n",
    "\n",
    "c=Counter(data[351])\n",
    "depw_upostag = list(c.keys())\n",
    "\n",
    "# depw_upostag\n",
    "for ii, depw_upostag in enumerate(depw_upostag):\n",
    "    i=0\n",
    "    for val in data[351]:\n",
    "        i=i+1\n",
    "        if val == depw_upostag:\n",
    "            data[351][i-1]=ii\n",
    "\n",
    "\n",
    "c=Counter(data[352])\n",
    "depw_upostag = list(c.keys())\n",
    "\n",
    "# depw_upostag\n",
    "for ii, depw_upostag in enumerate(depw_upostag):\n",
    "    i=0\n",
    "    for val in data[352]:\n",
    "        i=i+1\n",
    "        if val == depw_upostag:\n",
    "            data[352][i-1]=ii\n",
    "\n",
    "\n",
    "c=Counter(data[353])\n",
    "depw_upostag = list(c.keys())\n",
    "\n",
    "# depw_upostag\n",
    "for ii, depw_upostag in enumerate(depw_upostag):\n",
    "    i=0\n",
    "    for val in data[353]:\n",
    "        i=i+1\n",
    "        if val == depw_upostag:\n",
    "            data[353][i-1]=ii\n",
    "\n",
    "\n",
    "c=Counter(data[354])\n",
    "depw_upostag = list(c.keys())\n",
    "\n",
    "# depw_upostag\n",
    "for ii, depw_upostag in enumerate(depw_upostag):\n",
    "    i=0\n",
    "    for val in data[354]:\n",
    "        i=i+1\n",
    "        if val == depw_upostag:\n",
    "            data[354][i-1]=ii\n",
    "\n",
    "\n",
    "c=Counter(data[355])\n",
    "depw_upostag = list(c.keys())\n",
    "\n",
    "# depw_upostag\n",
    "for ii, depw_upostag in enumerate(depw_upostag):\n",
    "    i=0\n",
    "    for val in data[355]:\n",
    "        i=i+1\n",
    "        if val == depw_upostag:\n",
    "            data[355][i-1]=ii\n",
    "\n",
    "\n",
    "c=Counter(data[356])\n",
    "depw_upostag = list(c.keys())\n",
    "\n",
    "# depw_upostag\n",
    "for ii, depw_upostag in enumerate(depw_upostag):\n",
    "    i=0\n",
    "    for val in data[356]:\n",
    "        i=i+1\n",
    "        if val == depw_upostag:\n",
    "            data[356][i-1]=ii\n",
    "\n",
    "\n",
    "c=Counter(data[357])\n",
    "depw_upostag = list(c.keys())\n",
    "\n",
    "# depw_upostag\n",
    "for ii, depw_upostag in enumerate(depw_upostag):\n",
    "    i=0\n",
    "    for val in data[357]:\n",
    "        i=i+1\n",
    "        if val == depw_upostag:\n",
    "            data[357][i-1]=ii\n",
    "\n",
    "\n",
    "c=Counter(data[358])\n",
    "depw_upostag = list(c.keys())\n",
    "\n",
    "# depw_upostag\n",
    "for ii, depw_upostag in enumerate(depw_upostag):\n",
    "    i=0\n",
    "    for val in data[358]:\n",
    "        i=i+1\n",
    "        if val == depw_upostag:\n",
    "            data[358][i-1]=ii\n",
    "\n",
    "\n",
    "c=Counter(data[359])\n",
    "depw_upostag = list(c.keys())\n",
    "\n",
    "# depw_upostag\n",
    "for ii, depw_upostag in enumerate(depw_upostag):\n",
    "    i=0\n",
    "    for val in data[359]:\n",
    "        i=i+1\n",
    "        if val == depw_upostag:\n",
    "            data[359][i-1]=ii\n",
    "\n",
    "            \n",
    "            \n",
    "c=Counter(data[660])\n",
    "depw_upostag = list(c.keys())\n",
    "\n",
    "# depw_upostag\n",
    "for ii, depw_upostag in enumerate(depw_upostag):\n",
    "    i=0\n",
    "    for val in data[660]:\n",
    "        i=i+1\n",
    "        if val == depw_upostag:\n",
    "            data[660][i-1]=ii\n",
    "\n",
    "            "
   ]
  },
  {
   "cell_type": "code",
   "execution_count": 51,
   "metadata": {},
   "outputs": [
    {
     "name": "stderr",
     "output_type": "stream",
     "text": [
      "c:\\python\\python36\\lib\\site-packages\\ipykernel_launcher.py:10: SettingWithCopyWarning: \n",
      "A value is trying to be set on a copy of a slice from a DataFrame\n",
      "\n",
      "See the caveats in the documentation: https://pandas.pydata.org/pandas-docs/stable/user_guide/indexing.html#returning-a-view-versus-a-copy\n",
      "  # Remove the CWD from sys.path while we load stuff.\n",
      "c:\\python\\python36\\lib\\site-packages\\ipykernel_launcher.py:21: SettingWithCopyWarning: \n",
      "A value is trying to be set on a copy of a slice from a DataFrame\n",
      "\n",
      "See the caveats in the documentation: https://pandas.pydata.org/pandas-docs/stable/user_guide/indexing.html#returning-a-view-versus-a-copy\n"
     ]
    }
   ],
   "source": [
    "c=Counter(data[331])\n",
    "depw_upostag = list(c.keys())\n",
    "\n",
    "# depw_upostag\n",
    "for ii, depw_upostag in enumerate(depw_upostag):\n",
    "    i=0\n",
    "    for val in data[331]:\n",
    "        i=i+1\n",
    "        if val == depw_upostag:\n",
    "            data[331][i-1]=ii\n",
    "            \n",
    "c=Counter(data[332])\n",
    "depw_upostag = list(c.keys())\n",
    "\n",
    "# depw_upostag\n",
    "for ii, depw_upostag in enumerate(depw_upostag):\n",
    "    i=0\n",
    "    for val in data[332]:\n",
    "        i=i+1\n",
    "        if val == depw_upostag:\n",
    "            data[332][i-1]=ii\n",
    "            \n"
   ]
  },
  {
   "cell_type": "code",
   "execution_count": 55,
   "metadata": {},
   "outputs": [
    {
     "name": "stdout",
     "output_type": "stream",
     "text": [
      "0       0\n",
      "1       0\n",
      "2       0\n",
      "3       0\n",
      "4       0\n",
      "       ..\n",
      "5059    1\n",
      "5060    1\n",
      "5061    1\n",
      "5062    1\n",
      "5063    1\n",
      "Name: 660, Length: 5064, dtype: object\n"
     ]
    }
   ],
   "source": [
    "print (data[660])\n",
    "pd.DataFrame(data).to_csv(\"data_3_2_nor.csv\",header=None)"
   ]
  },
  {
   "cell_type": "code",
   "execution_count": 1,
   "metadata": {},
   "outputs": [
    {
     "name": "stderr",
     "output_type": "stream",
     "text": [
      "C:\\Users\\dikov\\AppData\\Roaming\\Python\\Python36\\site-packages\\tensorflow\\python\\framework\\dtypes.py:516: FutureWarning: Passing (type, 1) or '1type' as a synonym of type is deprecated; in a future version of numpy, it will be understood as (type, (1,)) / '(1,)type'.\n",
      "  _np_qint8 = np.dtype([(\"qint8\", np.int8, 1)])\n",
      "C:\\Users\\dikov\\AppData\\Roaming\\Python\\Python36\\site-packages\\tensorflow\\python\\framework\\dtypes.py:517: FutureWarning: Passing (type, 1) or '1type' as a synonym of type is deprecated; in a future version of numpy, it will be understood as (type, (1,)) / '(1,)type'.\n",
      "  _np_quint8 = np.dtype([(\"quint8\", np.uint8, 1)])\n",
      "C:\\Users\\dikov\\AppData\\Roaming\\Python\\Python36\\site-packages\\tensorflow\\python\\framework\\dtypes.py:518: FutureWarning: Passing (type, 1) or '1type' as a synonym of type is deprecated; in a future version of numpy, it will be understood as (type, (1,)) / '(1,)type'.\n",
      "  _np_qint16 = np.dtype([(\"qint16\", np.int16, 1)])\n",
      "C:\\Users\\dikov\\AppData\\Roaming\\Python\\Python36\\site-packages\\tensorflow\\python\\framework\\dtypes.py:519: FutureWarning: Passing (type, 1) or '1type' as a synonym of type is deprecated; in a future version of numpy, it will be understood as (type, (1,)) / '(1,)type'.\n",
      "  _np_quint16 = np.dtype([(\"quint16\", np.uint16, 1)])\n",
      "C:\\Users\\dikov\\AppData\\Roaming\\Python\\Python36\\site-packages\\tensorflow\\python\\framework\\dtypes.py:520: FutureWarning: Passing (type, 1) or '1type' as a synonym of type is deprecated; in a future version of numpy, it will be understood as (type, (1,)) / '(1,)type'.\n",
      "  _np_qint32 = np.dtype([(\"qint32\", np.int32, 1)])\n",
      "C:\\Users\\dikov\\AppData\\Roaming\\Python\\Python36\\site-packages\\tensorflow\\python\\framework\\dtypes.py:525: FutureWarning: Passing (type, 1) or '1type' as a synonym of type is deprecated; in a future version of numpy, it will be understood as (type, (1,)) / '(1,)type'.\n",
      "  np_resource = np.dtype([(\"resource\", np.ubyte, 1)])\n",
      "C:\\Users\\dikov\\AppData\\Roaming\\Python\\Python36\\site-packages\\tensorboard\\compat\\tensorflow_stub\\dtypes.py:541: FutureWarning: Passing (type, 1) or '1type' as a synonym of type is deprecated; in a future version of numpy, it will be understood as (type, (1,)) / '(1,)type'.\n",
      "  _np_qint8 = np.dtype([(\"qint8\", np.int8, 1)])\n",
      "C:\\Users\\dikov\\AppData\\Roaming\\Python\\Python36\\site-packages\\tensorboard\\compat\\tensorflow_stub\\dtypes.py:542: FutureWarning: Passing (type, 1) or '1type' as a synonym of type is deprecated; in a future version of numpy, it will be understood as (type, (1,)) / '(1,)type'.\n",
      "  _np_quint8 = np.dtype([(\"quint8\", np.uint8, 1)])\n",
      "C:\\Users\\dikov\\AppData\\Roaming\\Python\\Python36\\site-packages\\tensorboard\\compat\\tensorflow_stub\\dtypes.py:543: FutureWarning: Passing (type, 1) or '1type' as a synonym of type is deprecated; in a future version of numpy, it will be understood as (type, (1,)) / '(1,)type'.\n",
      "  _np_qint16 = np.dtype([(\"qint16\", np.int16, 1)])\n",
      "C:\\Users\\dikov\\AppData\\Roaming\\Python\\Python36\\site-packages\\tensorboard\\compat\\tensorflow_stub\\dtypes.py:544: FutureWarning: Passing (type, 1) or '1type' as a synonym of type is deprecated; in a future version of numpy, it will be understood as (type, (1,)) / '(1,)type'.\n",
      "  _np_quint16 = np.dtype([(\"quint16\", np.uint16, 1)])\n",
      "C:\\Users\\dikov\\AppData\\Roaming\\Python\\Python36\\site-packages\\tensorboard\\compat\\tensorflow_stub\\dtypes.py:545: FutureWarning: Passing (type, 1) or '1type' as a synonym of type is deprecated; in a future version of numpy, it will be understood as (type, (1,)) / '(1,)type'.\n",
      "  _np_qint32 = np.dtype([(\"qint32\", np.int32, 1)])\n",
      "C:\\Users\\dikov\\AppData\\Roaming\\Python\\Python36\\site-packages\\tensorboard\\compat\\tensorflow_stub\\dtypes.py:550: FutureWarning: Passing (type, 1) or '1type' as a synonym of type is deprecated; in a future version of numpy, it will be understood as (type, (1,)) / '(1,)type'.\n",
      "  np_resource = np.dtype([(\"resource\", np.ubyte, 1)])\n"
     ]
    }
   ],
   "source": [
    "import numpy as np\n",
    "import ctypes\n",
    "import pandas as pd\n",
    "import tensorflow as tf  #1.14\n",
    "\n",
    "seed = 105\n",
    "np.random.seed(seed)\n",
    "#617\n",
    "#309532\n",
    "data = pd.read_csv('compile-1.csv', sep=\"|\", header=None,low_memory=False)\n",
    "#dataset = data.values\n",
    "\n",
    "#dataset=data;\n",
    "#print(dataset)\n",
    "#X = data[:, 1:611].astype(float)\n"
   ]
  },
  {
   "cell_type": "code",
   "execution_count": 60,
   "metadata": {},
   "outputs": [
    {
     "name": "stderr",
     "output_type": "stream",
     "text": [
      "c:\\python\\python36\\lib\\site-packages\\ipykernel_launcher.py:11: SettingWithCopyWarning: \n",
      "A value is trying to be set on a copy of a slice from a DataFrame\n",
      "\n",
      "See the caveats in the documentation: https://pandas.pydata.org/pandas-docs/stable/user_guide/indexing.html#returning-a-view-versus-a-copy\n",
      "  # This is added back by InteractiveShellApp.init_path()\n",
      "c:\\python\\python36\\lib\\site-packages\\ipykernel_launcher.py:23: SettingWithCopyWarning: \n",
      "A value is trying to be set on a copy of a slice from a DataFrame\n",
      "\n",
      "See the caveats in the documentation: https://pandas.pydata.org/pandas-docs/stable/user_guide/indexing.html#returning-a-view-versus-a-copy\n",
      "c:\\python\\python36\\lib\\site-packages\\ipykernel_launcher.py:34: SettingWithCopyWarning: \n",
      "A value is trying to be set on a copy of a slice from a DataFrame\n",
      "\n",
      "See the caveats in the documentation: https://pandas.pydata.org/pandas-docs/stable/user_guide/indexing.html#returning-a-view-versus-a-copy\n",
      "c:\\python\\python36\\lib\\site-packages\\ipykernel_launcher.py:45: SettingWithCopyWarning: \n",
      "A value is trying to be set on a copy of a slice from a DataFrame\n",
      "\n",
      "See the caveats in the documentation: https://pandas.pydata.org/pandas-docs/stable/user_guide/indexing.html#returning-a-view-versus-a-copy\n",
      "c:\\python\\python36\\lib\\site-packages\\ipykernel_launcher.py:56: SettingWithCopyWarning: \n",
      "A value is trying to be set on a copy of a slice from a DataFrame\n",
      "\n",
      "See the caveats in the documentation: https://pandas.pydata.org/pandas-docs/stable/user_guide/indexing.html#returning-a-view-versus-a-copy\n",
      "c:\\python\\python36\\lib\\site-packages\\ipykernel_launcher.py:67: SettingWithCopyWarning: \n",
      "A value is trying to be set on a copy of a slice from a DataFrame\n",
      "\n",
      "See the caveats in the documentation: https://pandas.pydata.org/pandas-docs/stable/user_guide/indexing.html#returning-a-view-versus-a-copy\n",
      "c:\\python\\python36\\lib\\site-packages\\ipykernel_launcher.py:78: SettingWithCopyWarning: \n",
      "A value is trying to be set on a copy of a slice from a DataFrame\n",
      "\n",
      "See the caveats in the documentation: https://pandas.pydata.org/pandas-docs/stable/user_guide/indexing.html#returning-a-view-versus-a-copy\n",
      "c:\\python\\python36\\lib\\site-packages\\ipykernel_launcher.py:89: SettingWithCopyWarning: \n",
      "A value is trying to be set on a copy of a slice from a DataFrame\n",
      "\n",
      "See the caveats in the documentation: https://pandas.pydata.org/pandas-docs/stable/user_guide/indexing.html#returning-a-view-versus-a-copy\n",
      "c:\\python\\python36\\lib\\site-packages\\ipykernel_launcher.py:100: SettingWithCopyWarning: \n",
      "A value is trying to be set on a copy of a slice from a DataFrame\n",
      "\n",
      "See the caveats in the documentation: https://pandas.pydata.org/pandas-docs/stable/user_guide/indexing.html#returning-a-view-versus-a-copy\n",
      "c:\\python\\python36\\lib\\site-packages\\ipykernel_launcher.py:111: SettingWithCopyWarning: \n",
      "A value is trying to be set on a copy of a slice from a DataFrame\n",
      "\n",
      "See the caveats in the documentation: https://pandas.pydata.org/pandas-docs/stable/user_guide/indexing.html#returning-a-view-versus-a-copy\n",
      "c:\\python\\python36\\lib\\site-packages\\ipykernel_launcher.py:122: SettingWithCopyWarning: \n",
      "A value is trying to be set on a copy of a slice from a DataFrame\n",
      "\n",
      "See the caveats in the documentation: https://pandas.pydata.org/pandas-docs/stable/user_guide/indexing.html#returning-a-view-versus-a-copy\n",
      "c:\\python\\python36\\lib\\site-packages\\ipykernel_launcher.py:133: SettingWithCopyWarning: \n",
      "A value is trying to be set on a copy of a slice from a DataFrame\n",
      "\n",
      "See the caveats in the documentation: https://pandas.pydata.org/pandas-docs/stable/user_guide/indexing.html#returning-a-view-versus-a-copy\n",
      "c:\\python\\python36\\lib\\site-packages\\ipykernel_launcher.py:144: SettingWithCopyWarning: \n",
      "A value is trying to be set on a copy of a slice from a DataFrame\n",
      "\n",
      "See the caveats in the documentation: https://pandas.pydata.org/pandas-docs/stable/user_guide/indexing.html#returning-a-view-versus-a-copy\n",
      "c:\\python\\python36\\lib\\site-packages\\ipykernel_launcher.py:155: SettingWithCopyWarning: \n",
      "A value is trying to be set on a copy of a slice from a DataFrame\n",
      "\n",
      "See the caveats in the documentation: https://pandas.pydata.org/pandas-docs/stable/user_guide/indexing.html#returning-a-view-versus-a-copy\n",
      "c:\\python\\python36\\lib\\site-packages\\ipykernel_launcher.py:167: SettingWithCopyWarning: \n",
      "A value is trying to be set on a copy of a slice from a DataFrame\n",
      "\n",
      "See the caveats in the documentation: https://pandas.pydata.org/pandas-docs/stable/user_guide/indexing.html#returning-a-view-versus-a-copy\n",
      "c:\\python\\python36\\lib\\site-packages\\ipykernel_launcher.py:194: SettingWithCopyWarning: \n",
      "A value is trying to be set on a copy of a slice from a DataFrame\n",
      "\n",
      "See the caveats in the documentation: https://pandas.pydata.org/pandas-docs/stable/user_guide/indexing.html#returning-a-view-versus-a-copy\n",
      "c:\\python\\python36\\lib\\site-packages\\ipykernel_launcher.py:206: SettingWithCopyWarning: \n",
      "A value is trying to be set on a copy of a slice from a DataFrame\n",
      "\n",
      "See the caveats in the documentation: https://pandas.pydata.org/pandas-docs/stable/user_guide/indexing.html#returning-a-view-versus-a-copy\n",
      "c:\\python\\python36\\lib\\site-packages\\ipykernel_launcher.py:218: SettingWithCopyWarning: \n",
      "A value is trying to be set on a copy of a slice from a DataFrame\n",
      "\n",
      "See the caveats in the documentation: https://pandas.pydata.org/pandas-docs/stable/user_guide/indexing.html#returning-a-view-versus-a-copy\n",
      "c:\\python\\python36\\lib\\site-packages\\ipykernel_launcher.py:230: SettingWithCopyWarning: \n",
      "A value is trying to be set on a copy of a slice from a DataFrame\n",
      "\n",
      "See the caveats in the documentation: https://pandas.pydata.org/pandas-docs/stable/user_guide/indexing.html#returning-a-view-versus-a-copy\n",
      "c:\\python\\python36\\lib\\site-packages\\ipykernel_launcher.py:242: SettingWithCopyWarning: \n",
      "A value is trying to be set on a copy of a slice from a DataFrame\n",
      "\n",
      "See the caveats in the documentation: https://pandas.pydata.org/pandas-docs/stable/user_guide/indexing.html#returning-a-view-versus-a-copy\n",
      "c:\\python\\python36\\lib\\site-packages\\ipykernel_launcher.py:254: SettingWithCopyWarning: \n",
      "A value is trying to be set on a copy of a slice from a DataFrame\n",
      "\n",
      "See the caveats in the documentation: https://pandas.pydata.org/pandas-docs/stable/user_guide/indexing.html#returning-a-view-versus-a-copy\n",
      "c:\\python\\python36\\lib\\site-packages\\ipykernel_launcher.py:266: SettingWithCopyWarning: \n",
      "A value is trying to be set on a copy of a slice from a DataFrame\n",
      "\n",
      "See the caveats in the documentation: https://pandas.pydata.org/pandas-docs/stable/user_guide/indexing.html#returning-a-view-versus-a-copy\n",
      "c:\\python\\python36\\lib\\site-packages\\ipykernel_launcher.py:278: SettingWithCopyWarning: \n",
      "A value is trying to be set on a copy of a slice from a DataFrame\n",
      "\n",
      "See the caveats in the documentation: https://pandas.pydata.org/pandas-docs/stable/user_guide/indexing.html#returning-a-view-versus-a-copy\n",
      "c:\\python\\python36\\lib\\site-packages\\ipykernel_launcher.py:290: SettingWithCopyWarning: \n",
      "A value is trying to be set on a copy of a slice from a DataFrame\n",
      "\n",
      "See the caveats in the documentation: https://pandas.pydata.org/pandas-docs/stable/user_guide/indexing.html#returning-a-view-versus-a-copy\n",
      "c:\\python\\python36\\lib\\site-packages\\ipykernel_launcher.py:302: SettingWithCopyWarning: \n",
      "A value is trying to be set on a copy of a slice from a DataFrame\n",
      "\n",
      "See the caveats in the documentation: https://pandas.pydata.org/pandas-docs/stable/user_guide/indexing.html#returning-a-view-versus-a-copy\n",
      "c:\\python\\python36\\lib\\site-packages\\ipykernel_launcher.py:314: SettingWithCopyWarning: \n",
      "A value is trying to be set on a copy of a slice from a DataFrame\n",
      "\n",
      "See the caveats in the documentation: https://pandas.pydata.org/pandas-docs/stable/user_guide/indexing.html#returning-a-view-versus-a-copy\n",
      "c:\\python\\python36\\lib\\site-packages\\ipykernel_launcher.py:326: SettingWithCopyWarning: \n",
      "A value is trying to be set on a copy of a slice from a DataFrame\n",
      "\n",
      "See the caveats in the documentation: https://pandas.pydata.org/pandas-docs/stable/user_guide/indexing.html#returning-a-view-versus-a-copy\n",
      "c:\\python\\python36\\lib\\site-packages\\ipykernel_launcher.py:338: SettingWithCopyWarning: \n",
      "A value is trying to be set on a copy of a slice from a DataFrame\n",
      "\n",
      "See the caveats in the documentation: https://pandas.pydata.org/pandas-docs/stable/user_guide/indexing.html#returning-a-view-versus-a-copy\n",
      "c:\\python\\python36\\lib\\site-packages\\ipykernel_launcher.py:350: SettingWithCopyWarning: \n",
      "A value is trying to be set on a copy of a slice from a DataFrame\n",
      "\n",
      "See the caveats in the documentation: https://pandas.pydata.org/pandas-docs/stable/user_guide/indexing.html#returning-a-view-versus-a-copy\n",
      "c:\\python\\python36\\lib\\site-packages\\ipykernel_launcher.py:362: SettingWithCopyWarning: \n",
      "A value is trying to be set on a copy of a slice from a DataFrame\n",
      "\n",
      "See the caveats in the documentation: https://pandas.pydata.org/pandas-docs/stable/user_guide/indexing.html#returning-a-view-versus-a-copy\n",
      "c:\\python\\python36\\lib\\site-packages\\ipykernel_launcher.py:373: SettingWithCopyWarning: \n",
      "A value is trying to be set on a copy of a slice from a DataFrame\n",
      "\n",
      "See the caveats in the documentation: https://pandas.pydata.org/pandas-docs/stable/user_guide/indexing.html#returning-a-view-versus-a-copy\n"
     ]
    }
   ],
   "source": [
    "from collections import Counter\n",
    "c=Counter(data[0])\n",
    "depw_upostag = list(c.keys())\n",
    "\n",
    "# depw_upostag\n",
    "for ii, depw_upostag in enumerate(depw_upostag):\n",
    "    i=0\n",
    "    for val in data[0]:\n",
    "        i=i+1\n",
    "        if val == depw_upostag:\n",
    "            data[0][i-1]=ii\n",
    "\n",
    "            \n",
    "c=Counter(data[1])\n",
    "depw_gender = list(c.keys())\n",
    "\n",
    "# depw_gender\n",
    "for ii, depw_gender in enumerate(depw_gender):\n",
    "    i=0\n",
    "    for val in data[1]:\n",
    "        i=i+1\n",
    "        if val == depw_gender:\n",
    "            data[1][i-1]=ii\n",
    "\n",
    "c=Counter(data[2])\n",
    "depw_animacy = list(c.keys())\n",
    "\n",
    "# depw_animacy\n",
    "for ii, depw_animacy in enumerate(depw_animacy):\n",
    "    i=0\n",
    "    for val in data[2]:\n",
    "        i=i+1\n",
    "        if val == depw_animacy:\n",
    "            data[2][i-1]=ii            \n",
    "\n",
    "c=Counter(data[3])\n",
    "depw_number = list(c.keys())\n",
    "\n",
    "# depw_number\n",
    "for ii, depw_number in enumerate(depw_number):\n",
    "    i=0\n",
    "    for val in data[3]:\n",
    "        i=i+1\n",
    "        if val == depw_number:\n",
    "            data[3][i-1]=ii\n",
    "\n",
    "c=Counter(data[4])\n",
    "depw_case = list(c.keys())\n",
    "\n",
    "# depw_case\n",
    "for ii, depw_case in enumerate(depw_case):\n",
    "    i=0\n",
    "    for val in data[4]:\n",
    "        i=i+1\n",
    "        if val == depw_case:\n",
    "            data[4][i-1]=ii\n",
    "            \n",
    "c=Counter(data[5])\n",
    "depw_degree = list(c.keys())\n",
    "\n",
    "# depw_degree\n",
    "for ii, depw_degree in enumerate(depw_degree):\n",
    "    i=0\n",
    "    for val in data[5]:\n",
    "        i=i+1\n",
    "        if val == depw_degree:\n",
    "            data[5][i-1]=ii\n",
    "            \n",
    "c=Counter(data[6])\n",
    "depw_verbform = list(c.keys())\n",
    "\n",
    "# depw_verbform\n",
    "for ii, depw_verbform in enumerate(depw_verbform):\n",
    "    i=0\n",
    "    for val in data[6]:\n",
    "        i=i+1\n",
    "        if val == depw_verbform:\n",
    "            data[6][i-1]=ii\n",
    "            \n",
    "c=Counter(data[7])\n",
    "depw_mood = list(c.keys())\n",
    "\n",
    "# depw_mood\n",
    "for ii, depw_mood in enumerate(depw_mood):\n",
    "    i=0\n",
    "    for val in data[7]:\n",
    "        i=i+1\n",
    "        if val == depw_mood:\n",
    "            data[7][i-1]=ii\n",
    "            \n",
    "c=Counter(data[8])\n",
    "depw_tense = list(c.keys())\n",
    "\n",
    "# depw_tense\n",
    "for ii, depw_tense in enumerate(depw_tense):\n",
    "    i=0\n",
    "    for val in data[8]:\n",
    "        i=i+1\n",
    "        if val == depw_tense:\n",
    "            data[8][i-1]=ii\n",
    "            \n",
    "c=Counter(data[9])\n",
    "depw_aspect = list(c.keys())\n",
    "\n",
    "# depw_aspect\n",
    "for ii, depw_aspect in enumerate(depw_aspect):\n",
    "    i=0\n",
    "    for val in data[9]:\n",
    "        i=i+1\n",
    "        if val == depw_aspect:\n",
    "            data[9][i-1]=ii\n",
    "            \n",
    "c=Counter(data[10])\n",
    "depw_voice = list(c.keys())\n",
    "\n",
    "# depw_voice\n",
    "for ii, depw_voice in enumerate(depw_voice):\n",
    "    i=0\n",
    "    for val in data[10]:\n",
    "        i=i+1\n",
    "        if val == depw_voice:\n",
    "            data[10][i-1]=ii\n",
    "            \n",
    "c=Counter(data[11])\n",
    "UD_dependence = list(c.keys())\n",
    "\n",
    "# UD_dependence\n",
    "for ii, UD_dependence in enumerate(UD_dependence):\n",
    "    i=0\n",
    "    for val in data[11]:\n",
    "        i=i+1\n",
    "        if val == UD_dependence:\n",
    "            data[11][i-1]=ii\n",
    "\n",
    "c=Counter(data[12])\n",
    "depw_upostag = list(c.keys())\n",
    "\n",
    "# depw_upostag\n",
    "for ii, depw_upostag in enumerate(depw_upostag):\n",
    "    i=0\n",
    "    for val in data[12]:\n",
    "        i=i+1\n",
    "        if val == depw_upostag:\n",
    "            data[12][i-1]=ii  \n",
    "            \n",
    "c=Counter(data[13])\n",
    "depw_upostag = list(c.keys())\n",
    "\n",
    "# depw_upostag\n",
    "for ii, depw_upostag in enumerate(depw_upostag):\n",
    "    i=0\n",
    "    for val in data[13]:\n",
    "        i=i+1\n",
    "        if val == depw_upostag:\n",
    "            data[13][i-1]=ii\n",
    "\n",
    "\n",
    "c=Counter(data[14])\n",
    "depw_upostag = list(c.keys())\n",
    "\n",
    "# depw_upostag\n",
    "for ii, depw_upostag in enumerate(depw_upostag):\n",
    "    i=0\n",
    "    for val in data[14]:\n",
    "        i=i+1\n",
    "        if val == depw_upostag:\n",
    "            data[14][i-1]=ii\n",
    "\n",
    "\n",
    "\n",
    "\n",
    "            \n",
    "c=Counter(data[315])\n",
    "depw_upostag = list(c.keys())\n",
    "\n",
    "# depw_upostag\n",
    "for ii, depw_upostag in enumerate(depw_upostag):\n",
    "    i=0\n",
    "    for val in data[315]:\n",
    "        i=i+1\n",
    "        if val == depw_upostag:\n",
    "            data[315][i-1]=ii\n",
    "\n",
    "\n",
    "c=Counter(data[317])\n",
    "depw_upostag = list(c.keys())\n",
    "\n",
    "# depw_upostag\n",
    "for ii, depw_upostag in enumerate(depw_upostag):\n",
    "    i=0\n",
    "    for val in data[317]:\n",
    "        i=i+1\n",
    "        if val == depw_upostag:\n",
    "            data[317][i-1]=ii\n",
    "\n",
    "\n",
    "c=Counter(data[318])\n",
    "depw_upostag = list(c.keys())\n",
    "\n",
    "# depw_upostag\n",
    "for ii, depw_upostag in enumerate(depw_upostag):\n",
    "    i=0\n",
    "    for val in data[318]:\n",
    "        i=i+1\n",
    "        if val == depw_upostag:\n",
    "            data[318][i-1]=ii\n",
    "\n",
    "\n",
    "c=Counter(data[319])\n",
    "depw_upostag = list(c.keys())\n",
    "\n",
    "# depw_upostag\n",
    "for ii, depw_upostag in enumerate(depw_upostag):\n",
    "    i=0\n",
    "    for val in data[319]:\n",
    "        i=i+1\n",
    "        if val == depw_upostag:\n",
    "            data[319][i-1]=ii\n",
    "\n",
    "\n",
    "c=Counter(data[320])\n",
    "depw_upostag = list(c.keys())\n",
    "\n",
    "# depw_upostag\n",
    "for ii, depw_upostag in enumerate(depw_upostag):\n",
    "    i=0\n",
    "    for val in data[320]:\n",
    "        i=i+1\n",
    "        if val == depw_upostag:\n",
    "            data[320][i-1]=ii\n",
    "\n",
    "\n",
    "c=Counter(data[321])\n",
    "depw_upostag = list(c.keys())\n",
    "\n",
    "# depw_upostag\n",
    "for ii, depw_upostag in enumerate(depw_upostag):\n",
    "    i=0\n",
    "    for val in data[321]:\n",
    "        i=i+1\n",
    "        if val == depw_upostag:\n",
    "            data[321][i-1]=ii\n",
    "\n",
    "\n",
    "c=Counter(data[322])\n",
    "depw_upostag = list(c.keys())\n",
    "\n",
    "# depw_upostag\n",
    "for ii, depw_upostag in enumerate(depw_upostag):\n",
    "    i=0\n",
    "    for val in data[322]:\n",
    "        i=i+1\n",
    "        if val == depw_upostag:\n",
    "            data[322][i-1]=ii\n",
    "\n",
    "\n",
    "c=Counter(data[323])\n",
    "depw_upostag = list(c.keys())\n",
    "\n",
    "# depw_upostag\n",
    "for ii, depw_upostag in enumerate(depw_upostag):\n",
    "    i=0\n",
    "    for val in data[323]:\n",
    "        i=i+1\n",
    "        if val == depw_upostag:\n",
    "            data[323][i-1]=ii\n",
    "\n",
    "\n",
    "c=Counter(data[324])\n",
    "depw_upostag = list(c.keys())\n",
    "\n",
    "# depw_upostag\n",
    "for ii, depw_upostag in enumerate(depw_upostag):\n",
    "    i=0\n",
    "    for val in data[324]:\n",
    "        i=i+1\n",
    "        if val == depw_upostag:\n",
    "            data[324][i-1]=ii\n",
    "\n",
    "\n",
    "c=Counter(data[325])\n",
    "depw_upostag = list(c.keys())\n",
    "\n",
    "# depw_upostag\n",
    "for ii, depw_upostag in enumerate(depw_upostag):\n",
    "    i=0\n",
    "    for val in data[325]:\n",
    "        i=i+1\n",
    "        if val == depw_upostag:\n",
    "            data[325][i-1]=ii\n",
    "\n",
    "\n",
    "c=Counter(data[326])\n",
    "depw_upostag = list(c.keys())\n",
    "\n",
    "# depw_upostag\n",
    "for ii, depw_upostag in enumerate(depw_upostag):\n",
    "    i=0\n",
    "    for val in data[326]:\n",
    "        i=i+1\n",
    "        if val == depw_upostag:\n",
    "            data[326][i-1]=ii\n",
    "\n",
    "\n",
    "c=Counter(data[327])\n",
    "depw_upostag = list(c.keys())\n",
    "\n",
    "# depw_upostag\n",
    "for ii, depw_upostag in enumerate(depw_upostag):\n",
    "    i=0\n",
    "    for val in data[327]:\n",
    "        i=i+1\n",
    "        if val == depw_upostag:\n",
    "            data[327][i-1]=ii\n",
    "\n",
    "\n",
    "c=Counter(data[328])\n",
    "depw_upostag = list(c.keys())\n",
    "\n",
    "# depw_upostag\n",
    "for ii, depw_upostag in enumerate(depw_upostag):\n",
    "    i=0\n",
    "    for val in data[328]:\n",
    "        i=i+1\n",
    "        if val == depw_upostag:\n",
    "            data[328][i-1]=ii\n",
    "\n",
    "\n",
    "c=Counter(data[329])\n",
    "depw_upostag = list(c.keys())\n",
    "\n",
    "# depw_upostag\n",
    "for ii, depw_upostag in enumerate(depw_upostag):\n",
    "    i=0\n",
    "    for val in data[329]:\n",
    "        i=i+1\n",
    "        if val == depw_upostag:\n",
    "            data[329][i-1]=ii\n",
    "\n",
    "\n",
    "c=Counter(data[330])\n",
    "depw_upostag = list(c.keys())\n",
    "\n",
    "# depw_upostag\n",
    "for ii, depw_upostag in enumerate(depw_upostag):\n",
    "    i=0\n",
    "    for val in data[330]:\n",
    "        i=i+1\n",
    "        if val == depw_upostag:\n",
    "            data[330][i-1]=ii\n",
    "\n",
    "\n",
    "c=Counter(data[331])\n",
    "depw_upostag = list(c.keys())\n",
    "\n",
    "# depw_upostag\n",
    "for ii, depw_upostag in enumerate(depw_upostag):\n",
    "    i=0\n",
    "    for val in data[331]:\n",
    "        i=i+1\n",
    "        if val == depw_upostag:\n",
    "            data[331][i-1]=ii\n",
    "            \n",
    "c=Counter(data[632])\n",
    "depw_upostag = list(c.keys())\n",
    "\n",
    "# depw_upostag\n",
    "for ii, depw_upostag in enumerate(depw_upostag):\n",
    "    i=0\n",
    "    for val in data[632]:\n",
    "        i=i+1\n",
    "        if val == depw_upostag:\n",
    "            data[632][i-1]=ii"
   ]
  },
  {
   "cell_type": "code",
   "execution_count": 42,
   "metadata": {},
   "outputs": [],
   "source": [
    "#def create_feature_sets_and_labels():\n",
    "df = data.values\n",
    "test_size = 0.2\n",
    "#df = pd.read_csv(\"6.csv\")\n",
    "#df = df.iloc[::-1]\n",
    "#dataset = df.values\n",
    "testing_size = int(test_size*len(data))\n",
    "    \n",
    "X_train = np.array(df[1:,0:602][:-testing_size]).astype(np.float32)\n",
    "Y_train = np.array(df[1:,632][:-testing_size]).reshape(-1, 1).astype(np.float32)\n",
    "\n",
    "X_test = np.array(df[1:,0:631][-testing_size:]).astype(np.float32)\n",
    "Y_test = np.array(df[1:,632][-testing_size:]).reshape(-1, 1).astype(np.float32)"
   ]
  },
  {
   "cell_type": "code",
   "execution_count": 3,
   "metadata": {},
   "outputs": [
    {
     "name": "stdout",
     "output_type": "stream",
     "text": [
      "0        -0.494725\n",
      "1        -0.021827\n",
      "2        -0.080167\n",
      "3         0.017217\n",
      "4         0.017217\n",
      "            ...   \n",
      "122065   -0.394965\n",
      "122066    0.186910\n",
      "122067   -0.018302\n",
      "122068   -0.257296\n",
      "122069   -0.149500\n",
      "Name: 0, Length: 122070, dtype: float64\n",
      "2\n"
     ]
    }
   ],
   "source": [
    "import numpy as np\n",
    "import pandas as pd\n",
    "import tensorflow as tf  #1.14\n",
    "\n",
    "seed = 105\n",
    "np.random.seed(seed)\n",
    "#617\n",
    "#309532\n",
    "data = pd.read_csv('compile-1.csv', sep=\"|\", header=None,low_memory=False)\n",
    "X = data.iloc[:,0:600].astype(float)\n",
    "Y = data.iloc[:,601].astype(int)\n",
    "\n",
    "print(X[0])\n",
    "print(Y[10000])"
   ]
  },
  {
   "cell_type": "code",
   "execution_count": 10,
   "metadata": {},
   "outputs": [
    {
     "name": "stdout",
     "output_type": "stream",
     "text": [
      "0         2\n",
      "1         2\n",
      "2         2\n",
      "3         2\n",
      "4         2\n",
      "         ..\n",
      "122065    0\n",
      "122066    0\n",
      "122067    0\n",
      "122068    0\n",
      "122069    0\n",
      "Name: 601, Length: 122070, dtype: int32\n"
     ]
    }
   ],
   "source": [
    "print(Y)"
   ]
  },
  {
   "cell_type": "code",
   "execution_count": 4,
   "metadata": {},
   "outputs": [],
   "source": [
    "from sklearn.model_selection import train_test_split\n",
    "X_train, X_test, y_train, y_test = train_test_split(X, Y, test_size=0.3)"
   ]
  },
  {
   "cell_type": "code",
   "execution_count": 5,
   "metadata": {
    "scrolled": true
   },
   "outputs": [
    {
     "name": "stderr",
     "output_type": "stream",
     "text": [
      "Using TensorFlow backend.\n"
     ]
    }
   ],
   "source": [
    "from keras import Sequential\n",
    "from keras.layers import Dense"
   ]
  },
  {
   "cell_type": "code",
   "execution_count": 154,
   "metadata": {},
   "outputs": [
    {
     "name": "stdout",
     "output_type": "stream",
     "text": [
      "1.0\n",
      "1612\n",
      "101847\n"
     ]
    }
   ],
   "source": [
    "c0=12\n",
    "c1=5145\n",
    "from IPython.display import clear_output\n",
    "import datetime\n",
    "\n",
    "with tf.device('/gpu:0'):\n",
    "    for i in range(210800,309102):\n",
    "           # print(data[0][i])\n",
    "            clear_output(wait=True)\n",
    "            print((i+1)/309102)\n",
    "            if data[0][i]==0:\n",
    "                c0=c0+1\n",
    "            if data[0][i]==1:\n",
    "                c1=c1+1\n",
    "                #if c1>500:\n",
    "                data=data.drop(labels=None, axis=0, index=i)\n",
    "print(c0)\n",
    "print(c1)"
   ]
  },
  {
   "cell_type": "code",
   "execution_count": null,
   "metadata": {},
   "outputs": [],
   "source": [
    "indexes_to_keep = set(range(data.shape[0])) - set(indexes_to_drop)\n",
    "print(indexes_to_keep)"
   ]
  },
  {
   "cell_type": "code",
   "execution_count": null,
   "metadata": {},
   "outputs": [],
   "source": [
    "\n",
    "df_sliced = df.take(list(indexes_to_keep))"
   ]
  },
  {
   "cell_type": "code",
   "execution_count": 152,
   "metadata": {},
   "outputs": [
    {
     "name": "stdout",
     "output_type": "stream",
     "text": [
      "Int64Index([273313, 309102], dtype='int64')\n"
     ]
    }
   ],
   "source": [
    "print(data.index[[83211,119000]])"
   ]
  },
  {
   "cell_type": "code",
   "execution_count": 147,
   "metadata": {},
   "outputs": [
    {
     "ename": "SyntaxError",
     "evalue": "invalid syntax (<ipython-input-147-c406d0fd78f9>, line 1)",
     "output_type": "error",
     "traceback": [
      "\u001b[1;36m  File \u001b[1;32m\"<ipython-input-147-c406d0fd78f9>\"\u001b[1;36m, line \u001b[1;32m1\u001b[0m\n\u001b[1;33m    data=data.drop(labels=None, axis=0, index=[209502:209599])\u001b[0m\n\u001b[1;37m                                                     ^\u001b[0m\n\u001b[1;31mSyntaxError\u001b[0m\u001b[1;31m:\u001b[0m invalid syntax\n"
     ]
    }
   ],
   "source": [
    "data=data.drop(labels=None, axis=0, index=[]) \n",
    "print(data.shape)"
   ]
  },
  {
   "cell_type": "code",
   "execution_count": 136,
   "metadata": {},
   "outputs": [
    {
     "name": "stdout",
     "output_type": "stream",
     "text": [
      "<tensorflow.python.eager.context._EagerDeviceContext object at 0x0000022E46500390>\n"
     ]
    }
   ],
   "source": [
    "print(tf.device('/gpu:0'))"
   ]
  },
  {
   "cell_type": "code",
   "execution_count": 126,
   "metadata": {},
   "outputs": [],
   "source": [
    "data=data.drop(labels=None, axis=0, index=1)"
   ]
  },
  {
   "cell_type": "code",
   "execution_count": 117,
   "metadata": {},
   "outputs": [
    {
     "data": {
      "text/plain": [
       "array([[0.00000e+00, 0.00000e+00, 0.00000e+00, ...,         nan,\n",
       "                nan,         nan],\n",
       "       [1.00000e+00, 2.00000e+00, 0.00000e+00, ...,         nan,\n",
       "                nan,         nan],\n",
       "       [1.00000e+00, 3.00000e+00, 0.00000e+00, ...,         nan,\n",
       "                nan,         nan],\n",
       "       ...,\n",
       "       [1.00000e+00, 3.08549e+05, 0.00000e+00, ...,         nan,\n",
       "                nan,         nan],\n",
       "       [1.00000e+00, 3.08550e+05, 1.00000e+00, ...,         nan,\n",
       "                nan,         nan],\n",
       "       [1.00000e+00, 3.08551e+05, 1.00000e+00, ...,         nan,\n",
       "                nan,         nan]])"
      ]
     },
     "execution_count": 117,
     "metadata": {},
     "output_type": "execute_result"
    }
   ],
   "source": [
    "np_values = data.values\n",
    "np.delete(np_values, 1, 0)"
   ]
  },
  {
   "cell_type": "code",
   "execution_count": 120,
   "metadata": {},
   "outputs": [
    {
     "name": "stdout",
     "output_type": "stream",
     "text": [
      "2.0\n"
     ]
    }
   ],
   "source": [
    "print (np_values[2][1])"
   ]
  },
  {
   "cell_type": "code",
   "execution_count": null,
   "metadata": {},
   "outputs": [],
   "source": [
    "c0=0\n",
    "c1=0\n",
    "for i in range(309530):\n",
    "       # print(data[0][i])\n",
    "        if np_values[0][i]==0:\n",
    "            c0=c0+1\n",
    "        if np_values[0][i]==1:\n",
    "            c1=c1+1\n",
    "print(c0)\n",
    "print(c1)"
   ]
  },
  {
   "cell_type": "code",
   "execution_count": 72,
   "metadata": {},
   "outputs": [],
   "source": [
    "\n",
    "encoder = LabelEncoder()\n",
    "encoder.fit(Y)\n",
    "encoded_Y = encoder.transform(Y)\n",
    "dummy_y = np_utils.to_categorical(encoded_Y)"
   ]
  },
  {
   "cell_type": "code",
   "execution_count": 5,
   "metadata": {},
   "outputs": [
    {
     "name": "stdout",
     "output_type": "stream",
     "text": [
      "0         2\n",
      "1         2\n",
      "2         2\n",
      "3         2\n",
      "4         2\n",
      "         ..\n",
      "122065    0\n",
      "122066    0\n",
      "122067    0\n",
      "122068    0\n",
      "122069    0\n",
      "Name: 601, Length: 122070, dtype: int32\n"
     ]
    }
   ],
   "source": [
    "print(Y)"
   ]
  },
  {
   "cell_type": "code",
   "execution_count": 19,
   "metadata": {},
   "outputs": [
    {
     "name": "stdout",
     "output_type": "stream",
     "text": [
      "(91552, 600)\n",
      "(91552,)\n",
      "36296     2\n",
      "94576     0\n",
      "30125     2\n",
      "62552     1\n",
      "73468     1\n",
      "         ..\n",
      "105471    0\n",
      "10896     2\n",
      "26916     2\n",
      "16195     2\n",
      "7213      2\n",
      "Name: 601, Length: 1000, dtype: int32\n"
     ]
    }
   ],
   "source": [
    "print(X_train.shape)\n",
    "print(Y_train.shape)\n",
    "print(Y_train[0:1000])"
   ]
  },
  {
   "cell_type": "code",
   "execution_count": 7,
   "metadata": {},
   "outputs": [],
   "source": [
    "from sklearn.model_selection import train_test_split\n",
    "import numpy as np\n",
    "import pandas as pd\n",
    "import tensorflow as tf  #1.14\n",
    "\n",
    "seed = 105\n",
    "np.random.seed(seed)\n",
    "\n",
    "data = pd.read_csv('compile.csv', sep=\"|\", header=None,low_memory=False)\n",
    "X = data.iloc[:,0:600].astype(float)\n",
    "Y = (data.iloc[:,601].astype(int))\n",
    "  \n",
    "    \n"
   ]
  },
  {
   "cell_type": "code",
   "execution_count": 9,
   "metadata": {},
   "outputs": [],
   "source": [
    "X_train, X_test, Y_train, Y_test = train_test_split(X, Y, test_size=0.25, random_state=50)"
   ]
  },
  {
   "cell_type": "code",
   "execution_count": 12,
   "metadata": {},
   "outputs": [
    {
     "name": "stdout",
     "output_type": "stream",
     "text": [
      "Train on 91431 samples, validate on 30477 samples\n",
      "Epoch 1/5\n",
      "91431/91431 [==============================] - 156s 2ms/sample - loss: 1.0990 - sparse_categorical_crossentropy: 1.0990 - acc: 0.3335 - val_loss: 1.0995 - val_sparse_categorical_crossentropy: 1.0995 - val_acc: 0.3321\n",
      "Epoch 2/5\n",
      "91431/91431 [==============================] - 157s 2ms/sample - loss: 1.0990 - sparse_categorical_crossentropy: 1.0990 - acc: 0.3329 - val_loss: 1.1001 - val_sparse_categorical_crossentropy: 1.1001 - val_acc: 0.3324\n",
      "Epoch 3/5\n",
      "91431/91431 [==============================] - 161s 2ms/sample - loss: 0.8501 - sparse_categorical_crossentropy: 0.8501 - acc: 0.5530 - val_loss: 0.3863 - val_sparse_categorical_crossentropy: 0.3863 - val_acc: 0.8663\n",
      "Epoch 4/5\n",
      "91431/91431 [==============================] - 165s 2ms/sample - loss: 0.3252 - sparse_categorical_crossentropy: 0.3252 - acc: 0.8919 - val_loss: 0.3057 - val_sparse_categorical_crossentropy: 0.3057 - val_acc: 0.9091\n",
      "Epoch 5/5\n",
      "91431/91431 [==============================] - 167s 2ms/sample - loss: 0.2707 - sparse_categorical_crossentropy: 0.2707 - acc: 0.9154 - val_loss: 0.2713 - val_sparse_categorical_crossentropy: 0.2713 - val_acc: 0.9142\n",
      "\n",
      "history dict: {'loss': [1.0989887476491542, 1.09897979380214, 0.8500710176917897, 0.32515206141589875, 0.2707488122042804], 'sparse_categorical_crossentropy': [1.0989858, 1.0989847, 0.8500742, 0.3251539, 0.2707484], 'acc': [0.33351928, 0.33292866, 0.55296344, 0.8918966, 0.91541165], 'val_loss': [1.0994601618036157, 1.1000509690036806, 0.38633548180474686, 0.3056632364721561, 0.27134111997917826], 'val_sparse_categorical_crossentropy': [1.0994527, 1.10007, 0.38633683, 0.3056629, 0.2713413], 'val_acc': [0.33211932, 0.3324474, 0.8662598, 0.9091118, 0.91419756]}\n",
      "\n",
      "# Оцениваем на тестовых данных\n",
      "30477/30477 [==============================] - 4s 118us/sample - loss: 0.2713 - sparse_categorical_crossentropy: 0.2713 - acc: 0.9142\n",
      "test loss, test acc: [0.2713412646759308, 0.27134138, 0.91419756]\n"
     ]
    }
   ],
   "source": [
    "from tensorflow import keras\n",
    "from tensorflow.keras import layers\n",
    "\n",
    "inputs = keras.Input(shape=(600,), name='digits')\n",
    "x = layers.Dense(500, activation='softmax', name='dense_1')(inputs)\n",
    "y = layers.Dense(350, activation='sigmoid', name='dense_2')(x)#sigmoid\n",
    "z = layers.Dense(250, activation='softmax', name='dense_3')(y)\n",
    "z1 = layers.Dense(150, activation='softmax', name='dense_4')(z)\n",
    "#z2 = layers.Dense(50, activation='relu', name='dense_5')(z1)\n",
    "outputs = layers.Dense(3, activation='softmax', name='predictions')(z1)\n",
    "\n",
    "model = keras.Model(inputs=inputs, outputs=outputs)\n",
    "\n",
    "model.compile(optimizer=keras.optimizers.RMSprop(),\n",
    " #            loss=WeightedBinaryCrossEntropy(0.5, 1),\n",
    "              loss='sparse_categorical_crossentropy',\n",
    " #            loss='binary_crossentropy',              #'precision',\n",
    "            metrics=['sparse_categorical_crossentropy','accuracy']\n",
    "            )\n",
    "\n",
    "\n",
    "tf.keras.callbacks.ModelCheckpoint(\n",
    "    \"cnn.hdf5\", monitor='val_loss', verbose=1, save_best_only=False,\n",
    "    save_weights_only=False, mode='auto', save_freq='epoch'\n",
    "    \n",
    ")\n",
    "\n",
    "\n",
    "with tf.device('/gpu:0'):                          #5\n",
    "    history=model.fit(X_train, Y_train, batch_size=3, epochs=5, verbose=1,shuffle=1, validation_data=(X_test, Y_test),validation_split=1)\n",
    "\n",
    "print('\\nhistory dict:', history.history)\n",
    "\n",
    "print('\\n# Оцениваем на тестовых данных')\n",
    "results = model.evaluate(X_test, Y_test, batch_size=7)\n",
    "print('test loss, test acc:', results)\n",
    "\n",
    "\n"
   ]
  },
  {
   "cell_type": "code",
   "execution_count": 13,
   "metadata": {},
   "outputs": [
    {
     "data": {
      "image/png": "[encoded data removed]",
      "text/plain": [
       "<Figure size 720x864 with 3 Axes>"
      ]
     },
     "metadata": {},
     "output_type": "display_data"
    }
   ],
   "source": [
    "import numpy as np\n",
    "import matplotlib.pyplot as plt\n",
    "\n",
    "plt.style.use('ggplot')\n",
    "\n",
    "\n",
    "def plot_metrix(ax, x1, x2, title):\n",
    "    ax.plot(range(1, len(x1) + 1), x1, label='train')\n",
    "    ax.plot(range(1, len(x2) + 1), x2, label='val')\n",
    "    ax.set_ylabel(title)\n",
    "    ax.set_xlabel('Epoch')\n",
    "    ax.legend()\n",
    "    ax.margins(0)\n",
    "\n",
    "\n",
    "def plot_history(history):\n",
    "    fig, axes = plt.subplots(ncols=1, nrows=3, figsize=(10, 12))\n",
    "    ax1, ax2, ax4 = axes.ravel()\n",
    "\n",
    "    plot_metrix(ax1, history.history['acc'], history.history['val_acc'], 'acc')\n",
    "    plot_metrix(ax2, history.history['val_sparse_categorical_crossentropy'], history.history['sparse_categorical_crossentropy'], 'crossentropy')\n",
    "    #plot_metrix(ax3, history.history['f1'], history.history['val_f1'], \"$F_1$\")\n",
    "    plot_metrix(ax4, history.history['loss'], history.history['val_loss'], 'Loss')\n",
    "\n",
    "    \n",
    "\n",
    "    \n",
    "    \n",
    "    plt.show()\n",
    "\n",
    "\n",
    "plot_history(history)"
   ]
  },
  {
   "cell_type": "code",
   "execution_count": 17,
   "metadata": {},
   "outputs": [],
   "source": [
    "model.save_weights('glove.6B.300d-2.hdf5')"
   ]
  },
  {
   "cell_type": "code",
   "execution_count": null,
   "metadata": {},
   "outputs": [],
   "source": []
  },
  {
   "cell_type": "code",
   "execution_count": null,
   "metadata": {},
   "outputs": [],
   "source": []
  },
  {
   "cell_type": "markdown",
   "metadata": {},
   "source": [
    "## 5. SKOS ontology creation from text"
   ]
  },
  {
   "cell_type": "code",
   "execution_count": null,
   "metadata": {},
   "outputs": [],
   "source": [
    "import pandas as pd\n",
    "import numpy as np\n",
    "import codecs\n",
    "f='motor.txt'\n",
    "text2 = codecs.open(f, 'r', encoding='utf-8', errors='ignore')\n",
    "text=text2.read()"
   ]
  },
  {
   "cell_type": "code",
   "execution_count": 11,
   "metadata": {},
   "outputs": [
    {
     "name": "stdout",
     "output_type": "stream",
     "text": [
      "Hydraulic motor types\n",
      "Vane motor\n",
      "A vane motor consists of a housing with an eccentric bore, in which runs a rotor with vanes in it that slide in and out. The force differential created by the unbalanced force of the pressurized fluid on the vanes causes the rotor to spin in one direction. A critical element in vane motor design is how the vane tips are machined at the contact point between vane tip and motor housing. Several types of \"lip\" designs are used, and the main objective is to provide a tight seal between the inside of the motor housing and the vane, and at the same time to minimize wear and metal-to-metal contact.\n",
      "Gear motor\n",
      "A gear motor (external gear) consists of two gears, the driven gear (attached to the output shaft by way of a key, etc.) and the idler gear. High pressure oil is ported into one side of the gears, where it flows around the periphery of the gears, between the gear tips and the wall housings in which it resides, to the outlet port. The gears then mesh, not allowing the oil from the outlet side to flow back to the inlet side. For lubrication, the gear motor uses a small amount of oil from the pressurized side of the gears, bleeds this through the (typically) hydrodynamic bearings, and vents the same oil either to the low pressure side of the gears, or through a dedicated drain port on the motor housing, which is usually connected to a line that vents the motor's case pressure to the system's reservoir. An especially positive attribute of the gear motor is that catastrophic breakdown is less common than in most other types of hydraulic motors. This is because the gears gradually wear down the housing and/or main bushings, reducing the volumetric efficiency of the motor gradually until it is all but useless. This often happens long before wear causes the unit to seize or break down.\n",
      "Gerotor motor\n",
      "The gerotor motor is in essence a rotor with N-1 teeth, rotating off center in a rotor/stator with N teeth. Pressurized fluid is guided into the assembly using a (usually) axially placed plate-type distributor valve. Several different designs exist, such as the Geroller (internal or external rollers) and Nichols motors. Typically, the Gerotor motors are low-to-medium speed and medium-to-high torque.\n",
      "Axial plunger motors\n",
      "For high quality rotating drive systems plunger motors are generally used. Whereas the speed of hydraulic pumps range from 1200 to 1800 rpm, the machinery to be driven by the motor often requires a much lower speed. This means that when an axial plunger motor (swept volume maximum 2 litres) is used, a gearbox is usually needed. For a continuously adjustable swept volume, axial piston motors are used.\n",
      "Like piston (reciprocating) type pumps, the most common design of the piston type of motor is the axial. This type of motor is the most commonly used in hydraulic systems. These motors are, like their pump counterparts, available in both variable and fixed displacement designs. Typical usable (within acceptable efficiency) rotational speeds range from below 50 rpm to above 14000 rpm. Efficiencies and minimum/maximum rotational speeds are highly dependent on the design of the rotating group, and many different types are in use.\n",
      "radial piston motors\n",
      "Staffa hydraulic motor\n",
      "Calzoni hydraulic motor\n",
      "Radial piston motors are available in two basic types: Pistons pushing inward, and pistons pushing outward.\n",
      "Pistons pushing inward\n",
      "The crankshaft type (e.g. Staffa or SAI hydraulic motors) with a single cam and the pistons pushing inwards is basically an old design but is one which has extremely high starting torque characteristics. They are available in displacements from 40 cc/rev up to about 50 litres/rev but can sometimes be limited in power output. Crankshaft type radial piston motors are capable of running at \"creep\" speeds and some can run seamlessly up to 1500 rpm whilst offering virtually constant output torque characteristics. This makes them still the most versatile design.\n",
      "The single-cam-type radial piston motor exists in many different designs itself. Usually the difference lies in the way the fluid is distributed to the different pistons or cylinders, and also the design of the cylinders themselves. Some motors have pistons attached to the cam using rods (much like in an internal combustion engine), while others employ floating \"shoes\", and even spherical contact telescopic cylinders like the Parker Denison Calzoni type. Each design has its own set of pros and cons, such as freewheeling ability, high volumetric efficiency, high reliability and so on.\n",
      "Pistons pushing outward\n",
      "Multi-lobe cam ring types (e.g. Black Bruin, Rexroth, Hägglunds Drives, Poclain, Rotary Power or Eaton Hydre-MAC type) have a cam ring with multiple lobes and the piston rollers push outward against the cam ring. This produces a very smooth output with high starting torque but they are often limited in the upper speed range. This type of motor is available in a very wide range from about 1 litre/rev to 250 litres/rev. These motors are particularly good on low speed applications and can develop very high power.\n"
     ]
    }
   ],
   "source": [
    "print(text)"
   ]
  },
  {
   "cell_type": "code",
   "execution_count": 12,
   "metadata": {},
   "outputs": [],
   "source": [
    "import string\n",
    "import re\n",
    "import pymorphy2\n",
    "\n",
    "words = re.findall(r\"[\\w']+|[.,!?;]\", text)\n",
    "sen=text.split('.')"
   ]
  },
  {
   "cell_type": "code",
   "execution_count": 13,
   "metadata": {},
   "outputs": [
    {
     "name": "stdout",
     "output_type": "stream",
     "text": [
      "43\n",
      "944\n"
     ]
    }
   ],
   "source": [
    "print(len(sen))\n",
    "print(len(words))"
   ]
  },
  {
   "cell_type": "code",
   "execution_count": 6,
   "metadata": {},
   "outputs": [
    {
     "name": "stdout",
     "output_type": "stream",
     "text": [
      "['chassis and', 'commercial vehicles', 'for commercial', 'hull serves', 'in the', 'of the', 'on the', 'rolling chassis', 'serves as', 'the afv', 'the chassis', 'without the']\n"
     ]
    }
   ],
   "source": [
    "from sklearn.feature_extraction.text import CountVectorizer\n",
    "corpus = sen\n",
    "\n",
    "vectorizer = CountVectorizer(analyzer='word', ngram_range=(2, 2), max_df=20, min_df=2, max_features=200) \n",
    "X = vectorizer.fit_transform(corpus)\n",
    "print(vectorizer.get_feature_names())"
   ]
  },
  {
   "cell_type": "code",
   "execution_count": 7,
   "metadata": {},
   "outputs": [
    {
     "ename": "ValueError",
     "evalue": "max_df corresponds to < documents than min_df",
     "output_type": "error",
     "traceback": [
      "\u001b[1;31m---------------------------------------------------------------------------\u001b[0m",
      "\u001b[1;31mValueError\u001b[0m                                Traceback (most recent call last)",
      "\u001b[1;32m<ipython-input-7-040bce70834c>\u001b[0m in \u001b[0;36m<module>\u001b[1;34m\u001b[0m\n\u001b[0;32m      3\u001b[0m vectorizer = TfidfVectorizer(max_df=0.99, min_df=20, max_features=1000,\n\u001b[0;32m      4\u001b[0m                                   )\n\u001b[1;32m----> 5\u001b[1;33m \u001b[0mX\u001b[0m \u001b[1;33m=\u001b[0m \u001b[0mvectorizer\u001b[0m\u001b[1;33m.\u001b[0m\u001b[0mfit_transform\u001b[0m\u001b[1;33m(\u001b[0m\u001b[0mcorpus\u001b[0m\u001b[1;33m)\u001b[0m\u001b[1;33m\u001b[0m\u001b[0m\n\u001b[0m\u001b[0;32m      6\u001b[0m \u001b[0mprint\u001b[0m\u001b[1;33m(\u001b[0m\u001b[0mvectorizer\u001b[0m\u001b[1;33m.\u001b[0m\u001b[0mget_feature_names\u001b[0m\u001b[1;33m(\u001b[0m\u001b[1;33m)\u001b[0m\u001b[1;33m)\u001b[0m\u001b[1;33m\u001b[0m\u001b[0m\n\u001b[0;32m      7\u001b[0m \u001b[1;33m\u001b[0m\u001b[0m\n",
      "\u001b[1;32mc:\\python\\python36\\lib\\site-packages\\sklearn\\feature_extraction\\text.py\u001b[0m in \u001b[0;36mfit_transform\u001b[1;34m(self, raw_documents, y)\u001b[0m\n\u001b[0;32m   1839\u001b[0m         \"\"\"\n\u001b[0;32m   1840\u001b[0m         \u001b[0mself\u001b[0m\u001b[1;33m.\u001b[0m\u001b[0m_check_params\u001b[0m\u001b[1;33m(\u001b[0m\u001b[1;33m)\u001b[0m\u001b[1;33m\u001b[0m\u001b[0m\n\u001b[1;32m-> 1841\u001b[1;33m         \u001b[0mX\u001b[0m \u001b[1;33m=\u001b[0m \u001b[0msuper\u001b[0m\u001b[1;33m(\u001b[0m\u001b[1;33m)\u001b[0m\u001b[1;33m.\u001b[0m\u001b[0mfit_transform\u001b[0m\u001b[1;33m(\u001b[0m\u001b[0mraw_documents\u001b[0m\u001b[1;33m)\u001b[0m\u001b[1;33m\u001b[0m\u001b[0m\n\u001b[0m\u001b[0;32m   1842\u001b[0m         \u001b[0mself\u001b[0m\u001b[1;33m.\u001b[0m\u001b[0m_tfidf\u001b[0m\u001b[1;33m.\u001b[0m\u001b[0mfit\u001b[0m\u001b[1;33m(\u001b[0m\u001b[0mX\u001b[0m\u001b[1;33m)\u001b[0m\u001b[1;33m\u001b[0m\u001b[0m\n\u001b[0;32m   1843\u001b[0m         \u001b[1;31m# X is already a transformed view of raw_documents so\u001b[0m\u001b[1;33m\u001b[0m\u001b[1;33m\u001b[0m\u001b[0m\n",
      "\u001b[1;32mc:\\python\\python36\\lib\\site-packages\\sklearn\\feature_extraction\\text.py\u001b[0m in \u001b[0;36mfit_transform\u001b[1;34m(self, raw_documents, y)\u001b[0m\n\u001b[0;32m   1212\u001b[0m             \u001b[1;32mif\u001b[0m \u001b[0mmax_doc_count\u001b[0m \u001b[1;33m<\u001b[0m \u001b[0mmin_doc_count\u001b[0m\u001b[1;33m:\u001b[0m\u001b[1;33m\u001b[0m\u001b[0m\n\u001b[0;32m   1213\u001b[0m                 raise ValueError(\n\u001b[1;32m-> 1214\u001b[1;33m                     \"max_df corresponds to < documents than min_df\")\n\u001b[0m\u001b[0;32m   1215\u001b[0m             \u001b[1;32mif\u001b[0m \u001b[0mmax_features\u001b[0m \u001b[1;32mis\u001b[0m \u001b[1;32mnot\u001b[0m \u001b[1;32mNone\u001b[0m\u001b[1;33m:\u001b[0m\u001b[1;33m\u001b[0m\u001b[0m\n\u001b[0;32m   1216\u001b[0m                 \u001b[0mX\u001b[0m \u001b[1;33m=\u001b[0m \u001b[0mself\u001b[0m\u001b[1;33m.\u001b[0m\u001b[0m_sort_features\u001b[0m\u001b[1;33m(\u001b[0m\u001b[0mX\u001b[0m\u001b[1;33m,\u001b[0m \u001b[0mvocabulary\u001b[0m\u001b[1;33m)\u001b[0m\u001b[1;33m\u001b[0m\u001b[0m\n",
      "\u001b[1;31mValueError\u001b[0m: max_df corresponds to < documents than min_df"
     ]
    }
   ],
   "source": [
    "from sklearn.feature_extraction.text import TfidfVectorizer\n",
    "corpus = sen\n",
    "vectorizer = TfidfVectorizer(max_df=0.99, min_df=20, max_features=1000,\n",
    "                                  )\n",
    "X = vectorizer.fit_transform(corpus)\n",
    "print(vectorizer.get_feature_names())\n",
    "\n",
    "print(X.shape)"
   ]
  },
  {
   "cell_type": "code",
   "execution_count": 3,
   "metadata": {},
   "outputs": [
    {
     "name": "stderr",
     "output_type": "stream",
     "text": [
      "C:\\Users\\dikov\\AppData\\Roaming\\Python\\Python36\\site-packages\\tensorflow\\python\\framework\\dtypes.py:516: FutureWarning: Passing (type, 1) or '1type' as a synonym of type is deprecated; in a future version of numpy, it will be understood as (type, (1,)) / '(1,)type'.\n",
      "  _np_qint8 = np.dtype([(\"qint8\", np.int8, 1)])\n",
      "C:\\Users\\dikov\\AppData\\Roaming\\Python\\Python36\\site-packages\\tensorflow\\python\\framework\\dtypes.py:517: FutureWarning: Passing (type, 1) or '1type' as a synonym of type is deprecated; in a future version of numpy, it will be understood as (type, (1,)) / '(1,)type'.\n",
      "  _np_quint8 = np.dtype([(\"quint8\", np.uint8, 1)])\n",
      "C:\\Users\\dikov\\AppData\\Roaming\\Python\\Python36\\site-packages\\tensorflow\\python\\framework\\dtypes.py:518: FutureWarning: Passing (type, 1) or '1type' as a synonym of type is deprecated; in a future version of numpy, it will be understood as (type, (1,)) / '(1,)type'.\n",
      "  _np_qint16 = np.dtype([(\"qint16\", np.int16, 1)])\n",
      "C:\\Users\\dikov\\AppData\\Roaming\\Python\\Python36\\site-packages\\tensorflow\\python\\framework\\dtypes.py:519: FutureWarning: Passing (type, 1) or '1type' as a synonym of type is deprecated; in a future version of numpy, it will be understood as (type, (1,)) / '(1,)type'.\n",
      "  _np_quint16 = np.dtype([(\"quint16\", np.uint16, 1)])\n",
      "C:\\Users\\dikov\\AppData\\Roaming\\Python\\Python36\\site-packages\\tensorflow\\python\\framework\\dtypes.py:520: FutureWarning: Passing (type, 1) or '1type' as a synonym of type is deprecated; in a future version of numpy, it will be understood as (type, (1,)) / '(1,)type'.\n",
      "  _np_qint32 = np.dtype([(\"qint32\", np.int32, 1)])\n",
      "C:\\Users\\dikov\\AppData\\Roaming\\Python\\Python36\\site-packages\\tensorflow\\python\\framework\\dtypes.py:525: FutureWarning: Passing (type, 1) or '1type' as a synonym of type is deprecated; in a future version of numpy, it will be understood as (type, (1,)) / '(1,)type'.\n",
      "  np_resource = np.dtype([(\"resource\", np.ubyte, 1)])\n",
      "C:\\Users\\dikov\\AppData\\Roaming\\Python\\Python36\\site-packages\\tensorboard\\compat\\tensorflow_stub\\dtypes.py:541: FutureWarning: Passing (type, 1) or '1type' as a synonym of type is deprecated; in a future version of numpy, it will be understood as (type, (1,)) / '(1,)type'.\n",
      "  _np_qint8 = np.dtype([(\"qint8\", np.int8, 1)])\n",
      "C:\\Users\\dikov\\AppData\\Roaming\\Python\\Python36\\site-packages\\tensorboard\\compat\\tensorflow_stub\\dtypes.py:542: FutureWarning: Passing (type, 1) or '1type' as a synonym of type is deprecated; in a future version of numpy, it will be understood as (type, (1,)) / '(1,)type'.\n",
      "  _np_quint8 = np.dtype([(\"quint8\", np.uint8, 1)])\n",
      "C:\\Users\\dikov\\AppData\\Roaming\\Python\\Python36\\site-packages\\tensorboard\\compat\\tensorflow_stub\\dtypes.py:543: FutureWarning: Passing (type, 1) or '1type' as a synonym of type is deprecated; in a future version of numpy, it will be understood as (type, (1,)) / '(1,)type'.\n",
      "  _np_qint16 = np.dtype([(\"qint16\", np.int16, 1)])\n",
      "C:\\Users\\dikov\\AppData\\Roaming\\Python\\Python36\\site-packages\\tensorboard\\compat\\tensorflow_stub\\dtypes.py:544: FutureWarning: Passing (type, 1) or '1type' as a synonym of type is deprecated; in a future version of numpy, it will be understood as (type, (1,)) / '(1,)type'.\n",
      "  _np_quint16 = np.dtype([(\"quint16\", np.uint16, 1)])\n",
      "C:\\Users\\dikov\\AppData\\Roaming\\Python\\Python36\\site-packages\\tensorboard\\compat\\tensorflow_stub\\dtypes.py:545: FutureWarning: Passing (type, 1) or '1type' as a synonym of type is deprecated; in a future version of numpy, it will be understood as (type, (1,)) / '(1,)type'.\n",
      "  _np_qint32 = np.dtype([(\"qint32\", np.int32, 1)])\n",
      "C:\\Users\\dikov\\AppData\\Roaming\\Python\\Python36\\site-packages\\tensorboard\\compat\\tensorflow_stub\\dtypes.py:550: FutureWarning: Passing (type, 1) or '1type' as a synonym of type is deprecated; in a future version of numpy, it will be understood as (type, (1,)) / '(1,)type'.\n",
      "  np_resource = np.dtype([(\"resource\", np.ubyte, 1)])\n"
     ]
    }
   ],
   "source": [
    "import gensim\n",
    "import spacy\n",
    "import os\n",
    "import random\n",
    "import numpy as np\n",
    "from datetime import datetime\n",
    "from tqdm import tqdm"
   ]
  },
  {
   "cell_type": "code",
   "execution_count": 16,
   "metadata": {},
   "outputs": [],
   "source": [
    "def dot(A, B):\n",
    "    return sum(a * b for a, b in zip(A, B))\n",
    "# Косинусное расстояние\n",
    "def get_similarity(a, b):\n",
    "    similarity = dot(a, b) / ((dot(a, a) ** .5) * (dot(b, b) ** .5))\n",
    "    return round(similarity, 7)"
   ]
  },
  {
   "cell_type": "code",
   "execution_count": 4,
   "metadata": {},
   "outputs": [],
   "source": [
    "def get_concept_vector(concept, use_pos=False, use_lemma=True):\n",
    "    if concept in concept_buffer.keys():\n",
    "        return concept_buffer[concept]\n",
    "\n",
    "    doc = nlp(concept)\n",
    "    doc = [token for token in doc if token.pos_ not in POS_EXCEPTIONS]\n",
    "    if len(doc) == 0:\n",
    "        concept_buffer.update({concept: []})\n",
    "        return []\n",
    "\n",
    "    vectors = []\n",
    "    for token in doc:\n",
    "        try:\n",
    "            if use_pos:\n",
    "                vectors.append(model[f\"{token.text}_{token.pos_}\"])\n",
    "            else:\n",
    "                vectors.append(model[token.text])\n",
    "\n",
    "        except KeyError:\n",
    "            if use_lemma:\n",
    "                try:\n",
    "                    if use_pos:\n",
    "                        vectors.append(model[f\"{token.lemma_}_{token.pos_}\"])\n",
    "                    else:\n",
    "                        vectors.append(model[token.lemma_])\n",
    "\n",
    "                except KeyError:\n",
    "                    concept_buffer.update({concept: []})\n",
    "                    return []\n",
    "            else:\n",
    "                concept_buffer.update({concept: []})\n",
    "                return []\n",
    "\n",
    "    concept_vector = np.mean(vectors, axis=0)\n",
    "    concept_buffer.update({concept: concept_vector})\n",
    "    return concept_vector"
   ]
  },
  {
   "cell_type": "code",
   "execution_count": 5,
   "metadata": {},
   "outputs": [],
   "source": [
    "SEP = '|'\n",
    "BROADER_STRIPPED_FILE = True\n",
    "UNIQUE_BROADER_CONCEPTS = True\n",
    "POS_EXCEPTIONS = ['PUNCT',] #  'ADP'\n",
    "SPACY_MODEL = 'en_core_web_lg'\n",
    "MODELS_USING_POS_TAG = ['200l.bin', ]\n",
    "NOISE_FILE_AMOUNT = 2\n",
    "model_path='glove.6B.300d.bin'"
   ]
  },
  {
   "cell_type": "code",
   "execution_count": 6,
   "metadata": {},
   "outputs": [],
   "source": [
    "nlp = spacy.load(SPACY_MODEL)\n",
    "model = gensim.models.KeyedVectors.load_word2vec_format(model_path, binary=True)\n",
    "concept_buffer = {}"
   ]
  },
  {
   "cell_type": "code",
   "execution_count": 8,
   "metadata": {},
   "outputs": [],
   "source": [
    "related_result_file = os.path.join(\"all_motor.csv\")"
   ]
  },
  {
   "cell_type": "code",
   "execution_count": 19,
   "metadata": {},
   "outputs": [],
   "source": [
    "model_use_pos=False\n",
    "r_counter=0\n",
    "for i in range(len(words)):\n",
    "    for ii in range(len(words)):\n",
    "        if(len(words[i])>3):\n",
    "            if(len(words[ii])>3):\n",
    "                 if(words[ii]!=words[i]):\n",
    "                    w1 = nlp(words[i])\n",
    "                    wl1=w1[0].lemma_\n",
    "                    w2 = nlp(words[ii])  \n",
    "                    wl2=w2[0].lemma_\n",
    "                    main_concept_vector = get_concept_vector(wl1, model_use_pos)\n",
    "                    if any(main_concept_vector):\n",
    "                            sub_concept_vector = get_concept_vector(wl2, model_use_pos)\n",
    "                            if any(sub_concept_vector):\n",
    "                                #main_concept_vector = model[wl1]\n",
    "                                #sub_concept_vector = model[wl2]\n",
    "                                similarity = get_similarity(main_concept_vector, sub_concept_vector) \n",
    "                                #print (wl1,wl2,similarity)\n",
    "                                main_concept_vector = SEP.join(main_concept_vector.astype(str))\n",
    "                                sub_concept_vector = SEP.join(sub_concept_vector.astype(str))\n",
    "                                result = SEP.join(\n",
    "                                (wl1,wl2,main_concept_vector, str(similarity), sub_concept_vector))\n",
    "                                if result:\n",
    "                                    with open(related_result_file, 'a', encoding='utf-8') as result_file:\n",
    "                                        result_file.write(result+'\\n')\n",
    "                                    r_counter+=1"
   ]
  },
  {
   "cell_type": "code",
   "execution_count": null,
   "metadata": {},
   "outputs": [],
   "source": [
    "#load data\n",
    "data = pd.read_csv('all_motor.csv', sep=\"|\", header=None,low_memory=True)\n",
    "X = data.iloc[:,2:602].astype(float)"
   ]
  },
  {
   "cell_type": "code",
   "execution_count": 8,
   "metadata": {
    "scrolled": true
   },
   "outputs": [
    {
     "name": "stderr",
     "output_type": "stream",
     "text": [
      "C:\\Users\\dikov\\AppData\\Roaming\\Python\\Python36\\site-packages\\tensorflow\\python\\framework\\dtypes.py:516: FutureWarning: Passing (type, 1) or '1type' as a synonym of type is deprecated; in a future version of numpy, it will be understood as (type, (1,)) / '(1,)type'.\n",
      "  _np_qint8 = np.dtype([(\"qint8\", np.int8, 1)])\n",
      "C:\\Users\\dikov\\AppData\\Roaming\\Python\\Python36\\site-packages\\tensorflow\\python\\framework\\dtypes.py:517: FutureWarning: Passing (type, 1) or '1type' as a synonym of type is deprecated; in a future version of numpy, it will be understood as (type, (1,)) / '(1,)type'.\n",
      "  _np_quint8 = np.dtype([(\"quint8\", np.uint8, 1)])\n",
      "C:\\Users\\dikov\\AppData\\Roaming\\Python\\Python36\\site-packages\\tensorflow\\python\\framework\\dtypes.py:518: FutureWarning: Passing (type, 1) or '1type' as a synonym of type is deprecated; in a future version of numpy, it will be understood as (type, (1,)) / '(1,)type'.\n",
      "  _np_qint16 = np.dtype([(\"qint16\", np.int16, 1)])\n",
      "C:\\Users\\dikov\\AppData\\Roaming\\Python\\Python36\\site-packages\\tensorflow\\python\\framework\\dtypes.py:519: FutureWarning: Passing (type, 1) or '1type' as a synonym of type is deprecated; in a future version of numpy, it will be understood as (type, (1,)) / '(1,)type'.\n",
      "  _np_quint16 = np.dtype([(\"quint16\", np.uint16, 1)])\n",
      "C:\\Users\\dikov\\AppData\\Roaming\\Python\\Python36\\site-packages\\tensorflow\\python\\framework\\dtypes.py:520: FutureWarning: Passing (type, 1) or '1type' as a synonym of type is deprecated; in a future version of numpy, it will be understood as (type, (1,)) / '(1,)type'.\n",
      "  _np_qint32 = np.dtype([(\"qint32\", np.int32, 1)])\n",
      "C:\\Users\\dikov\\AppData\\Roaming\\Python\\Python36\\site-packages\\tensorflow\\python\\framework\\dtypes.py:525: FutureWarning: Passing (type, 1) or '1type' as a synonym of type is deprecated; in a future version of numpy, it will be understood as (type, (1,)) / '(1,)type'.\n",
      "  np_resource = np.dtype([(\"resource\", np.ubyte, 1)])\n",
      "C:\\Users\\dikov\\AppData\\Roaming\\Python\\Python36\\site-packages\\tensorboard\\compat\\tensorflow_stub\\dtypes.py:541: FutureWarning: Passing (type, 1) or '1type' as a synonym of type is deprecated; in a future version of numpy, it will be understood as (type, (1,)) / '(1,)type'.\n",
      "  _np_qint8 = np.dtype([(\"qint8\", np.int8, 1)])\n",
      "C:\\Users\\dikov\\AppData\\Roaming\\Python\\Python36\\site-packages\\tensorboard\\compat\\tensorflow_stub\\dtypes.py:542: FutureWarning: Passing (type, 1) or '1type' as a synonym of type is deprecated; in a future version of numpy, it will be understood as (type, (1,)) / '(1,)type'.\n",
      "  _np_quint8 = np.dtype([(\"quint8\", np.uint8, 1)])\n",
      "C:\\Users\\dikov\\AppData\\Roaming\\Python\\Python36\\site-packages\\tensorboard\\compat\\tensorflow_stub\\dtypes.py:543: FutureWarning: Passing (type, 1) or '1type' as a synonym of type is deprecated; in a future version of numpy, it will be understood as (type, (1,)) / '(1,)type'.\n",
      "  _np_qint16 = np.dtype([(\"qint16\", np.int16, 1)])\n",
      "C:\\Users\\dikov\\AppData\\Roaming\\Python\\Python36\\site-packages\\tensorboard\\compat\\tensorflow_stub\\dtypes.py:544: FutureWarning: Passing (type, 1) or '1type' as a synonym of type is deprecated; in a future version of numpy, it will be understood as (type, (1,)) / '(1,)type'.\n",
      "  _np_quint16 = np.dtype([(\"quint16\", np.uint16, 1)])\n",
      "C:\\Users\\dikov\\AppData\\Roaming\\Python\\Python36\\site-packages\\tensorboard\\compat\\tensorflow_stub\\dtypes.py:545: FutureWarning: Passing (type, 1) or '1type' as a synonym of type is deprecated; in a future version of numpy, it will be understood as (type, (1,)) / '(1,)type'.\n",
      "  _np_qint32 = np.dtype([(\"qint32\", np.int32, 1)])\n",
      "C:\\Users\\dikov\\AppData\\Roaming\\Python\\Python36\\site-packages\\tensorboard\\compat\\tensorflow_stub\\dtypes.py:550: FutureWarning: Passing (type, 1) or '1type' as a synonym of type is deprecated; in a future version of numpy, it will be understood as (type, (1,)) / '(1,)type'.\n",
      "  np_resource = np.dtype([(\"resource\", np.ubyte, 1)])\n"
     ]
    },
    {
     "name": "stdout",
     "output_type": "stream",
     "text": [
      "WARNING:tensorflow:From C:\\Users\\dikov\\AppData\\Roaming\\Python\\Python36\\site-packages\\tensorflow\\python\\ops\\init_ops.py:1251: calling VarianceScaling.__init__ (from tensorflow.python.ops.init_ops) with dtype is deprecated and will be removed in a future version.\n",
      "Instructions for updating:\n",
      "Call initializer instance with the dtype argument instead of passing it to the constructor\n"
     ]
    }
   ],
   "source": [
    "#load model for prediction\n",
    "from tensorflow import keras\n",
    "from tensorflow.keras import layers\n",
    "inputs = keras.Input(shape=(600,), name='digits')\n",
    "x = layers.Dense(500, activation='softmax', name='dense_1')(inputs)\n",
    "y = layers.Dense(350, activation='sigmoid', name='dense_2')(x)#sigmoid\n",
    "z = layers.Dense(250, activation='softmax', name='dense_3')(y)\n",
    "z1 = layers.Dense(150, activation='softmax', name='dense_4')(z)\n",
    "outputs = layers.Dense(3, activation='softmax', name='predictions')(z1)\n",
    "model = keras.Model(inputs=inputs, outputs=outputs)\n",
    "model.load_weights('glove.6B.300d-2.hdf5')"
   ]
  },
  {
   "cell_type": "code",
   "execution_count": 4,
   "metadata": {},
   "outputs": [],
   "source": [
    "S = data.iloc[:,0:2].astype(str)"
   ]
  },
  {
   "cell_type": "code",
   "execution_count": 5,
   "metadata": {},
   "outputs": [
    {
     "name": "stdout",
     "output_type": "stream",
     "text": [
      "motor\n"
     ]
    }
   ],
   "source": [
    "print(S[0][1])"
   ]
  },
  {
   "cell_type": "code",
   "execution_count": 9,
   "metadata": {},
   "outputs": [],
   "source": [
    "#predict\n",
    "predictions = model.predict(X)"
   ]
  },
  {
   "cell_type": "code",
   "execution_count": 11,
   "metadata": {},
   "outputs": [
    {
     "name": "stdout",
     "output_type": "stream",
     "text": [
      "[[4.8267882e-02 2.7006367e-01 6.8166846e-01]\n",
      " [2.7778295e-01 2.6701847e-01 4.5519853e-01]\n",
      " [2.1164073e-01 3.2086399e-01 4.6749526e-01]\n",
      " [2.1164073e-01 3.2086399e-01 4.6749526e-01]\n",
      " [9.9812549e-01 7.3818432e-04 1.1363311e-03]\n",
      " [9.2460090e-01 2.4735402e-02 5.0663732e-02]\n",
      " [3.4082811e-02 6.9966978e-01 2.6624748e-01]\n",
      " [9.9895561e-01 4.2123467e-04 6.2319555e-04]\n",
      " [3.0203782e-02 7.5137466e-01 2.1842156e-01]\n",
      " [2.5858122e-04 4.8050783e-03 9.9493635e-01]\n",
      " [2.9276258e-01 2.6194248e-01 4.4529495e-01]\n",
      " [4.3216143e-02 4.8165116e-01 4.7513264e-01]\n",
      " [6.7683044e-03 9.1311753e-01 8.0114119e-02]\n",
      " [6.2048759e-02 4.3951958e-01 4.9843174e-01]\n",
      " [9.9833292e-01 6.5983663e-04 1.0072929e-03]\n",
      " [3.8322661e-02 3.2022119e-01 6.4145613e-01]\n",
      " [9.9833459e-01 6.5920060e-04 1.0062519e-03]\n",
      " [9.2022145e-01 2.6118033e-02 5.3660508e-02]\n",
      " [1.0278156e-01 3.9211813e-01 5.0510031e-01]\n",
      " [2.4153626e-01 2.5710690e-01 5.0135684e-01]]\n",
      "0.03408281\n"
     ]
    }
   ],
   "source": [
    "print(predictions[0:20])\n",
    "print(predictions[6][0])"
   ]
  },
  {
   "cell_type": "code",
   "execution_count": 16,
   "metadata": {},
   "outputs": [
    {
     "name": "stdout",
     "output_type": "stream",
     "text": [
      "rotor  -broader-   run\n",
      "force  -broader-   differential\n",
      "pressurized  -broader-   fluid\n",
      "drive  -broader-   gear\n",
      "gear  -broader-   gear\n",
      "attach  -broader-   gear\n",
      "idler  -broader-   gear\n",
      "outlet  -broader-   port\n",
      "inlet  -broader-   side\n",
      "small  -broader-   amount\n",
      "drain  -broader-   port\n",
      "vent  -broader-   line\n",
      "hydraulic  -broader-   motor\n",
      "distributor  -broader-   valve\n",
      "plunger  -broader-   motor\n",
      "rotate  -broader-   motor\n",
      "drive  -broader-   system\n",
      "plunger  -broader-   motor\n",
      "hydraulic  -broader-   pump\n",
      "plunger  -broader-   motor\n",
      "litre  -broader-   motor\n",
      "piston  -broader-   motor\n",
      "hydraulic  -broader-   system\n",
      "piston  -broader-   motor\n",
      "hydraulic  -broader-   motor\n",
      "hydraulic  -broader-   motor\n",
      "piston  -broader-   motor\n",
      "hydraulic  -broader-   motor\n",
      "piston  -broader-   motor\n",
      "piston  -broader-   motor\n",
      "cylinder  -broader-   shoe\n",
      "con  -broader-   pro\n",
      "rotary  -broader-   power\n",
      "piston  -broader-   roller\n"
     ]
    }
   ],
   "source": [
    "# float to skos relation\n",
    "rel=-1\n",
    "for i in range(0,297):\n",
    "    if (predictions[i][0]>0.6): \n",
    "      #  if (predictions[i][1]<0.01):\n",
    "      #      if (predictions[i][2]<0.01): \n",
    "                rel =0\n",
    "                #print(S[0][i],' `0` ',S[1][i])\n",
    "    if (predictions[i][1]>0.6): \n",
    "      #  if (predictions[i][2]<0.01): \n",
    "      #      if (predictions[i][0]<0.01): \n",
    "                rel =1\n",
    "                print(S[0][i],' -broader-  ',S[1][i])\n",
    "                #print(predictions[i])\n",
    "    if (predictions[i][2]>0.6):\n",
    "      #  if (predictions[i][1]<0.01): \n",
    "       #     if (predictions[i][0]<0.01): \n",
    "                rel =2\n",
    "                #print(S[0][i],' `2` ',S[1][i])\n",
    "        "
   ]
  },
  {
   "cell_type": "code",
   "execution_count": null,
   "metadata": {},
   "outputs": [],
   "source": []
  }
 ],
 "metadata": {
  "kernelspec": {
   "display_name": "Python 3",
   "language": "python",
   "name": "python3"
  },
  "language_info": {
   "codemirror_mode": {
    "name": "ipython",
    "version": 3
   },
   "file_extension": ".py",
   "mimetype": "text/x-python",
   "name": "python",
   "nbconvert_exporter": "python",
   "pygments_lexer": "ipython3",
   "version": "3.6.6"
  }
 },
 "nbformat": 4,
 "nbformat_minor": 4
}
